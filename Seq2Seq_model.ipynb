{
  "nbformat": 4,
  "nbformat_minor": 0,
  "metadata": {
    "colab": {
      "name": "Seq2Seq_model.ipynb",
      "provenance": [],
      "authorship_tag": "ABX9TyNe0PkP06y/N0DaOLG2ycdq",
      "include_colab_link": true
    },
    "kernelspec": {
      "name": "python3",
      "display_name": "Python 3"
    }
  },
  "cells": [
    {
      "cell_type": "markdown",
      "metadata": {
        "id": "view-in-github",
        "colab_type": "text"
      },
      "source": [
        "<a href=\"https://colab.research.google.com/github/plaban1981/NLP/blob/master/Seq2Seq_model.ipynb\" target=\"_parent\"><img src=\"https://colab.research.google.com/assets/colab-badge.svg\" alt=\"Open In Colab\"/></a>"
      ]
    },
    {
      "cell_type": "code",
      "metadata": {
        "id": "09VFSZq_CFYi",
        "colab_type": "code",
        "colab": {
          "base_uri": "https://localhost:8080/",
          "height": 122
        },
        "outputId": "0737d0be-b1f6-47b2-e31f-a2da8cf5829f"
      },
      "source": [
        "from google.colab import drive\n",
        "drive.mount('/content/drive')"
      ],
      "execution_count": 1,
      "outputs": [
        {
          "output_type": "stream",
          "text": [
            "Go to this URL in a browser: https://accounts.google.com/o/oauth2/auth?client_id=947318989803-6bn6qk8qdgf4n4g3pfee6491hc0brc4i.apps.googleusercontent.com&redirect_uri=urn%3aietf%3awg%3aoauth%3a2.0%3aoob&response_type=code&scope=email%20https%3a%2f%2fwww.googleapis.com%2fauth%2fdocs.test%20https%3a%2f%2fwww.googleapis.com%2fauth%2fdrive%20https%3a%2f%2fwww.googleapis.com%2fauth%2fdrive.photos.readonly%20https%3a%2f%2fwww.googleapis.com%2fauth%2fpeopleapi.readonly\n",
            "\n",
            "Enter your authorization code:\n",
            "··········\n",
            "Mounted at /content/drive\n"
          ],
          "name": "stdout"
        }
      ]
    },
    {
      "cell_type": "code",
      "metadata": {
        "id": "X8h8T1DNCz4G",
        "colab_type": "code",
        "colab": {
          "base_uri": "https://localhost:8080/",
          "height": 68
        },
        "outputId": "d6cba25d-a8f8-4c7f-ec00-9bb686de90ab"
      },
      "source": [
        "!unzip '/content/drive/My Drive/Zindi/fra-eng.zip'"
      ],
      "execution_count": 3,
      "outputs": [
        {
          "output_type": "stream",
          "text": [
            "Archive:  /content/drive/My Drive/Zindi/fra-eng.zip\n",
            "  inflating: _about.txt              \n",
            "  inflating: fra.txt                 \n"
          ],
          "name": "stdout"
        }
      ]
    },
    {
      "cell_type": "code",
      "metadata": {
        "id": "N8lGSx1cDt0b",
        "colab_type": "code",
        "colab": {}
      },
      "source": [
        "# read txtfile into a list line by line :\n",
        "with open('fra.txt', 'r', encoding='utf-8-sig') as f:\n",
        "    text = f.readlines()"
      ],
      "execution_count": 27,
      "outputs": []
    },
    {
      "cell_type": "code",
      "metadata": {
        "id": "lxSHrsfCD3qW",
        "colab_type": "code",
        "colab": {
          "base_uri": "https://localhost:8080/",
          "height": 68
        },
        "outputId": "df4c56d1-a836-4d10-fdc7-b72683682c1a"
      },
      "source": [
        "text[3].split('\\t')"
      ],
      "execution_count": 28,
      "outputs": [
        {
          "output_type": "execute_result",
          "data": {
            "text/plain": [
              "['Run!',\n",
              " 'Cours\\u202f!',\n",
              " 'CC-BY 2.0 (France) Attribution: tatoeba.org #906328 (papabear) & #906331 (sacredceltic)\\n']"
            ]
          },
          "metadata": {
            "tags": []
          },
          "execution_count": 28
        }
      ]
    },
    {
      "cell_type": "code",
      "metadata": {
        "id": "GXC9eK7GD4Tj",
        "colab_type": "code",
        "colab": {}
      },
      "source": [
        "# Define impty lists to store the samples in them:\n",
        "en_samples = []\n",
        "de_samples = []\n",
        "\n",
        "# Define impty sets to store the characters in them:\n",
        "en_chars = set()\n",
        "de_chars = set()\n",
        "\n",
        "# Split the samples and get the character sets :\n",
        "for line in text:\n",
        "    en_ , de_,_ = line.split('\\t')\n",
        "    de_ = '\\t' + de_\n",
        "    for char in de_:\n",
        "        if char not in de_chars:\n",
        "            de_chars.add(char)\n",
        "    for char in en_:\n",
        "        if char not in en_chars:\n",
        "            en_chars.add(char)\n",
        "    en_samples.append(en_)\n",
        "    de_samples.append(de_)\n",
        "   \n",
        "# Add the chars \\t and \\n to the sets \n",
        "de_chars.add('\\n')\n",
        "de_chars.add('\\t')\n",
        "\n",
        "en_chars.add('\\n')\n",
        "en_chars.add('\\t')    \n"
      ],
      "execution_count": 11,
      "outputs": []
    },
    {
      "cell_type": "code",
      "metadata": {
        "id": "RWn2-pJnEbSa",
        "colab_type": "code",
        "colab": {
          "base_uri": "https://localhost:8080/",
          "height": 34
        },
        "outputId": "0a9c8317-bd07-4443-e6d6-f890013ab5bf"
      },
      "source": [
        "en_samples[:3],de_samples[:3]"
      ],
      "execution_count": 16,
      "outputs": [
        {
          "output_type": "execute_result",
          "data": {
            "text/plain": [
              "(['Go.', 'Hi.', 'Hi.'], ['\\tVa !', '\\tSalut !', '\\tSalut.'])"
            ]
          },
          "metadata": {
            "tags": []
          },
          "execution_count": 16
        }
      ]
    },
    {
      "cell_type": "markdown",
      "metadata": {
        "id": "Mtyzz6IDF7IZ",
        "colab_type": "text"
      },
      "source": [
        "* E → the input text ( Will be encoded later )\n",
        "* D → the output text ( Will be decoded later )"
      ]
    },
    {
      "cell_type": "code",
      "metadata": {
        "id": "5JXgB8ZmEfiy",
        "colab_type": "code",
        "colab": {
          "base_uri": "https://localhost:8080/",
          "height": 119
        },
        "outputId": "4442d693-754e-4025-cc46-9e9e0376f21f"
      },
      "source": [
        "print(f'number of E samples {len(en_samples)}')\n",
        "print(f'number of D samples {len(de_samples)}')\n",
        "print(f'number of E chars {len(en_chars)}')\n",
        "print(f'number of D chars {len(de_chars)}')\n",
        "print(f'Longest E sample has {max([len(x) for x in en_samples])} characters')\n",
        "print(f'Longest D sample has {max([len(x) for x in de_samples])} characters')"
      ],
      "execution_count": 24,
      "outputs": [
        {
          "output_type": "stream",
          "text": [
            "number of E samples 177210\n",
            "number of D samples 177210\n",
            "number of E chars 92\n",
            "number of D chars 115\n",
            "Longest E sample has 262 characters\n",
            "Longest D sample has 326 characters\n"
          ],
          "name": "stdout"
        }
      ]
    },
    {
      "cell_type": "code",
      "metadata": {
        "id": "nmsh4-lTFJgS",
        "colab_type": "code",
        "colab": {}
      },
      "source": [
        "import os, sys\n",
        "\n",
        "from keras.models import Model\n",
        "from keras.layers import Input, LSTM, GRU, Dense, Embedding\n",
        "from keras.preprocessing.text import Tokenizer\n",
        "from keras.preprocessing.sequence import pad_sequences\n",
        "from keras.utils import to_categorical\n",
        "import numpy as np\n",
        "import matplotlib.pyplot as plt"
      ],
      "execution_count": 29,
      "outputs": []
    },
    {
      "cell_type": "code",
      "metadata": {
        "id": "7If3w-Vicxtk",
        "colab_type": "code",
        "colab": {}
      },
      "source": [
        "BATCH_SIZE = 64\n",
        "EPOCHS = 20\n",
        "LSTM_NODES =256\n",
        "NUM_SENTENCES = 20000\n",
        "MAX_SENTENCE_LENGTH = 50\n",
        "MAX_NUM_WORDS = 20000\n",
        "EMBEDDING_SIZE = 100"
      ],
      "execution_count": 30,
      "outputs": []
    },
    {
      "cell_type": "markdown",
      "metadata": {
        "id": "talYgsP3e2dc",
        "colab_type": "text"
      },
      "source": [
        "## Data Preprocessing"
      ]
    },
    {
      "cell_type": "markdown",
      "metadata": {
        "id": "CvbL3wsaf4Ut",
        "colab_type": "text"
      },
      "source": [
        "The **English sentence is inserted into the input_sentences[] list**. \n",
        "\n",
        "The substring to the right of the tab is the corresponding **translated French sentence is inserted into variable output**. \n",
        "\n",
        "The <eos> token, which marks the end-of-sentence is prefixed to the translated sentence, and the resultant sentence is appended to the output_sentences[] list. \n",
        "\n",
        "Similarly, the <sos> token, which stands for \"start of sentence\", is concatenated at the start of the translated sentence and the result is added to the output_sentences_inputs[] list. \n",
        "\n",
        "*The loop terminates if the number of sentences added to the lists is greater than the NUM_SENTENCES variable, \n",
        "i.e. 20,000.*"
      ]
    },
    {
      "cell_type": "code",
      "metadata": {
        "id": "aaatsSNPe5ED",
        "colab_type": "code",
        "colab": {
          "base_uri": "https://localhost:8080/",
          "height": 68
        },
        "outputId": "f4e266a0-1c96-409a-ef98-feb2fcd1b39c"
      },
      "source": [
        "input_sentences = []\n",
        "output_sentences = []\n",
        "output_sentences_inputs = []\n",
        "\n",
        "count = 0\n",
        "for line in open(r'/content/fra.txt', encoding=\"utf-8\"):\n",
        "    count += 1\n",
        "\n",
        "    if count > NUM_SENTENCES:\n",
        "        break\n",
        "\n",
        "    if '\\t' not in line:\n",
        "        continue\n",
        "\n",
        "    input_sentence, output,_ = line.rstrip().split('\\t')\n",
        "\n",
        "    output_sentence = output + ' <eos>'\n",
        "    output_sentence_input = '<sos> ' + output\n",
        "\n",
        "    input_sentences.append(input_sentence)\n",
        "    output_sentences.append(output_sentence)\n",
        "    output_sentences_inputs.append(output_sentence_input)\n",
        "\n",
        "print(\"num samples input:\", len(input_sentences))\n",
        "print(\"num samples output:\", len(output_sentences))\n",
        "print(\"num samples output input:\", len(output_sentences_inputs))"
      ],
      "execution_count": 33,
      "outputs": [
        {
          "output_type": "stream",
          "text": [
            "num samples input: 20000\n",
            "num samples output: 20000\n",
            "num samples output input: 20000\n"
          ],
          "name": "stdout"
        }
      ]
    },
    {
      "cell_type": "code",
      "metadata": {
        "id": "OhvXnA1Xe7LC",
        "colab_type": "code",
        "colab": {
          "base_uri": "https://localhost:8080/",
          "height": 34
        },
        "outputId": "11bc0bf9-0ed4-4640-bd17-6703584bfac4"
      },
      "source": [
        "input_sentences[0],output_sentences[0],output_sentences_inputs[0]"
      ],
      "execution_count": 35,
      "outputs": [
        {
          "output_type": "execute_result",
          "data": {
            "text/plain": [
              "('Go.', 'Va ! <eos>', '<sos> Va !')"
            ]
          },
          "metadata": {
            "tags": []
          },
          "execution_count": 35
        }
      ]
    },
    {
      "cell_type": "markdown",
      "metadata": {
        "id": "GCW9mKZlh5sq",
        "colab_type": "text"
      },
      "source": [
        "Randomly print a sentence from the input_sentences[], output_sentences[], and output_sentences_inputs[] lists:"
      ]
    },
    {
      "cell_type": "code",
      "metadata": {
        "id": "gvUzqEwKfMoA",
        "colab_type": "code",
        "colab": {
          "base_uri": "https://localhost:8080/",
          "height": 68
        },
        "outputId": "fd4465a3-5da3-491b-8bc2-294aba30e662"
      },
      "source": [
        "print(input_sentences[172]) # input language \n",
        "print(output_sentences[172]) # translated French sentence as output\n",
        "print(output_sentences_inputs[172]) # input to the decoder"
      ],
      "execution_count": 36,
      "outputs": [
        {
          "output_type": "stream",
          "text": [
            "I'm hit!\n",
            "Je suis touchée ! <eos>\n",
            "<sos> Je suis touchée !\n"
          ],
          "name": "stdout"
        }
      ]
    },
    {
      "cell_type": "code",
      "metadata": {
        "id": "JVYGT8s4iF18",
        "colab_type": "code",
        "colab": {
          "base_uri": "https://localhost:8080/",
          "height": 68
        },
        "outputId": "e34dec55-e99e-4768-cd4b-70be19ba495e"
      },
      "source": [
        "print(input_sentences[200]) # input language \n",
        "print(output_sentences[200]) # translated French sentence as output\n",
        "print(output_sentences_inputs[200]) # input to the decoder"
      ],
      "execution_count": 38,
      "outputs": [
        {
          "output_type": "stream",
          "text": [
            "Skip it.\n",
            "Pas grave. <eos>\n",
            "<sos> Pas grave.\n"
          ],
          "name": "stdout"
        }
      ]
    },
    {
      "cell_type": "markdown",
      "metadata": {
        "id": "JPkJI8wy3eoi",
        "colab_type": "text"
      },
      "source": [
        "## Tokenization and Pading\n",
        "\n",
        "For tokenization, the Tokenizer class from the keras.preprocessing.text library can be used. The tokenizer class performs two tasks:\n",
        "\n",
        "* It divides a sentence into the corresponding list of word\n",
        "* Then it converts the words to integers"
      ]
    },
    {
      "cell_type": "code",
      "metadata": {
        "id": "slsQz5TDjKUV",
        "colab_type": "code",
        "colab": {
          "base_uri": "https://localhost:8080/",
          "height": 51
        },
        "outputId": "81576267-009c-4404-d5eb-5b95b43c5009"
      },
      "source": [
        "input_tokenizer = Tokenizer(num_words=MAX_NUM_WORDS)\n",
        "input_tokenizer.fit_on_texts(input_sentences)\n",
        "input_integer_seq = input_tokenizer.texts_to_sequences(input_sentences)\n",
        "\n",
        "word2idx_inputs = input_tokenizer.word_index\n",
        "print('Total unique words in the input: %s' % len(word2idx_inputs))\n",
        "\n",
        "max_input_len = max(len(sen) for sen in input_integer_seq)\n",
        "print(\"Length of longest sentence in input: %g\" % max_input_len)"
      ],
      "execution_count": 39,
      "outputs": [
        {
          "output_type": "stream",
          "text": [
            "Total unique words in the input: 3501\n",
            "Length of longest sentence in input: 6\n"
          ],
          "name": "stdout"
        }
      ]
    },
    {
      "cell_type": "markdown",
      "metadata": {
        "id": "TcJI58154Od5",
        "colab_type": "text"
      },
      "source": [
        "The word_index attribute of the Tokenizer class returns a word-to-index dictionary where words are the keys and the corresponding integers are the values"
      ]
    },
    {
      "cell_type": "code",
      "metadata": {
        "id": "ngfmr7MG3_jo",
        "colab_type": "code",
        "colab": {
          "base_uri": "https://localhost:8080/",
          "height": 1000
        },
        "outputId": "a211c5a1-e4da-4413-c490-5e222099541d"
      },
      "source": [
        "word2idx_inputs"
      ],
      "execution_count": 40,
      "outputs": [
        {
          "output_type": "execute_result",
          "data": {
            "text/plain": [
              "{'i': 1,\n",
              " 'you': 2,\n",
              " 'a': 3,\n",
              " 'it': 4,\n",
              " \"i'm\": 5,\n",
              " 'is': 6,\n",
              " 'he': 7,\n",
              " 'tom': 8,\n",
              " \"you're\": 9,\n",
              " 'the': 10,\n",
              " 'are': 11,\n",
              " 'me': 12,\n",
              " 'we': 13,\n",
              " 'was': 14,\n",
              " 'this': 15,\n",
              " 'to': 16,\n",
              " 'do': 17,\n",
              " 'that': 18,\n",
              " \"it's\": 19,\n",
              " 'go': 20,\n",
              " 'have': 21,\n",
              " \"don't\": 22,\n",
              " 'not': 23,\n",
              " 'your': 24,\n",
              " 'my': 25,\n",
              " \"we're\": 26,\n",
              " 'be': 27,\n",
              " 'can': 28,\n",
              " 'no': 29,\n",
              " 'did': 30,\n",
              " 'they': 31,\n",
              " 'all': 32,\n",
              " 'like': 33,\n",
              " 'she': 34,\n",
              " \"i'll\": 35,\n",
              " 'here': 36,\n",
              " 'need': 37,\n",
              " 'in': 38,\n",
              " 'up': 39,\n",
              " 'love': 40,\n",
              " 'him': 41,\n",
              " 'on': 42,\n",
              " 'what': 43,\n",
              " \"that's\": 44,\n",
              " 'very': 45,\n",
              " 'get': 46,\n",
              " 'how': 47,\n",
              " 'want': 48,\n",
              " \"he's\": 49,\n",
              " 'come': 50,\n",
              " 'one': 51,\n",
              " \"can't\": 52,\n",
              " 'got': 53,\n",
              " 'so': 54,\n",
              " 'am': 55,\n",
              " \"they're\": 56,\n",
              " 'now': 57,\n",
              " 'out': 58,\n",
              " 'us': 59,\n",
              " 'let': 60,\n",
              " 'know': 61,\n",
              " 'just': 62,\n",
              " 'too': 63,\n",
              " 'stop': 64,\n",
              " 'look': 65,\n",
              " 'see': 66,\n",
              " 'who': 67,\n",
              " 'please': 68,\n",
              " 'feel': 69,\n",
              " 'good': 70,\n",
              " 'will': 71,\n",
              " 'there': 72,\n",
              " 'had': 73,\n",
              " 'help': 74,\n",
              " 'home': 75,\n",
              " 'happy': 76,\n",
              " 'try': 77,\n",
              " 'for': 78,\n",
              " 'give': 79,\n",
              " 'must': 80,\n",
              " 'hate': 81,\n",
              " 'at': 82,\n",
              " 'saw': 83,\n",
              " \"let's\": 84,\n",
              " 'has': 85,\n",
              " 'take': 86,\n",
              " 'were': 87,\n",
              " 'of': 88,\n",
              " 'busy': 89,\n",
              " 'back': 90,\n",
              " 'car': 91,\n",
              " 'alone': 92,\n",
              " 'work': 93,\n",
              " 'her': 94,\n",
              " 'made': 95,\n",
              " \"didn't\": 96,\n",
              " 'stay': 97,\n",
              " 'leave': 98,\n",
              " 'dog': 99,\n",
              " 'lost': 100,\n",
              " 'them': 101,\n",
              " \"tom's\": 102,\n",
              " 'right': 103,\n",
              " 'an': 104,\n",
              " 'keep': 105,\n",
              " 'eat': 106,\n",
              " 'job': 107,\n",
              " \"i've\": 108,\n",
              " 'felt': 109,\n",
              " 'wait': 110,\n",
              " 'nice': 111,\n",
              " 'may': 112,\n",
              " 'again': 113,\n",
              " \"what's\": 114,\n",
              " 'drink': 115,\n",
              " 'his': 116,\n",
              " 'mine': 117,\n",
              " 'time': 118,\n",
              " 'ready': 119,\n",
              " 'went': 120,\n",
              " 'still': 121,\n",
              " 'big': 122,\n",
              " 'safe': 123,\n",
              " 'say': 124,\n",
              " 'why': 125,\n",
              " 'tired': 126,\n",
              " \"we'll\": 127,\n",
              " 'hurt': 128,\n",
              " 'with': 129,\n",
              " 'make': 130,\n",
              " 'old': 131,\n",
              " 'book': 132,\n",
              " 'down': 133,\n",
              " 'done': 134,\n",
              " 'well': 135,\n",
              " \"isn't\": 136,\n",
              " 'fun': 137,\n",
              " 'bad': 138,\n",
              " 'everyone': 139,\n",
              " 'left': 140,\n",
              " 'never': 141,\n",
              " 'about': 142,\n",
              " 'tell': 143,\n",
              " 'going': 144,\n",
              " 'new': 145,\n",
              " 'hurry': 146,\n",
              " 'lot': 147,\n",
              " 'really': 148,\n",
              " 'off': 149,\n",
              " 'some': 150,\n",
              " 'talk': 151,\n",
              " \"wasn't\": 152,\n",
              " 'money': 153,\n",
              " 'open': 154,\n",
              " 'died': 155,\n",
              " 'hard': 156,\n",
              " 'ok': 157,\n",
              " 'trust': 158,\n",
              " 'ask': 159,\n",
              " 'late': 160,\n",
              " 'call': 161,\n",
              " 'said': 162,\n",
              " 'live': 163,\n",
              " \"won't\": 164,\n",
              " 'cold': 165,\n",
              " 'sick': 166,\n",
              " 'sure': 167,\n",
              " 'over': 168,\n",
              " 'yours': 169,\n",
              " 'careful': 170,\n",
              " 'could': 171,\n",
              " 'should': 172,\n",
              " 'enough': 173,\n",
              " \"who's\": 174,\n",
              " 'bed': 175,\n",
              " 'easy': 176,\n",
              " 'read': 177,\n",
              " 'wrong': 178,\n",
              " 'miss': 179,\n",
              " 'lucky': 180,\n",
              " 'day': 181,\n",
              " 'more': 182,\n",
              " \"where's\": 183,\n",
              " 'cat': 184,\n",
              " 'drunk': 185,\n",
              " \"she's\": 186,\n",
              " 'found': 187,\n",
              " 'hear': 188,\n",
              " 'does': 189,\n",
              " 'door': 190,\n",
              " 'run': 191,\n",
              " 'man': 192,\n",
              " 'hope': 193,\n",
              " 'likes': 194,\n",
              " 'think': 195,\n",
              " \"i'd\": 196,\n",
              " 'where': 197,\n",
              " 'way': 198,\n",
              " 'away': 199,\n",
              " 'tall': 200,\n",
              " 'watch': 201,\n",
              " 'crazy': 202,\n",
              " 'dead': 203,\n",
              " 'upset': 204,\n",
              " 'find': 205,\n",
              " 'win': 206,\n",
              " \"how's\": 207,\n",
              " 'gave': 208,\n",
              " 'early': 209,\n",
              " 'naive': 210,\n",
              " 'french': 211,\n",
              " 'came': 212,\n",
              " 'sit': 213,\n",
              " 'swim': 214,\n",
              " 'broke': 215,\n",
              " 'close': 216,\n",
              " 'today': 217,\n",
              " 'pay': 218,\n",
              " 'walk': 219,\n",
              " 'sleep': 220,\n",
              " 'our': 221,\n",
              " 'room': 222,\n",
              " 'much': 223,\n",
              " \"there's\": 224,\n",
              " 'funny': 225,\n",
              " 'mary': 226,\n",
              " 'won': 227,\n",
              " 'fat': 228,\n",
              " 'mean': 229,\n",
              " 'angry': 230,\n",
              " 'wine': 231,\n",
              " 'hungry': 232,\n",
              " 'buy': 233,\n",
              " 'fine': 234,\n",
              " 'die': 235,\n",
              " 'sorry': 236,\n",
              " 'cool': 237,\n",
              " 'perfect': 238,\n",
              " 'mad': 239,\n",
              " 'turn': 240,\n",
              " 'check': 241,\n",
              " 'water': 242,\n",
              " 'idea': 243,\n",
              " 'quit': 244,\n",
              " 'first': 245,\n",
              " 'bring': 246,\n",
              " 'remember': 247,\n",
              " 'eyes': 248,\n",
              " 'finished': 249,\n",
              " 'life': 250,\n",
              " 'nothing': 251,\n",
              " 'sad': 252,\n",
              " 'cry': 253,\n",
              " 'by': 254,\n",
              " 'looks': 255,\n",
              " 'show': 256,\n",
              " 'free': 257,\n",
              " 'knew': 258,\n",
              " 'true': 259,\n",
              " 'liked': 260,\n",
              " 'better': 261,\n",
              " 'stupid': 262,\n",
              " 'working': 263,\n",
              " 'called': 264,\n",
              " 'care': 265,\n",
              " 'anyone': 266,\n",
              " 'break': 267,\n",
              " 'beer': 268,\n",
              " 'took': 269,\n",
              " 'kept': 270,\n",
              " 'handle': 271,\n",
              " 'house': 272,\n",
              " 'forget': 273,\n",
              " 'serious': 274,\n",
              " 'outside': 275,\n",
              " 'these': 276,\n",
              " 'boy': 277,\n",
              " 'bit': 278,\n",
              " 'hat': 279,\n",
              " 'running': 280,\n",
              " 'plan': 281,\n",
              " 'everybody': 282,\n",
              " 'name': 283,\n",
              " 'lazy': 284,\n",
              " 'follow': 285,\n",
              " 'luck': 286,\n",
              " 'ran': 287,\n",
              " 'both': 288,\n",
              " 'seems': 289,\n",
              " 'as': 290,\n",
              " 'hold': 291,\n",
              " 'lie': 292,\n",
              " 'yourself': 293,\n",
              " 'doctor': 294,\n",
              " 'school': 295,\n",
              " 'boss': 296,\n",
              " 'word': 297,\n",
              " 'drive': 298,\n",
              " 'shy': 299,\n",
              " 'looked': 300,\n",
              " 'stand': 301,\n",
              " 'hot': 302,\n",
              " 'sign': 303,\n",
              " 'fired': 304,\n",
              " 'sweet': 305,\n",
              " 'prepared': 306,\n",
              " 'caught': 307,\n",
              " 'kids': 308,\n",
              " 'best': 309,\n",
              " 'music': 310,\n",
              " 'play': 311,\n",
              " 'almost': 312,\n",
              " 'touch': 313,\n",
              " 'fast': 314,\n",
              " 'weird': 315,\n",
              " 'sing': 316,\n",
              " 'lying': 317,\n",
              " 'quiet': 318,\n",
              " 'cut': 319,\n",
              " 'met': 320,\n",
              " 'anybody': 321,\n",
              " 'loves': 322,\n",
              " 'nobody': 323,\n",
              " 'rude': 324,\n",
              " 'ate': 325,\n",
              " 'shut': 326,\n",
              " 'wake': 327,\n",
              " 'fix': 328,\n",
              " 'grab': 329,\n",
              " 'speak': 330,\n",
              " 'coming': 331,\n",
              " 'gone': 332,\n",
              " 'young': 333,\n",
              " 'myself': 334,\n",
              " 'key': 335,\n",
              " 'heard': 336,\n",
              " 'owe': 337,\n",
              " 'seem': 338,\n",
              " 'everything': 339,\n",
              " 'awesome': 340,\n",
              " 'calm': 341,\n",
              " 'drop': 342,\n",
              " 'works': 343,\n",
              " 'dogs': 344,\n",
              " 'clean': 345,\n",
              " 'food': 346,\n",
              " 'start': 347,\n",
              " 'around': 348,\n",
              " 'lonely': 349,\n",
              " 'kidding': 350,\n",
              " 'bus': 351,\n",
              " 'hand': 352,\n",
              " 'girls': 353,\n",
              " 'told': 354,\n",
              " 'enjoy': 355,\n",
              " 'wanted': 356,\n",
              " \"aren't\": 357,\n",
              " 'hair': 358,\n",
              " 'yet': 359,\n",
              " 'thanks': 360,\n",
              " 'agree': 361,\n",
              " 'tried': 362,\n",
              " 'game': 363,\n",
              " 'red': 364,\n",
              " 'shot': 365,\n",
              " 'knows': 366,\n",
              " 'loved': 367,\n",
              " 'two': 368,\n",
              " 'sleepy': 369,\n",
              " 'deal': 370,\n",
              " 'saved': 371,\n",
              " 'married': 372,\n",
              " 'wise': 373,\n",
              " 'son': 374,\n",
              " 'pretty': 375,\n",
              " 'tie': 376,\n",
              " 'friends': 377,\n",
              " 'from': 378,\n",
              " 'rich': 379,\n",
              " 'inside': 380,\n",
              " 'worked': 381,\n",
              " 'strong': 382,\n",
              " 'once': 383,\n",
              " 'cheated': 384,\n",
              " 'quickly': 385,\n",
              " 'wants': 386,\n",
              " 'bag': 387,\n",
              " 'doing': 388,\n",
              " 'paid': 389,\n",
              " 'use': 390,\n",
              " \"here's\": 391,\n",
              " \"it'll\": 392,\n",
              " 'fish': 393,\n",
              " 'crying': 394,\n",
              " 'excited': 395,\n",
              " 'lunch': 396,\n",
              " 'laughed': 397,\n",
              " 'gun': 398,\n",
              " 'missed': 399,\n",
              " 'friend': 400,\n",
              " 'trusted': 401,\n",
              " 'minute': 402,\n",
              " 'lied': 403,\n",
              " 'fair': 404,\n",
              " 'after': 405,\n",
              " 'woke': 406,\n",
              " 'alive': 407,\n",
              " 'age': 408,\n",
              " 'winning': 409,\n",
              " 'hates': 410,\n",
              " 'and': 411,\n",
              " 'coffee': 412,\n",
              " 'place': 413,\n",
              " 'fell': 414,\n",
              " 'kind': 415,\n",
              " 'ahead': 416,\n",
              " 'cute': 417,\n",
              " 'relaxed': 418,\n",
              " 'tv': 419,\n",
              " 'hired': 420,\n",
              " 'fight': 421,\n",
              " 'laugh': 422,\n",
              " 'bored': 423,\n",
              " 'milk': 424,\n",
              " 'change': 425,\n",
              " 'nervous': 426,\n",
              " 'reading': 427,\n",
              " 'talking': 428,\n",
              " 'joke': 429,\n",
              " 'scared': 430,\n",
              " 'afraid': 431,\n",
              " 'needed': 432,\n",
              " 'lock': 433,\n",
              " 'been': 434,\n",
              " 'only': 435,\n",
              " 'slow': 436,\n",
              " 'long': 437,\n",
              " 'forgot': 438,\n",
              " 'answer': 439,\n",
              " 'catch': 440,\n",
              " 'dying': 441,\n",
              " 'joking': 442,\n",
              " 'normal': 443,\n",
              " 'problem': 444,\n",
              " 'needs': 445,\n",
              " 'asleep': 446,\n",
              " 'bought': 447,\n",
              " 'nuts': 448,\n",
              " 'drank': 449,\n",
              " 'confused': 450,\n",
              " 'seen': 451,\n",
              " 'arm': 452,\n",
              " 'cruel': 453,\n",
              " 'something': 454,\n",
              " 'already': 455,\n",
              " 'wife': 456,\n",
              " 'teacher': 457,\n",
              " \"we've\": 458,\n",
              " 'began': 459,\n",
              " 'being': 460,\n",
              " 'those': 461,\n",
              " 'cried': 462,\n",
              " 'smoke': 463,\n",
              " 'join': 464,\n",
              " 'kiss': 465,\n",
              " 'weak': 466,\n",
              " 'hurts': 467,\n",
              " 'write': 468,\n",
              " 'soon': 469,\n",
              " 'move': 470,\n",
              " 'duty': 471,\n",
              " 'guess': 472,\n",
              " 'last': 473,\n",
              " 'ignore': 474,\n",
              " 'mind': 475,\n",
              " 'smell': 476,\n",
              " 'creative': 477,\n",
              " 'song': 478,\n",
              " 'great': 479,\n",
              " 'blame': 480,\n",
              " 'mom': 481,\n",
              " 'town': 482,\n",
              " 'trip': 483,\n",
              " 'betrayed': 484,\n",
              " 'listen': 485,\n",
              " 'full': 486,\n",
              " 'excuse': 487,\n",
              " 'beg': 488,\n",
              " 'smart': 489,\n",
              " 'worry': 490,\n",
              " 'yes': 491,\n",
              " 'liar': 492,\n",
              " 'famous': 493,\n",
              " 'honest': 494,\n",
              " 'study': 495,\n",
              " \"you've\": 496,\n",
              " 'cats': 497,\n",
              " 'often': 498,\n",
              " 'set': 499,\n",
              " 'unlucky': 500,\n",
              " 'put': 501,\n",
              " 'changed': 502,\n",
              " 'pain': 503,\n",
              " 'kill': 504,\n",
              " 'innocent': 505,\n",
              " 'feet': 506,\n",
              " 'dream': 507,\n",
              " 'god': 508,\n",
              " 'own': 509,\n",
              " 'horse': 510,\n",
              " 'quite': 511,\n",
              " 'exhausted': 512,\n",
              " 'when': 513,\n",
              " 'hug': 514,\n",
              " 'real': 515,\n",
              " 'failed': 516,\n",
              " 'awful': 517,\n",
              " 'tough': 518,\n",
              " 'far': 519,\n",
              " 'spoke': 520,\n",
              " 'seat': 521,\n",
              " 'fake': 522,\n",
              " 'wish': 523,\n",
              " 'rest': 524,\n",
              " 'kissed': 525,\n",
              " 'pen': 526,\n",
              " 'shoes': 527,\n",
              " 'started': 528,\n",
              " 'father': 529,\n",
              " 'student': 530,\n",
              " 'resilient': 531,\n",
              " 'tomorrow': 532,\n",
              " \"doesn't\": 533,\n",
              " 'somebody': 534,\n",
              " 'amazing': 535,\n",
              " 'stopped': 536,\n",
              " 'sound': 537,\n",
              " 'side': 538,\n",
              " 'fit': 539,\n",
              " 'ill': 540,\n",
              " 'wet': 541,\n",
              " 'helped': 542,\n",
              " 'save': 543,\n",
              " 'retired': 544,\n",
              " 'obey': 545,\n",
              " 'blind': 546,\n",
              " 'face': 547,\n",
              " 'tea': 548,\n",
              " 'wrote': 549,\n",
              " 'blue': 550,\n",
              " 'curious': 551,\n",
              " 'news': 552,\n",
              " 'bet': 553,\n",
              " 'thirsty': 554,\n",
              " 'date': 555,\n",
              " 'escaped': 556,\n",
              " 'upstairs': 557,\n",
              " 'dumped': 558,\n",
              " 'always': 559,\n",
              " 'believe': 560,\n",
              " 'map': 561,\n",
              " 'slept': 562,\n",
              " 'warned': 563,\n",
              " \"they'll\": 564,\n",
              " \"you'll\": 565,\n",
              " 'boston': 566,\n",
              " 'light': 567,\n",
              " 'invited': 568,\n",
              " 'ambitious': 569,\n",
              " 'boring': 570,\n",
              " 'turned': 571,\n",
              " 'guy': 572,\n",
              " 'phone': 573,\n",
              " 'hang': 574,\n",
              " 'talked': 575,\n",
              " 'ugly': 576,\n",
              " 'awake': 577,\n",
              " 'naked': 578,\n",
              " 'stuck': 579,\n",
              " 'ours': 580,\n",
              " 'smiled': 581,\n",
              " 'waited': 582,\n",
              " 'wonderful': 583,\n",
              " 'idiot': 584,\n",
              " 'shoot': 585,\n",
              " 'girl': 586,\n",
              " 'hero': 587,\n",
              " 'eating': 588,\n",
              " 'moving': 589,\n",
              " 'merciful': 590,\n",
              " 'punctual': 591,\n",
              " 'asked': 592,\n",
              " 'child': 593,\n",
              " 'refused': 594,\n",
              " 'silly': 595,\n",
              " 'law': 596,\n",
              " 'someone': 597,\n",
              " 'sent': 598,\n",
              " 'japanese': 599,\n",
              " 'satisfied': 600,\n",
              " 'surprised': 601,\n",
              " 'boat': 602,\n",
              " 'point': 603,\n",
              " 'raise': 604,\n",
              " 'doors': 605,\n",
              " 'family': 606,\n",
              " 'into': 607,\n",
              " 'bill': 608,\n",
              " 'fire': 609,\n",
              " 'hit': 610,\n",
              " 'wash': 611,\n",
              " 'welcome': 612,\n",
              " 'deaf': 613,\n",
              " 'hands': 614,\n",
              " '30': 615,\n",
              " 'dark': 616,\n",
              " 'step': 617,\n",
              " 'agreed': 618,\n",
              " 'walked': 619,\n",
              " 'patient': 620,\n",
              " 'choose': 621,\n",
              " 'men': 622,\n",
              " 'sat': 623,\n",
              " 'trying': 624,\n",
              " 'pick': 625,\n",
              " 'also': 626,\n",
              " 'fear': 627,\n",
              " 'fined': 628,\n",
              " 'certain': 629,\n",
              " 'driving': 630,\n",
              " 'unhappy': 631,\n",
              " 'shall': 632,\n",
              " 'war': 633,\n",
              " 'meet': 634,\n",
              " 'confident': 635,\n",
              " 'kid': 636,\n",
              " 'lose': 637,\n",
              " 'understand': 638,\n",
              " 'singer': 639,\n",
              " 'shopping': 640,\n",
              " 'cops': 641,\n",
              " 'small': 642,\n",
              " 'jobs': 643,\n",
              " 'killed': 644,\n",
              " 'smells': 645,\n",
              " 'dinner': 646,\n",
              " 'forgetful': 647,\n",
              " 'choice': 648,\n",
              " \"one's\": 649,\n",
              " 'bell': 650,\n",
              " 'second': 651,\n",
              " 'which': 652,\n",
              " 'end': 653,\n",
              " 'watching': 654,\n",
              " 'continue': 655,\n",
              " 'every': 656,\n",
              " 'opened': 657,\n",
              " 'guys': 658,\n",
              " 'refuse': 659,\n",
              " 'helps': 660,\n",
              " 'warn': 661,\n",
              " 'cook': 662,\n",
              " 'armed': 663,\n",
              " 'pardon': 664,\n",
              " 'clear': 665,\n",
              " 'losing': 666,\n",
              " 'skinny': 667,\n",
              " 'sneaky': 668,\n",
              " 'dance': 669,\n",
              " 'jealous': 670,\n",
              " 'leaving': 671,\n",
              " 'starved': 672,\n",
              " 'trapped': 673,\n",
              " 'many': 674,\n",
              " 'grow': 675,\n",
              " 'bite': 676,\n",
              " 'hugged': 677,\n",
              " 'team': 678,\n",
              " 'proof': 679,\n",
              " 'lawyer': 680,\n",
              " 'saint': 681,\n",
              " 'powerful': 682,\n",
              " 'stubborn': 683,\n",
              " 'black': 684,\n",
              " 'looking': 685,\n",
              " 'dry': 686,\n",
              " 'gear': 687,\n",
              " 'foolish': 688,\n",
              " 'comes': 689,\n",
              " 'beautiful': 690,\n",
              " 'became': 691,\n",
              " 'fed': 692,\n",
              " 'nearly': 693,\n",
              " 'motivated': 694,\n",
              " 'powerless': 695,\n",
              " 'sense': 696,\n",
              " 'loud': 697,\n",
              " 'shoe': 698,\n",
              " 'crafty': 699,\n",
              " 'ball': 700,\n",
              " 'brought': 701,\n",
              " 'lit': 702,\n",
              " 'keys': 703,\n",
              " 'used': 704,\n",
              " 'sounds': 705,\n",
              " 'order': 706,\n",
              " 'reply': 707,\n",
              " 'students': 708,\n",
              " 'would': 709,\n",
              " 'envious': 710,\n",
              " 'store': 711,\n",
              " \"couldn't\": 712,\n",
              " 'movie': 713,\n",
              " 'truly': 714,\n",
              " 'speaks': 715,\n",
              " 'taste': 716,\n",
              " 'ski': 717,\n",
              " 'hers': 718,\n",
              " 'single': 719,\n",
              " 'night': 720,\n",
              " 'drinks': 721,\n",
              " 'decide': 722,\n",
              " 'ruthless': 723,\n",
              " 'count': 724,\n",
              " 'smile': 725,\n",
              " 'grew': 726,\n",
              " 'burned': 727,\n",
              " 'dumb': 728,\n",
              " 'cake': 729,\n",
              " 'cooking': 730,\n",
              " 'correct': 731,\n",
              " 'dancing': 732,\n",
              " 'psychic': 733,\n",
              " 'stunned': 734,\n",
              " 'worried': 735,\n",
              " 'broken': 736,\n",
              " 'send': 737,\n",
              " 'slowly': 738,\n",
              " 'brave': 739,\n",
              " 'deserve': 740,\n",
              " 'books': 741,\n",
              " 'might': 742,\n",
              " 'maybe': 743,\n",
              " 'risk': 744,\n",
              " 'decided': 745,\n",
              " 'singing': 746,\n",
              " 'arguing': 747,\n",
              " 'smoking': 748,\n",
              " 'guilty': 749,\n",
              " 'dreaming': 750,\n",
              " 'any': 751,\n",
              " 'push': 752,\n",
              " 'tricked': 753,\n",
              " 'prefer': 754,\n",
              " 'rescued': 755,\n",
              " 'wore': 756,\n",
              " 'artist': 757,\n",
              " 'depressed': 758,\n",
              " 'important': 759,\n",
              " 'listening': 760,\n",
              " 'short': 761,\n",
              " 'moment': 762,\n",
              " 'together': 763,\n",
              " 'meant': 764,\n",
              " 'arrived': 765,\n",
              " 'injured': 766,\n",
              " 'useless': 767,\n",
              " 'control': 768,\n",
              " 'chair': 769,\n",
              " 'rather': 770,\n",
              " 'smiling': 771,\n",
              " 'mother': 772,\n",
              " 'sister': 773,\n",
              " 'mouth': 774,\n",
              " 'tonight': 775,\n",
              " \"everybody's\": 776,\n",
              " 'jump': 777,\n",
              " 'oh': 778,\n",
              " 'stayed': 779,\n",
              " 'odd': 780,\n",
              " 'birds': 781,\n",
              " 'fly': 782,\n",
              " 'dizzy': 783,\n",
              " 'built': 784,\n",
              " 'loaded': 785,\n",
              " 'shaken': 786,\n",
              " 'discreet': 787,\n",
              " 'dressed': 788,\n",
              " 'apologize': 789,\n",
              " 'messed': 790,\n",
              " 'moved': 791,\n",
              " 'manage': 792,\n",
              " 'finicky': 793,\n",
              " 'sincere': 794,\n",
              " 'staying': 795,\n",
              " 'touched': 796,\n",
              " 'rain': 797,\n",
              " 'snow': 798,\n",
              " 'secret': 799,\n",
              " 'party': 800,\n",
              " 'list': 801,\n",
              " 'twins': 802,\n",
              " 'dope': 803,\n",
              " 'whose': 804,\n",
              " 'vote': 805,\n",
              " 'annoying': 806,\n",
              " 'arrogant': 807,\n",
              " 'plans': 808,\n",
              " 'sue': 809,\n",
              " 'canadian': 810,\n",
              " 'divorced': 811,\n",
              " 'involved': 812,\n",
              " 'positive': 813,\n",
              " 'sleeping': 814,\n",
              " 'shame': 815,\n",
              " 'meat': 816,\n",
              " 'yelling': 817,\n",
              " 'favor': 818,\n",
              " 'maid': 819,\n",
              " 'studying': 820,\n",
              " 'nose': 821,\n",
              " 'survive': 822,\n",
              " 'deserved': 823,\n",
              " 'note': 824,\n",
              " 'outrank': 825,\n",
              " 'volunteered': 826,\n",
              " 'danger': 827,\n",
              " 'leak': 828,\n",
              " 'trusts': 829,\n",
              " 'tense': 830,\n",
              " 'six': 831,\n",
              " 'cows': 832,\n",
              " \"everyone's\": 833,\n",
              " 'year': 834,\n",
              " 'lives': 835,\n",
              " 'believed': 836,\n",
              " 'bike': 837,\n",
              " 'travel': 838,\n",
              " 'if': 839,\n",
              " 'dangerous': 840,\n",
              " 'throw': 841,\n",
              " 'cheered': 842,\n",
              " 'afford': 843,\n",
              " 'carefully': 844,\n",
              " 'trouble': 845,\n",
              " 'children': 846,\n",
              " 'born': 847,\n",
              " 'feeling': 848,\n",
              " 'smaller': 849,\n",
              " 'little': 850,\n",
              " 'sore': 851,\n",
              " 'person': 852,\n",
              " 'knees': 853,\n",
              " 'hi': 854,\n",
              " 'hello': 855,\n",
              " 'beat': 856,\n",
              " 'stood': 857,\n",
              " 'bald': 858,\n",
              " 'glad': 859,\n",
              " 'thin': 860,\n",
              " 'noticed': 861,\n",
              " 'promise': 862,\n",
              " 'fussy': 863,\n",
              " 'stinks': 864,\n",
              " 'quick': 865,\n",
              " 'faster': 866,\n",
              " 'rush': 867,\n",
              " 'warm': 868,\n",
              " 'poor': 869,\n",
              " 'head': 870,\n",
              " 'envy': 871,\n",
              " 'air': 872,\n",
              " 'promised': 873,\n",
              " 'ruined': 874,\n",
              " 'cheat': 875,\n",
              " \"tom'll\": 876,\n",
              " 'even': 877,\n",
              " 'cancel': 878,\n",
              " 'finish': 879,\n",
              " 'hated': 880,\n",
              " 'disagreed': 881,\n",
              " 'cash': 882,\n",
              " 'soup': 883,\n",
              " 'eggs': 884,\n",
              " 'scream': 885,\n",
              " 'ashamed': 886,\n",
              " 'smashed': 887,\n",
              " 'through': 888,\n",
              " 'happened': 889,\n",
              " 'doll': 890,\n",
              " 'act': 891,\n",
              " 'anything': 892,\n",
              " 'fall': 893,\n",
              " 'teach': 894,\n",
              " 'resist': 895,\n",
              " 'exciting': 896,\n",
              " 'doubts': 897,\n",
              " 'explain': 898,\n",
              " 'ears': 899,\n",
              " 'grateful': 900,\n",
              " 'mistaken': 901,\n",
              " 'speaking': 902,\n",
              " 'happen': 903,\n",
              " 'waste': 904,\n",
              " 'polite': 905,\n",
              " 'stoned': 906,\n",
              " 'talented': 907,\n",
              " 'crime': 908,\n",
              " 'feed': 909,\n",
              " 'bird': 910,\n",
              " 'coat': 911,\n",
              " 'feels': 912,\n",
              " 'ignored': 913,\n",
              " 'thief': 914,\n",
              " 'adorable': 915,\n",
              " 'despise': 916,\n",
              " 'week': 917,\n",
              " 'surrendered': 918,\n",
              " 'different': 919,\n",
              " 'impressed': 920,\n",
              " 'intrigued': 921,\n",
              " 'foot': 922,\n",
              " 'later': 923,\n",
              " 'chance': 924,\n",
              " 'clever': 925,\n",
              " 'doctors': 926,\n",
              " 'bright': 927,\n",
              " 'insane': 928,\n",
              " 'camera': 929,\n",
              " 'fishing': 930,\n",
              " 'rid': 931,\n",
              " 'makes': 932,\n",
              " 'followed': 933,\n",
              " 'harm': 934,\n",
              " 'mistake': 935,\n",
              " 'fault': 936,\n",
              " 'truth': 937,\n",
              " 'desk': 938,\n",
              " 'congratulations': 939,\n",
              " 'towel': 940,\n",
              " 'partner': 941,\n",
              " 'noise': 942,\n",
              " 'swimming': 943,\n",
              " 'getting': 944,\n",
              " 'alarmed': 945,\n",
              " 'enemy': 946,\n",
              " 'charming': 947,\n",
              " 'forgiven': 948,\n",
              " 'headache': 949,\n",
              " 'candle': 950,\n",
              " 'closer': 951,\n",
              " 'power': 952,\n",
              " 'attack': 953,\n",
              " 'obeyed': 954,\n",
              " 'phoned': 955,\n",
              " 'bless': 956,\n",
              " 'hurried': 957,\n",
              " 'pack': 958,\n",
              " 'cares': 959,\n",
              " 'content': 960,\n",
              " 'facts': 961,\n",
              " 'forgive': 962,\n",
              " 'lovely': 963,\n",
              " 'fixed': 964,\n",
              " 'twin': 965,\n",
              " 'greedy': 966,\n",
              " 'matters': 967,\n",
              " 'relax': 968,\n",
              " 'aside': 969,\n",
              " 'friendly': 970,\n",
              " 'box': 971,\n",
              " 'class': 972,\n",
              " 'fruit': 973,\n",
              " 'cars': 974,\n",
              " 'dieting': 975,\n",
              " 'shocked': 976,\n",
              " 'dirty': 977,\n",
              " 'legal': 978,\n",
              " 'monday': 979,\n",
              " 'locked': 980,\n",
              " 'spring': 981,\n",
              " 'tight': 982,\n",
              " 'bath': 983,\n",
              " 'drowned': 984,\n",
              " 'evil': 985,\n",
              " 'mess': 986,\n",
              " 'next': 987,\n",
              " 'objective': 988,\n",
              " 'half': 989,\n",
              " 'another': 990,\n",
              " 'hey': 991,\n",
              " 'horrible': 992,\n",
              " 'sugar': 993,\n",
              " 'twice': 994,\n",
              " 'genius': 995,\n",
              " 'addicted': 996,\n",
              " 'fighting': 997,\n",
              " 'offended': 998,\n",
              " 'pregnant': 999,\n",
              " 'reliable': 1000,\n",
              " ...}"
            ]
          },
          "metadata": {
            "tags": []
          },
          "execution_count": 40
        }
      ]
    },
    {
      "cell_type": "code",
      "metadata": {
        "id": "ZG8dQUlS4YdP",
        "colab_type": "code",
        "colab": {
          "base_uri": "https://localhost:8080/",
          "height": 1000
        },
        "outputId": "48ebbe69-0dfb-4423-f7c8-9fd0fc886eed"
      },
      "source": [
        "input_integer_seq"
      ],
      "execution_count": 41,
      "outputs": [
        {
          "output_type": "execute_result",
          "data": {
            "text/plain": [
              "[[20],\n",
              " [854],\n",
              " [854],\n",
              " [191],\n",
              " [191],\n",
              " [67],\n",
              " [2434],\n",
              " [609],\n",
              " [74],\n",
              " [777],\n",
              " [64],\n",
              " [64],\n",
              " [64],\n",
              " [110],\n",
              " [110],\n",
              " [20, 42],\n",
              " [20, 42],\n",
              " [20, 42],\n",
              " [855],\n",
              " [855],\n",
              " [1, 66],\n",
              " [1, 77],\n",
              " [1, 227],\n",
              " [1, 227],\n",
              " [1, 227],\n",
              " [778, 29],\n",
              " [953],\n",
              " [953],\n",
              " [1211],\n",
              " [1211],\n",
              " [1211],\n",
              " [1211],\n",
              " [46, 39],\n",
              " [20, 57],\n",
              " [20, 57],\n",
              " [20, 57],\n",
              " [53, 4],\n",
              " [53, 4],\n",
              " [53, 4],\n",
              " [53, 4],\n",
              " [53, 4],\n",
              " [1782, 38],\n",
              " [1782, 38],\n",
              " [514, 12],\n",
              " [514, 12],\n",
              " [1, 414],\n",
              " [1, 414],\n",
              " [1, 61],\n",
              " [1, 140],\n",
              " [1, 140],\n",
              " [1, 403],\n",
              " [1, 100],\n",
              " [1, 389],\n",
              " [5, 1783],\n",
              " [5, 157],\n",
              " [5, 157],\n",
              " [485],\n",
              " [29, 198],\n",
              " [29, 198],\n",
              " [29, 198],\n",
              " [29, 198],\n",
              " [29, 198],\n",
              " [29, 198],\n",
              " [29, 198],\n",
              " [29, 198],\n",
              " [29, 198],\n",
              " [148],\n",
              " [148],\n",
              " [148],\n",
              " [360],\n",
              " [13, 77],\n",
              " [13, 227],\n",
              " [13, 227],\n",
              " [13, 227],\n",
              " [13, 227],\n",
              " [159, 8],\n",
              " [340],\n",
              " [27, 341],\n",
              " [27, 341],\n",
              " [27, 341],\n",
              " [27, 237],\n",
              " [27, 404],\n",
              " [27, 404],\n",
              " [27, 404],\n",
              " [27, 404],\n",
              " [27, 404],\n",
              " [27, 404],\n",
              " [27, 415],\n",
              " [27, 111],\n",
              " [27, 111],\n",
              " [27, 111],\n",
              " [27, 111],\n",
              " [27, 111],\n",
              " [27, 111],\n",
              " [856, 4],\n",
              " [161, 12],\n",
              " [161, 12],\n",
              " [161, 59],\n",
              " [161, 59],\n",
              " [50, 38],\n",
              " [50, 38],\n",
              " [50, 38],\n",
              " [50, 38],\n",
              " [50, 42],\n",
              " [50, 42],\n",
              " [50, 42],\n",
              " [50, 42],\n",
              " [342, 4],\n",
              " [342, 4],\n",
              " [342, 4],\n",
              " [342, 4],\n",
              " [46, 8],\n",
              " [46, 58],\n",
              " [46, 58],\n",
              " [46, 58],\n",
              " [46, 58],\n",
              " [46, 58],\n",
              " [20, 199],\n",
              " [20, 199],\n",
              " [20, 199],\n",
              " [20, 199],\n",
              " [20, 199],\n",
              " [20, 199],\n",
              " [20, 199],\n",
              " [20, 199],\n",
              " [20, 199],\n",
              " [20, 199],\n",
              " [20, 75],\n",
              " [20, 75],\n",
              " [20, 75],\n",
              " [20, 75],\n",
              " [20, 436],\n",
              " [20, 436],\n",
              " [1074],\n",
              " [1074],\n",
              " [574, 42],\n",
              " [574, 42],\n",
              " [574, 42],\n",
              " [574, 42],\n",
              " [7, 244],\n",
              " [7, 244],\n",
              " [7, 1075],\n",
              " [74, 12],\n",
              " [74, 12],\n",
              " [74, 12],\n",
              " [74, 59],\n",
              " [74, 59],\n",
              " [291, 4],\n",
              " [291, 42],\n",
              " [514, 8],\n",
              " [1, 361],\n",
              " [1, 462],\n",
              " [1, 1212],\n",
              " [1, 1212],\n",
              " [1, 298],\n",
              " [1, 463],\n",
              " [1, 1784],\n",
              " [1, 1455],\n",
              " [1, 857],\n",
              " [1, 857],\n",
              " [1, 1785],\n",
              " [1, 1785],\n",
              " [1, 362],\n",
              " [1, 362],\n",
              " [1, 362],\n",
              " [1, 1456],\n",
              " [35, 20],\n",
              " [5, 8],\n",
              " [5, 228],\n",
              " [5, 228],\n",
              " [5, 539],\n",
              " [5, 610],\n",
              " [5, 610],\n",
              " [5, 540],\n",
              " [5, 252],\n",
              " [5, 299],\n",
              " [5, 541],\n",
              " [5, 541],\n",
              " [19, 12],\n",
              " [464, 59],\n",
              " [464, 59],\n",
              " [105, 4],\n",
              " [105, 4],\n",
              " [465, 12],\n",
              " [465, 12],\n",
              " [12, 63],\n",
              " [154, 39],\n",
              " [154, 39],\n",
              " [238],\n",
              " [66, 2],\n",
              " [66, 2],\n",
              " [66, 2],\n",
              " [66, 2],\n",
              " [256, 12],\n",
              " [256, 12],\n",
              " [326, 39],\n",
              " [326, 39],\n",
              " [326, 39],\n",
              " [326, 39],\n",
              " [326, 39],\n",
              " [1457, 4],\n",
              " [54, 437],\n",
              " [86, 4],\n",
              " [86, 4],\n",
              " [86, 4],\n",
              " [86, 4],\n",
              " [143, 12],\n",
              " [143, 12],\n",
              " [8, 227],\n",
              " [327, 39],\n",
              " [327, 39],\n",
              " [327, 39],\n",
              " [327, 39],\n",
              " [327, 39],\n",
              " [611, 39],\n",
              " [611, 39],\n",
              " [13, 61],\n",
              " [13, 100],\n",
              " [13, 100],\n",
              " [13, 100],\n",
              " [13, 100],\n",
              " [13, 100],\n",
              " [13, 100],\n",
              " [13, 100],\n",
              " [13, 100],\n",
              " [13, 100],\n",
              " [13, 100],\n",
              " [612],\n",
              " [67, 227],\n",
              " [67, 227],\n",
              " [2, 191],\n",
              " [55, 1, 228],\n",
              " [55, 1, 228],\n",
              " [159, 101],\n",
              " [159, 101],\n",
              " [90, 149],\n",
              " [90, 149],\n",
              " [90, 149],\n",
              " [90, 149],\n",
              " [90, 149],\n",
              " [90, 149],\n",
              " [27, 3, 192],\n",
              " [27, 3, 192],\n",
              " [27, 121],\n",
              " [27, 121],\n",
              " [27, 121],\n",
              " [1458, 12],\n",
              " [1458, 12],\n",
              " [161, 8],\n",
              " [161, 8],\n",
              " [2435, 39],\n",
              " [237, 149],\n",
              " [2436, 41],\n",
              " [298, 42],\n",
              " [298, 42],\n",
              " [298, 42],\n",
              " [298, 42],\n",
              " [205, 8],\n",
              " [205, 8],\n",
              " [328, 15],\n",
              " [328, 15],\n",
              " [46, 133],\n",
              " [46, 133],\n",
              " [46, 133],\n",
              " [46, 133],\n",
              " [46, 133],\n",
              " [46, 100],\n",
              " [46, 100],\n",
              " [46, 100],\n",
              " [46, 515],\n",
              " [20, 416],\n",
              " [20, 416],\n",
              " [20, 416],\n",
              " [20, 416],\n",
              " [20, 416],\n",
              " [20, 416],\n",
              " [20, 416],\n",
              " [70, 107],\n",
              " [70, 107],\n",
              " [70, 107],\n",
              " [329, 41],\n",
              " [329, 41],\n",
              " [21, 137],\n",
              " [21, 137],\n",
              " [7, 1786],\n",
              " [49, 541],\n",
              " [74, 8],\n",
              " [74, 8],\n",
              " [854, 658],\n",
              " [47, 417],\n",
              " [47, 1213],\n",
              " [47, 111],\n",
              " [47, 111],\n",
              " [47, 111],\n",
              " [47, 111],\n",
              " [146, 39],\n",
              " [146, 39],\n",
              " [146, 39],\n",
              " [146, 39],\n",
              " [146, 39],\n",
              " [146, 39],\n",
              " [1, 30, 157],\n",
              " [1, 30, 157],\n",
              " [1, 30, 4],\n",
              " [1, 30, 4],\n",
              " [1, 516],\n",
              " [1, 438],\n",
              " [1, 46, 4],\n",
              " [1, 53, 4],\n",
              " [1, 53, 4],\n",
              " [1, 542],\n",
              " [1, 1076],\n",
              " [1, 300],\n",
              " [1, 2437],\n",
              " [1, 1459],\n",
              " [1, 954],\n",
              " [1, 955],\n",
              " [1, 955],\n",
              " [1, 659],\n",
              " [1, 659],\n",
              " [1, 1214],\n",
              " [1, 1214],\n",
              " [1, 83, 4],\n",
              " [1, 83, 4],\n",
              " [1, 1460],\n",
              " [1, 779],\n",
              " [1, 779],\n",
              " [1, 575],\n",
              " [1, 390, 4],\n",
              " [1, 390, 4],\n",
              " [1, 390, 4],\n",
              " [35, 218],\n",
              " [35, 218],\n",
              " [35, 77],\n",
              " [35, 77],\n",
              " [5, 90],\n",
              " [5, 90],\n",
              " [5, 858],\n",
              " [5, 89],\n",
              " [5, 89],\n",
              " [5, 341],\n",
              " [5, 165],\n",
              " [5, 237],\n",
              " [5, 237],\n",
              " [5, 613],\n",
              " [5, 613],\n",
              " [5, 134],\n",
              " [5, 404],\n",
              " [5, 404],\n",
              " [5, 404],\n",
              " [5, 314],\n",
              " [5, 234],\n",
              " [5, 234],\n",
              " [5, 234],\n",
              " [5, 257],\n",
              " [5, 257],\n",
              " [5, 257],\n",
              " [5, 486],\n",
              " [5, 486],\n",
              " [5, 363],\n",
              " [5, 363],\n",
              " [5, 859],\n",
              " [5, 75],\n",
              " [5, 160],\n",
              " [5, 284],\n",
              " [5, 284],\n",
              " [5, 284],\n",
              " [5, 284],\n",
              " [5, 1461],\n",
              " [5, 1461],\n",
              " [5, 379],\n",
              " [5, 123],\n",
              " [5, 166],\n",
              " [5, 167],\n",
              " [5, 167],\n",
              " [5, 167],\n",
              " [5, 167],\n",
              " [5, 200],\n",
              " [5, 860],\n",
              " [5, 1787],\n",
              " [5, 1787],\n",
              " [5, 576],\n",
              " [5, 576],\n",
              " [5, 466],\n",
              " [5, 135],\n",
              " [5, 135],\n",
              " [108, 227],\n",
              " [108, 227],\n",
              " [4, 660],\n",
              " [4, 467],\n",
              " [4, 343],\n",
              " [4, 343],\n",
              " [19, 8],\n",
              " [19, 137],\n",
              " [19, 137],\n",
              " [19, 116],\n",
              " [19, 116],\n",
              " [19, 145],\n",
              " [19, 145],\n",
              " [19, 780],\n",
              " [19, 364],\n",
              " [19, 252],\n",
              " [105, 58],\n",
              " [105, 58],\n",
              " [465, 8],\n",
              " [98, 4],\n",
              " [98, 4],\n",
              " [98, 12],\n",
              " [98, 59],\n",
              " [98, 59],\n",
              " [84, 20],\n",
              " [84, 20],\n",
              " [65, 58],\n",
              " [65, 58],\n",
              " [1215, 12],\n",
              " [1215, 12],\n",
              " [112, 1, 20],\n",
              " [112, 1, 20],\n",
              " [112, 1, 20],\n",
              " [543, 8],\n",
              " [543, 8],\n",
              " [124, 43],\n",
              " [34, 212],\n",
              " [34, 155],\n",
              " [34, 1075],\n",
              " [213, 133],\n",
              " [213, 133],\n",
              " [213, 133],\n",
              " [213, 36],\n",
              " [213, 36],\n",
              " [330, 39],\n",
              " [330, 39],\n",
              " [301, 39],\n",
              " [64, 8],\n",
              " [64, 8],\n",
              " [716, 4],\n",
              " [716, 4],\n",
              " [716, 4],\n",
              " [716, 4],\n",
              " [143, 8],\n",
              " [143, 8],\n",
              " [1216],\n",
              " [1216],\n",
              " [1216],\n",
              " [31, 227],\n",
              " [31, 227],\n",
              " [31, 227],\n",
              " [31, 227],\n",
              " [8, 212],\n",
              " [8, 155],\n",
              " [8, 258],\n",
              " [8, 140],\n",
              " [8, 140],\n",
              " [8, 403],\n",
              " [8, 1462],\n",
              " [8, 100],\n",
              " [8, 389],\n",
              " [63, 160],\n",
              " [158, 12],\n",
              " [158, 12],\n",
              " [77, 156],\n",
              " [77, 150],\n",
              " [77, 150],\n",
              " [77, 15],\n",
              " [77, 15],\n",
              " [390, 15],\n",
              " [390, 15],\n",
              " [390, 15],\n",
              " [390, 15],\n",
              " [661, 8],\n",
              " [661, 8],\n",
              " [201, 12],\n",
              " [201, 12],\n",
              " [201, 59],\n",
              " [201, 59],\n",
              " [13, 361],\n",
              " [127, 20],\n",
              " [26, 157],\n",
              " [43, 78],\n",
              " [43, 78],\n",
              " [43, 137],\n",
              " [43, 137],\n",
              " [67, 212],\n",
              " [67, 155],\n",
              " [67, 414],\n",
              " [67, 100],\n",
              " [67, 244],\n",
              " [174, 7],\n",
              " [468, 12],\n",
              " [468, 12],\n",
              " [2, 100],\n",
              " [2, 100],\n",
              " [405, 2],\n",
              " [1463, 609],\n",
              " [55, 1, 160],\n",
              " [439, 12],\n",
              " [27, 1788],\n",
              " [27, 1788],\n",
              " [781, 782],\n",
              " [956, 2],\n",
              " [161, 75],\n",
              " [341, 133],\n",
              " [341, 133],\n",
              " [28, 13, 20],\n",
              " [28, 13, 20],\n",
              " [28, 13, 20],\n",
              " [440, 8],\n",
              " [440, 8],\n",
              " [440, 41],\n",
              " [2438, 58],\n",
              " [50, 90],\n",
              " [50, 90],\n",
              " [50, 36],\n",
              " [50, 36],\n",
              " [50, 168],\n",
              " [50, 168],\n",
              " [50, 168],\n",
              " [50, 168],\n",
              " [50, 168],\n",
              " [50, 168],\n",
              " [50, 168],\n",
              " [50, 469],\n",
              " [50, 469],\n",
              " [237, 133],\n",
              " [30, 1, 206],\n",
              " [30, 1, 206],\n",
              " [30, 1, 206],\n",
              " [17, 4, 57],\n",
              " [344, 1464],\n",
              " [344, 1464],\n",
              " [22, 159],\n",
              " [22, 253],\n",
              " [22, 235],\n",
              " [22, 235],\n",
              " [22, 292],\n",
              " [22, 191],\n",
              " [22, 191],\n",
              " [487, 12],\n",
              " [487, 12],\n",
              " [487, 12],\n",
              " [487, 12],\n",
              " [487, 12],\n",
              " [487, 12],\n",
              " [487, 12],\n",
              " [1789],\n",
              " [69, 15],\n",
              " [69, 15],\n",
              " [69, 15],\n",
              " [69, 15],\n",
              " [285, 12],\n",
              " [285, 59],\n",
              " [285, 59],\n",
              " [273, 4],\n",
              " [273, 4],\n",
              " [273, 4],\n",
              " [273, 4],\n",
              " [273, 4],\n",
              " [273, 4],\n",
              " [273, 4],\n",
              " [46, 3, 107],\n",
              " [46, 3, 107],\n",
              " [46, 3, 107],\n",
              " [46, 3, 107],\n",
              " [46, 119],\n",
              " [46, 119],\n",
              " [20, 46, 4],\n",
              " [20, 46, 4],\n",
              " [20, 380],\n",
              " [20, 16, 175],\n",
              " [20, 16, 175],\n",
              " [70, 286],\n",
              " [70, 286],\n",
              " [329, 18],\n",
              " [329, 18],\n",
              " [329, 18],\n",
              " [329, 18],\n",
              " [329, 15],\n",
              " [329, 15],\n",
              " [614, 149],\n",
              " [7, 6, 540],\n",
              " [7, 6, 131],\n",
              " [49, 3, 1790],\n",
              " [49, 70],\n",
              " [49, 284],\n",
              " [49, 117],\n",
              " [49, 379],\n",
              " [49, 1791],\n",
              " [36, 1, 55],\n",
              " [391, 1792],\n",
              " [291, 609],\n",
              " [291, 609],\n",
              " [291, 15],\n",
              " [291, 15],\n",
              " [291, 15],\n",
              " [291, 15],\n",
              " [47, 517],\n",
              " [47, 315],\n",
              " [207, 8],\n",
              " [207, 8],\n",
              " [1, 55, 165],\n",
              " [1, 55, 70],\n",
              " [1, 55, 1461],\n",
              " [1, 55, 166],\n",
              " [1, 55, 167],\n",
              " [1, 55, 167],\n",
              " [1, 488, 2],\n",
              " [1, 488, 2],\n",
              " [1, 488, 2],\n",
              " [1, 488, 2],\n",
              " [1, 28, 191],\n",
              " [1, 28, 717],\n",
              " [1, 1465],\n",
              " [1, 1465],\n",
              " [1, 1465],\n",
              " [1, 1793],\n",
              " [1, 208, 39],\n",
              " [1, 79, 38],\n",
              " [1, 79, 39],\n",
              " [1, 53, 302],\n",
              " [1, 53, 302],\n",
              " [1, 73, 137],\n",
              " [1, 73, 137],\n",
              " [1, 73, 137],\n",
              " [1, 73, 137],\n",
              " [1, 81, 4],\n",
              " [1, 21, 4],\n",
              " [1, 610, 8],\n",
              " [1, 193, 54],\n",
              " [1, 957],\n",
              " [1, 957],\n",
              " [1, 1794],\n",
              " [1, 258, 4],\n",
              " [1, 33, 4],\n",
              " [1, 100, 4],\n",
              " [1, 40, 4],\n",
              " [1, 40, 4],\n",
              " [1, 229, 4],\n",
              " [1, 229, 4],\n",
              " [1, 80, 20],\n",
              " [1, 80, 20],\n",
              " [1, 80, 20],\n",
              " [1, 80, 20],\n",
              " [1, 80, 20],\n",
              " [1, 80, 20],\n",
              " [1, 80, 20],\n",
              " [1, 80, 20],\n",
              " [1, 37, 4],\n",
              " [1, 37, 4],\n",
              " [1, 861],\n",
              " [1, 2439],\n",
              " [1, 862],\n",
              " [1, 418],\n",
              " [1, 418],\n",
              " [1, 544],\n",
              " [1, 162, 29],\n",
              " [1, 162, 54],\n",
              " [1, 83, 41],\n",
              " [1, 83, 41],\n",
              " [1, 83, 41],\n",
              " [1, 83, 51],\n",
              " [1, 83, 51],\n",
              " [1, 83, 2],\n",
              " [1, 83, 2],\n",
              " [1, 83, 2],\n",
              " [1, 83, 2],\n",
              " [1, 83, 2],\n",
              " [1, 83, 2],\n",
              " [1, 83, 2],\n",
              " [1, 83, 2],\n",
              " [1, 66, 8],\n",
              " [1, 2440],\n",
              " [1, 1795],\n",
              " [1, 1795],\n",
              " [1, 48, 4],\n",
              " [1, 14, 145],\n",
              " [1, 14, 145],\n",
              " [1, 71, 20],\n",
              " [1, 406, 39],\n",
              " [1, 406, 39],\n",
              " [196, 361],\n",
              " [196, 98],\n",
              " [35, 161],\n",
              " [35, 662],\n",
              " [35, 74],\n",
              " [35, 163],\n",
              " [35, 545],\n",
              " [35, 958],\n",
              " [35, 958],\n",
              " [35, 958],\n",
              " [35, 1077],\n",
              " [35, 244],\n",
              " [35, 316],\n",
              " [35, 97],\n",
              " [35, 64],\n",
              " [35, 214],\n",
              " [35, 151],\n",
              " [35, 151],\n",
              " [35, 110],\n",
              " [35, 219],\n",
              " [35, 93],\n",
              " [35, 93],\n",
              " [5, 3, 1078],\n",
              " [5, 3, 192],\n",
              " [5, 407],\n",
              " [5, 407],\n",
              " [5, 407],\n",
              " [5, 92],\n",
              " [5, 92],\n",
              " [5, 230],\n",
              " [5, 230],\n",
              " [5, 663],\n",
              " [5, 663],\n",
              " [5, 577],\n",
              " [5, 546],\n",
              " [5, 215],\n",
              " [5, 345],\n",
              " [5, 345],\n",
              " [5, 202],\n",
              " [5, 202],\n",
              " [5, 1796],\n",
              " [5, 1796],\n",
              " [5, 783],\n",
              " [5, 185],\n",
              " [5, 185],\n",
              " [5, 185],\n",
              " [5, 441],\n",
              " [5, 209],\n",
              " [5, 245],\n",
              " [5, 863],\n",
              " [5, 863],\n",
              " [5, 863],\n",
              " [5, 144],\n",
              " [5, 144],\n",
              " [5, 144],\n",
              " [5, 144],\n",
              " [5, 1797],\n",
              " [5, 1797],\n",
              " [5, 180],\n",
              " [5, 180],\n",
              " [5, 180],\n",
              " [5, 180],\n",
              " [5, 180],\n",
              " [5, 317],\n",
              " [5, 578],\n",
              " [5, 578],\n",
              " [5, 578],\n",
              " [5, 578],\n",
              " [5, 578],\n",
              " [5, 318],\n",
              " [5, 119],\n",
              " [5, 119],\n",
              " [5, 119],\n",
              " [5, 103],\n",
              " [5, 1466],\n",
              " [5, 236],\n",
              " [5, 236],\n",
              " [5, 236],\n",
              " [5, 236],\n",
              " [5, 236],\n",
              " [5, 236],\n",
              " [5, 579],\n",
              " [5, 1798],\n",
              " [5, 126],\n",
              " [5, 518],\n",
              " [5, 518],\n",
              " [5, 518],\n",
              " [5, 518],\n",
              " [5, 169],\n",
              " [5, 169],\n",
              " [108, 100],\n",
              " [6, 8, 157],\n",
              " [6, 8, 157],\n",
              " [6, 4, 138],\n",
              " [6, 4, 519],\n",
              " [6, 4, 519],\n",
              " [6, 4, 302],\n",
              " [6, 4, 2],\n",
              " [6, 4, 2],\n",
              " [6, 4, 2],\n",
              " [4, 516],\n",
              " [4, 1799],\n",
              " [4, 864],\n",
              " [4, 864],\n",
              " [4, 14, 157],\n",
              " [4, 14, 157],\n",
              " [4, 14, 157],\n",
              " [4, 381],\n",
              " [4, 381],\n",
              " [19, 2441, 615],\n",
              " [19, 1467, 615],\n",
              " [19, 1467, 615],\n",
              " [19, 3, 419],\n",
              " [19, 165],\n",
              " [19, 165],\n",
              " [19, 616],\n",
              " [19, 203],\n",
              " [19, 203],\n",
              " [19, 203],\n",
              " [19, 134],\n",
              " [19, 176],\n",
              " [19, 346],\n",
              " [19, 257],\n",
              " [19, 36],\n",
              " [19, 36],\n",
              " [19, 718],\n",
              " [19, 718],\n",
              " [19, 160],\n",
              " [19, 100],\n",
              " [19, 117],\n",
              " [19, 117],\n",
              " [19, 117],\n",
              " [19, 117],\n",
              " [19, 154],\n",
              " [19, 580],\n",
              " [19, 580],\n",
              " [19, 580],\n",
              " [19, 1217],\n",
              " [19, 118],\n",
              " [19, 118],\n",
              " [19, 259],\n",
              " [19, 93],\n",
              " [105, 341],\n",
              " [105, 18],\n",
              " [105, 18],\n",
              " [105, 15],\n",
              " [105, 15],\n",
              " [60, 4, 27],\n",
              " [60, 4, 27],\n",
              " [60, 12, 20],\n",
              " [60, 12, 20],\n",
              " [60, 12, 20],\n",
              " [60, 12, 20],\n",
              " [60, 12, 20],\n",
              " [60, 12, 20],\n",
              " [60, 12, 20],\n",
              " [60, 12, 20],\n",
              " [60, 12, 20],\n",
              " [60, 12, 20],\n",
              " [60, 12, 20],\n",
              " [60, 12, 20],\n",
              " [60, 12, 38],\n",
              " [60, 12, 38],\n",
              " [84, 159],\n",
              " [84, 106],\n",
              " [84, 66],\n",
              " [292, 121],\n",
              " [292, 121],\n",
              " [292, 121],\n",
              " [292, 121],\n",
              " [292, 121],\n",
              " [292, 121],\n",
              " [65, 199],\n",
              " [65, 199],\n",
              " [65, 90],\n",
              " [65, 90],\n",
              " [65, 36],\n",
              " [65, 36],\n",
              " [1079, 39],\n",
              " [1079, 39],\n",
              " [1079, 39],\n",
              " [1079, 39],\n",
              " [1079, 39],\n",
              " [470, 168],\n",
              " [470, 168],\n",
              " [470, 168],\n",
              " [111, 365],\n",
              " [88, 1080],\n",
              " [88, 1080],\n",
              " [88, 1080],\n",
              " [88, 1080],\n",
              " [88, 1080],\n",
              " [778, 68],\n",
              " [778, 68],\n",
              " [664, 12],\n",
              " [664, 12],\n",
              " [664, 12],\n",
              " [177, 15],\n",
              " [124, 855],\n",
              " [66, 1800],\n",
              " [66, 1801],\n",
              " [66, 1801],\n",
              " [1802, 41],\n",
              " [1802, 41],\n",
              " [1468],\n",
              " [1468],\n",
              " [1468],\n",
              " [34, 462],\n",
              " [34, 462],\n",
              " [34, 362],\n",
              " [34, 1218],\n",
              " [186, 302],\n",
              " [186, 302],\n",
              " [303, 36],\n",
              " [303, 36],\n",
              " [303, 15],\n",
              " [303, 15],\n",
              " [436, 133],\n",
              " [436, 133],\n",
              " [97, 199],\n",
              " [97, 199],\n",
              " [97, 90],\n",
              " [97, 90],\n",
              " [97, 341],\n",
              " [97, 341],\n",
              " [97, 341],\n",
              " [97, 341],\n",
              " [97, 341],\n",
              " [97, 133],\n",
              " [97, 133],\n",
              " [97, 133],\n",
              " [97, 133],\n",
              " [97, 36],\n",
              " [97, 36],\n",
              " [97, 36],\n",
              " [97, 860],\n",
              " [617, 90],\n",
              " [617, 90],\n",
              " [64, 18],\n",
              " [64, 18],\n",
              " [64, 18],\n",
              " [64, 18],\n",
              " [64, 101],\n",
              " [86, 265],\n",
              " [86, 265],\n",
              " [86, 265],\n",
              " [86, 265],\n",
              " [86, 117],\n",
              " [86, 117],\n",
              " [86, 117],\n",
              " [86, 117],\n",
              " [86, 117],\n",
              " [86, 117],\n",
              " [86, 117],\n",
              " [86, 117],\n",
              " [86, 15],\n",
              " [86, 15],\n",
              " [1219, 2],\n",
              " [1219, 2],\n",
              " [44, 157],\n",
              " [44, 157],\n",
              " [44, 157],\n",
              " [44, 157],\n",
              " [44, 4],\n",
              " [1220, 43],\n",
              " [31, 414],\n",
              " [31, 414],\n",
              " [31, 140],\n",
              " [31, 140],\n",
              " [31, 403],\n",
              " [31, 403],\n",
              " [31, 100],\n",
              " [31, 100],\n",
              " [31, 1221],\n",
              " [31, 1221],\n",
              " [31, 1221],\n",
              " [31, 1221],\n",
              " [1803, 39],\n",
              " [8, 1222],\n",
              " [8, 462],\n",
              " [8, 6, 157],\n",
              " [8, 6, 38],\n",
              " [8, 2442],\n",
              " [8, 366],\n",
              " [8, 2443],\n",
              " [8, 520],\n",
              " [8, 1456],\n",
              " [8, 343],\n",
              " [102, 228],\n",
              " [102, 239],\n",
              " [102, 239],\n",
              " [102, 252],\n",
              " [158, 8],\n",
              " [158, 8],\n",
              " [77, 113],\n",
              " [77, 113],\n",
              " [77, 113],\n",
              " [77, 4, 42],\n",
              " [240, 140],\n",
              " [110, 36],\n",
              " [110, 36],\n",
              " [110, 36],\n",
              " [110, 36],\n",
              " [201, 58],\n",
              " [201, 58],\n",
              " [201, 58],\n",
              " [13, 618],\n",
              " [13, 30, 4],\n",
              " [13, 30, 4],\n",
              " [13, 30, 4],\n",
              " [13, 438],\n",
              " [13, 83, 4],\n",
              " [13, 83, 4],\n",
              " [13, 581],\n",
              " [13, 575],\n",
              " [13, 575],\n",
              " [13, 575],\n",
              " [13, 575],\n",
              " [13, 575],\n",
              " [13, 582],\n",
              " [13, 582],\n",
              " ...]"
            ]
          },
          "metadata": {
            "tags": []
          },
          "execution_count": 41
        }
      ]
    },
    {
      "cell_type": "markdown",
      "metadata": {
        "id": "QkNj4zJL9pEY",
        "colab_type": "text"
      },
      "source": [
        "## Tokenize Output Sequences"
      ]
    },
    {
      "cell_type": "code",
      "metadata": {
        "id": "P8QX9eDSmHng",
        "colab_type": "code",
        "colab": {
          "base_uri": "https://localhost:8080/",
          "height": 51
        },
        "outputId": "4d48865e-298c-4307-ff2e-988ff79bd698"
      },
      "source": [
        "output_tokenizer = Tokenizer(num_words=MAX_NUM_WORDS, filters='')\n",
        "output_tokenizer.fit_on_texts(output_sentences + output_sentences_inputs)\n",
        "output_integer_seq = output_tokenizer.texts_to_sequences(output_sentences)\n",
        "output_input_integer_seq = output_tokenizer.texts_to_sequences(output_sentences_inputs)\n",
        "\n",
        "word2idx_outputs = output_tokenizer.word_index\n",
        "print('Total unique words in the output: %s' % len(word2idx_outputs))\n",
        "\n",
        "num_words_output = len(word2idx_outputs) + 1\n",
        "max_out_len = max(len(sen) for sen in output_integer_seq)\n",
        "print(\"Length of longest sentence in the output: %g\" % max_out_len)"
      ],
      "execution_count": 74,
      "outputs": [
        {
          "output_type": "stream",
          "text": [
            "Total unique words in the output: 9511\n",
            "Length of longest sentence in the output: 12\n"
          ],
          "name": "stdout"
        }
      ]
    },
    {
      "cell_type": "code",
      "metadata": {
        "id": "o7XCo6fZ4dsW",
        "colab_type": "code",
        "colab": {}
      },
      "source": [
        "output_tokenizer = Tokenizer(num_words=MAX_NUM_WORDS,filters='')\n",
        "output_tokenizer.fit_on_texts(output_sentences + output_sentences_inputs)\n",
        "output_integer_seq = output_tokenizer.texts_to_sequences(output_sentences)\n",
        "output_input_integer_seq = output_tokenizer.texts_to_sequences(output_sentences_inputs)"
      ],
      "execution_count": 42,
      "outputs": []
    },
    {
      "cell_type": "code",
      "metadata": {
        "id": "gu_iKtPf_WuX",
        "colab_type": "code",
        "colab": {
          "base_uri": "https://localhost:8080/",
          "height": 34
        },
        "outputId": "741c1a42-5462-4c93-d526-e50485748226"
      },
      "source": [
        "word2idx_outputs = output_tokenizer.word_index\n",
        "print('Total unique words in the output: %s' % len(word2idx_outputs))"
      ],
      "execution_count": 43,
      "outputs": [
        {
          "output_type": "stream",
          "text": [
            "Total unique words in the output: 9511\n"
          ],
          "name": "stdout"
        }
      ]
    },
    {
      "cell_type": "code",
      "metadata": {
        "id": "L0FEtAdzBcgB",
        "colab_type": "code",
        "colab": {
          "base_uri": "https://localhost:8080/",
          "height": 34
        },
        "outputId": "117f71f6-260d-4369-e892-e7b63d55e2ab"
      },
      "source": [
        "num_words_output = len(word2idx_outputs) + 1\n",
        "max_out_len = max(len(sen) for sen in output_integer_seq)\n",
        "print(\"Length of longest sentence in the output: %g\" % max_out_len)"
      ],
      "execution_count": 44,
      "outputs": [
        {
          "output_type": "stream",
          "text": [
            "Length of longest sentence in the output: 12\n"
          ],
          "name": "stdout"
        }
      ]
    },
    {
      "cell_type": "code",
      "metadata": {
        "id": "nGDi-7D1l7gK",
        "colab_type": "code",
        "colab": {
          "base_uri": "https://localhost:8080/",
          "height": 34
        },
        "outputId": "b2196595-dae8-4df0-e66e-9ab9e926d982"
      },
      "source": [
        "num_words_output"
      ],
      "execution_count": 75,
      "outputs": [
        {
          "output_type": "execute_result",
          "data": {
            "text/plain": [
              "9512"
            ]
          },
          "metadata": {
            "tags": []
          },
          "execution_count": 75
        }
      ]
    },
    {
      "cell_type": "markdown",
      "metadata": {
        "id": "iwOi2-V0B22C",
        "colab_type": "text"
      },
      "source": [
        "# Padding \n",
        "The reason behind padding the input and the output is that text sentences can be of varying length, however LSTM  expects input instances with the same length. Therefore, we need to convert our sentences into fixed-length vectors. One way to do this is via padding.\n",
        "\n",
        "In padding, a certain length is defined for a sentence. In our case the length of the longest sentence in the inputs and outputs will be used for padding the input and output sentences, respectively. The longest sentence in the input contains 6 words. For the sentences that contain less than 6 words, zeros will be added in the empty indexes. The following script applies padding to the input sentences."
      ]
    },
    {
      "cell_type": "code",
      "metadata": {
        "id": "N88_zfKZB7NU",
        "colab_type": "code",
        "colab": {
          "base_uri": "https://localhost:8080/",
          "height": 68
        },
        "outputId": "c412982e-4b49-4325-caae-08c895f01e38"
      },
      "source": [
        "encoder_input_sequences = pad_sequences(input_integer_seq, maxlen=max_input_len)\n",
        "print(\"encoder_input_sequences.shape:\", encoder_input_sequences.shape)\n",
        "print(\"input text : \",input_sentences[172])\n",
        "print(\"encoder_input_sequences[172]:\", encoder_input_sequences[172])"
      ],
      "execution_count": 48,
      "outputs": [
        {
          "output_type": "stream",
          "text": [
            "encoder_input_sequences.shape: (20000, 6)\n",
            "input text :  I'm hit!\n",
            "encoder_input_sequences[172]: [  0   0   0   0   5 610]\n"
          ],
          "name": "stdout"
        }
      ]
    },
    {
      "cell_type": "code",
      "metadata": {
        "id": "bh_-F8lFFJRr",
        "colab_type": "code",
        "colab": {
          "base_uri": "https://localhost:8080/",
          "height": 51
        },
        "outputId": "e5f4224f-61af-4f0e-eb83-0b8284f93e49"
      },
      "source": [
        "print(word2idx_inputs[\"i'm\"])\n",
        "print(word2idx_inputs[\"hit\"])"
      ],
      "execution_count": 49,
      "outputs": [
        {
          "output_type": "stream",
          "text": [
            "5\n",
            "610\n"
          ],
          "name": "stdout"
        }
      ]
    },
    {
      "cell_type": "markdown",
      "metadata": {
        "id": "dZz9EwbtG4hR",
        "colab_type": "text"
      },
      "source": [
        "The tokenizer divided the sentence into two words I'm and hit, converted them to integers, and then applied pre-padding by adding four zeros at the start of the corresponding integer sequence for the sentence at index 172 of the input list"
      ]
    },
    {
      "cell_type": "code",
      "metadata": {
        "id": "GmscAmWbBoPq",
        "colab_type": "code",
        "colab": {
          "base_uri": "https://localhost:8080/",
          "height": 51
        },
        "outputId": "c807e230-4bd0-482f-9ab2-6bcfa145aad0"
      },
      "source": [
        "print(\"input text : \",input_sentences[200])\n",
        "print(\"encoder_input_sequences[172]:\", encoder_input_sequences[200])"
      ],
      "execution_count": 50,
      "outputs": [
        {
          "output_type": "stream",
          "text": [
            "input text :  Skip it.\n",
            "encoder_input_sequences[172]: [   0    0    0    0 1457    4]\n"
          ],
          "name": "stdout"
        }
      ]
    },
    {
      "cell_type": "code",
      "metadata": {
        "id": "Nm9XgnqKG1z0",
        "colab_type": "code",
        "colab": {
          "base_uri": "https://localhost:8080/",
          "height": 51
        },
        "outputId": "08c3b7d8-85c0-4464-a305-6c996c4d64ef"
      },
      "source": [
        "print(word2idx_inputs[\"skip\"])\n",
        "print(word2idx_inputs[\"it\"])"
      ],
      "execution_count": 52,
      "outputs": [
        {
          "output_type": "stream",
          "text": [
            "1457\n",
            "4\n"
          ],
          "name": "stdout"
        }
      ]
    },
    {
      "cell_type": "markdown",
      "metadata": {
        "id": "vsfQ6RE_HgRQ",
        "colab_type": "text"
      },
      "source": [
        "# Padding decoder input and decoder output"
      ]
    },
    {
      "cell_type": "markdown",
      "metadata": {
        "id": "4WwAUThOKbLJ",
        "colab_type": "text"
      },
      "source": [
        "It is further important to mention that in the case of the decoder, the post-padding is applied, which means that zeros are appended at the end of the sentence. In the encoder, zeros were padded at the beginning. The reason behind this approach is that encoder output is based on the words occurring at the end of the sentence, therefore the original words were kept at the end of the sentence and zeros were padded at the beginning. On the other hand, in the case of the decoder, the processing starts from the beginning of a sentence, and therefore post-padding is performed on the decoder inputs and outputs."
      ]
    },
    {
      "cell_type": "code",
      "metadata": {
        "id": "enMLGCr-HYNe",
        "colab_type": "code",
        "colab": {
          "base_uri": "https://localhost:8080/",
          "height": 68
        },
        "outputId": "565f399a-1d5b-4887-a0cf-9b9493105684"
      },
      "source": [
        "decoder_input_sequences = pad_sequences(output_input_integer_seq, maxlen=max_out_len, padding='post')\n",
        "print(\"decoder_input_sequences.shape:\", decoder_input_sequences.shape)\n",
        "print(\"output text : \",output_sentences_inputs[172])\n",
        "print(\"decoder_input_sequences[172]:\", decoder_input_sequences[172])"
      ],
      "execution_count": 59,
      "outputs": [
        {
          "output_type": "stream",
          "text": [
            "decoder_input_sequences.shape: (20000, 12)\n",
            "output text :  <sos> Je suis touchée !\n",
            "decoder_input_sequences[172]: [   2    3    6 2027    5    0    0    0    0    0    0    0]\n"
          ],
          "name": "stdout"
        }
      ]
    },
    {
      "cell_type": "code",
      "metadata": {
        "id": "hbV7Jc45JYi2",
        "colab_type": "code",
        "colab": {
          "base_uri": "https://localhost:8080/",
          "height": 102
        },
        "outputId": "3fac2511-81d1-472f-df39-b4918d1dbf87"
      },
      "source": [
        "print(word2idx_outputs[\"<sos>\"])\n",
        "print(word2idx_outputs[\"je\"])\n",
        "print(word2idx_outputs[\"suis\"])\n",
        "print(word2idx_outputs[\"touchée\"])\n",
        "print(word2idx_outputs[\"!\"])"
      ],
      "execution_count": 60,
      "outputs": [
        {
          "output_type": "stream",
          "text": [
            "2\n",
            "3\n",
            "6\n",
            "2027\n",
            "5\n"
          ],
          "name": "stdout"
        }
      ]
    },
    {
      "cell_type": "markdown",
      "metadata": {
        "id": "n5rUfhicPwlQ",
        "colab_type": "text"
      },
      "source": [
        "# Word Embeddings\n",
        "\n",
        "what's the difference between integer representation and word embeddings?\n",
        "\n",
        "There are two main differences between single integer representation and word embeddings. With integer reprensentation, a word is represented only with a single integer. With vector representation a word is represented by a vector of 50, 100, 200, or whatever dimensions you like. Hence, word embeddings capture a lot more information about words. Secondly, the single-integer representation doesn't capture the relationships between different words. On the contrary, word embeddings retain relationships between the words. You can either use custom word embeddings or you can use pretrained word embeddings."
      ]
    },
    {
      "cell_type": "markdown",
      "metadata": {
        "id": "V31ojhxvP95S",
        "colab_type": "text"
      },
      "source": [
        " Load the GloVe word vectors into memory"
      ]
    },
    {
      "cell_type": "code",
      "metadata": {
        "id": "1S0F_hiFJ0eW",
        "colab_type": "code",
        "colab": {}
      },
      "source": [
        "from numpy import array\n",
        "from numpy import asarray\n",
        "from numpy import zeros\n",
        "\n",
        "embeddings_dictionary = dict()\n",
        "\n",
        "glove_file = open(r'/content/drive/My Drive/glove.6B.100d.txt', encoding=\"utf8\")\n",
        "for line in glove_file:\n",
        "    records = line.split()\n",
        "    word = records[0]\n",
        "    vector_dimensions = asarray(records[1:], dtype='float32')\n",
        "    embeddings_dictionary[word] = vector_dimensions\n",
        "glove_file.close()"
      ],
      "execution_count": 61,
      "outputs": []
    },
    {
      "cell_type": "code",
      "metadata": {
        "id": "CBDqeEEnQPMB",
        "colab_type": "code",
        "colab": {
          "base_uri": "https://localhost:8080/",
          "height": 374
        },
        "outputId": "00a26b99-97e1-4d5f-8c6f-4e514fd66c85"
      },
      "source": [
        "embeddings_dictionary['hit']"
      ],
      "execution_count": 63,
      "outputs": [
        {
          "output_type": "execute_result",
          "data": {
            "text/plain": [
              "array([-0.10416  , -0.1319   ,  0.6241   , -0.42598  ,  0.52182  ,\n",
              "       -0.25798  ,  0.12996  , -0.49455  , -0.13798  ,  0.51345  ,\n",
              "        0.3605   , -0.31507  ,  0.26719  ,  0.50852  ,  0.75445  ,\n",
              "        0.32683  , -0.40262  ,  0.33694  , -0.6724   ,  0.974    ,\n",
              "        1.7623   ,  0.44556  ,  0.35505  ,  0.39864  ,  0.56096  ,\n",
              "        0.45427  , -0.7379   ,  0.16394  ,  0.17438  ,  0.2902   ,\n",
              "        0.012541 ,  0.44775  ,  1.1036   ,  1.0045   , -0.078774 ,\n",
              "       -0.17944  , -0.1485   , -0.12545  , -0.15585  ,  0.29099  ,\n",
              "        0.009072 ,  0.23242  , -0.1733   ,  0.089803 ,  0.96591  ,\n",
              "        0.42548  ,  0.35556  , -0.65991  ,  0.32271  , -0.9524   ,\n",
              "       -1.0114   ,  0.48267  , -0.42039  ,  0.56394  , -0.073391 ,\n",
              "       -2.652    , -0.39331  ,  0.65009  ,  1.6861   ,  1.9421   ,\n",
              "        0.14438  ,  0.95816  , -0.84129  ,  0.66083  ,  0.0042349,\n",
              "       -0.1191   ,  0.31027  , -0.37034  , -0.44757  , -0.28322  ,\n",
              "       -0.33073  ,  0.36028  , -0.3284   , -0.017053 ,  0.65018  ,\n",
              "        0.33715  , -0.16502  ,  0.24049  , -0.25716  ,  0.4315   ,\n",
              "        0.74825  ,  0.53622  , -0.70772  , -0.62201  , -0.71065  ,\n",
              "       -0.78503  ,  0.061025 , -0.2275   , -0.44505  , -0.16394  ,\n",
              "        0.40163  ,  0.52244  , -0.71785  , -0.75732  , -0.86847  ,\n",
              "        0.66459  ,  0.087884 ,  0.53786  ,  0.14651  , -0.13065  ],\n",
              "      dtype=float32)"
            ]
          },
          "metadata": {
            "tags": []
          },
          "execution_count": 63
        }
      ]
    },
    {
      "cell_type": "code",
      "metadata": {
        "id": "LFiVb9NncKqX",
        "colab_type": "code",
        "colab": {
          "base_uri": "https://localhost:8080/",
          "height": 34
        },
        "outputId": "385e8184-fc84-44d9-b0d6-4e0912460635"
      },
      "source": [
        "len(word2idx_inputs)"
      ],
      "execution_count": 68,
      "outputs": [
        {
          "output_type": "execute_result",
          "data": {
            "text/plain": [
              "3501"
            ]
          },
          "metadata": {
            "tags": []
          },
          "execution_count": 68
        }
      ]
    },
    {
      "cell_type": "code",
      "metadata": {
        "id": "sXHU5uHdcQrg",
        "colab_type": "code",
        "colab": {
          "base_uri": "https://localhost:8080/",
          "height": 34
        },
        "outputId": "6588f8fc-2738-412d-a145-6058fc29483f"
      },
      "source": [
        "min(MAX_NUM_WORDS, len(word2idx_inputs) + 1)"
      ],
      "execution_count": 69,
      "outputs": [
        {
          "output_type": "execute_result",
          "data": {
            "text/plain": [
              "3502"
            ]
          },
          "metadata": {
            "tags": []
          },
          "execution_count": 69
        }
      ]
    },
    {
      "cell_type": "code",
      "metadata": {
        "id": "kNQkx0WqQYCu",
        "colab_type": "code",
        "colab": {}
      },
      "source": [
        "num_words = min(MAX_NUM_WORDS, len(word2idx_inputs) + 1)\n",
        "embedding_matrix = zeros((num_words, EMBEDDING_SIZE))\n",
        "for word, index in word2idx_inputs.items():\n",
        "    embedding_vector = embeddings_dictionary.get(word)\n",
        "    if embedding_vector is not None:\n",
        "        embedding_matrix[index] = embedding_vector"
      ],
      "execution_count": 64,
      "outputs": []
    },
    {
      "cell_type": "markdown",
      "metadata": {
        "id": "624eojombv0T",
        "colab_type": "text"
      },
      "source": [
        "Integer representation of the word hit"
      ]
    },
    {
      "cell_type": "code",
      "metadata": {
        "id": "6ADnxhr3b3IK",
        "colab_type": "code",
        "colab": {
          "base_uri": "https://localhost:8080/",
          "height": 34
        },
        "outputId": "ef9e0528-1fde-4801-a509-80d70f2756a1"
      },
      "source": [
        "print(word2idx_inputs[\"hit\"])"
      ],
      "execution_count": 67,
      "outputs": [
        {
          "output_type": "stream",
          "text": [
            "610\n"
          ],
          "name": "stdout"
        }
      ]
    },
    {
      "cell_type": "code",
      "metadata": {
        "id": "QWnmjZAjbhut",
        "colab_type": "code",
        "colab": {
          "base_uri": "https://localhost:8080/",
          "height": 306
        },
        "outputId": "ab339db3-9442-4f7b-c3a0-19bde3d94199"
      },
      "source": [
        "print(embedding_matrix[610])"
      ],
      "execution_count": 66,
      "outputs": [
        {
          "output_type": "stream",
          "text": [
            "[-0.10416    -0.1319      0.62410003 -0.42598     0.52182001 -0.25797999\n",
            "  0.12996    -0.49454999 -0.13798     0.51345003  0.36050001 -0.31507\n",
            "  0.26719001  0.50852001  0.75445002  0.32683    -0.40261999  0.33693999\n",
            " -0.6724      0.97399998  1.76230001  0.44556001  0.35505     0.39864001\n",
            "  0.56095999  0.45427001 -0.73790002  0.16394     0.17438     0.2902\n",
            "  0.012541    0.44775     1.10360003  1.00450003 -0.078774   -0.17944001\n",
            " -0.1485     -0.12545    -0.15584999  0.29099     0.009072    0.23242\n",
            " -0.1733      0.089803    0.96591002  0.42548001  0.35556    -0.65991002\n",
            "  0.32271001 -0.95240003 -1.01139998  0.48267001 -0.42039001  0.56393999\n",
            " -0.073391   -2.65199995 -0.39331001  0.65008998  1.68610001  1.94210005\n",
            "  0.14438     0.95815998 -0.84129     0.66083002  0.0042349  -0.1191\n",
            "  0.31027001 -0.37033999 -0.44757    -0.28321999 -0.33072999  0.36028001\n",
            " -0.32839999 -0.017053    0.65017998  0.33715001 -0.16502     0.24049\n",
            " -0.25716001  0.43149999  0.74825001  0.53622001 -0.70771998 -0.62200999\n",
            " -0.71065003 -0.78503001  0.061025   -0.22750001 -0.44505    -0.16394\n",
            "  0.40163001  0.52244002 -0.71785003 -0.75731999 -0.86847001  0.66459\n",
            "  0.087884    0.53785998  0.14651    -0.13065   ]\n"
          ],
          "name": "stdout"
        }
      ]
    },
    {
      "cell_type": "code",
      "metadata": {
        "id": "40BmXpgtbiYD",
        "colab_type": "code",
        "colab": {
          "base_uri": "https://localhost:8080/",
          "height": 34
        },
        "outputId": "0d62d5dd-7939-4a7a-db2e-8ee01c48d966"
      },
      "source": [
        "embedding_matrix.shape"
      ],
      "execution_count": 70,
      "outputs": [
        {
          "output_type": "execute_result",
          "data": {
            "text/plain": [
              "(3502, 100)"
            ]
          },
          "metadata": {
            "tags": []
          },
          "execution_count": 70
        }
      ]
    },
    {
      "cell_type": "markdown",
      "metadata": {
        "id": "zr4mS0MKeFnU",
        "colab_type": "text"
      },
      "source": [
        "##Create Embedding Layer"
      ]
    },
    {
      "cell_type": "code",
      "metadata": {
        "id": "Rct2by2tcV3d",
        "colab_type": "code",
        "colab": {}
      },
      "source": [
        "embedding_layer = Embedding(num_words, EMBEDDING_SIZE, weights=[embedding_matrix], input_length=max_input_len)"
      ],
      "execution_count": 71,
      "outputs": []
    },
    {
      "cell_type": "markdown",
      "metadata": {
        "id": "sP6ThvbDeI-a",
        "colab_type": "text"
      },
      "source": [
        "## Create Model"
      ]
    },
    {
      "cell_type": "markdown",
      "metadata": {
        "id": "NAxu3NQYmbkj",
        "colab_type": "text"
      },
      "source": [
        "The first thing we need to do is to define our outputs, as we know that the output will be a sequence of words. Recall that the total number of unique words in the output are 9512. Therefore, each word in the output can be any of the 9562 words. The length of an output sentence is 12. And for each input sentence, we need a corresponding output sentence. Therefore, the final shape of the output will be:"
      ]
    },
    {
      "cell_type": "code",
      "metadata": {
        "id": "S5DFYHBceIYX",
        "colab_type": "code",
        "colab": {}
      },
      "source": [
        "decoder_targets_one_hot = np.zeros((\n",
        "        len(input_sentences),\n",
        "        max_out_len,\n",
        "        num_words_output\n",
        "    ),\n",
        "    dtype='float32'\n",
        ")"
      ],
      "execution_count": 76,
      "outputs": []
    },
    {
      "cell_type": "code",
      "metadata": {
        "id": "K2I33LPnmiOk",
        "colab_type": "code",
        "colab": {
          "base_uri": "https://localhost:8080/",
          "height": 34
        },
        "outputId": "e6fab9a3-3f77-476b-9d4e-efb42b92834c"
      },
      "source": [
        "decoder_targets_one_hot.shape"
      ],
      "execution_count": 77,
      "outputs": [
        {
          "output_type": "execute_result",
          "data": {
            "text/plain": [
              "(20000, 12, 9512)"
            ]
          },
          "metadata": {
            "tags": []
          },
          "execution_count": 77
        }
      ]
    },
    {
      "cell_type": "markdown",
      "metadata": {
        "id": "VufiJxi_nUyO",
        "colab_type": "text"
      },
      "source": [
        "To make predictions, the final layer of the model will be a dense layer, therefore we need the outputs in the form of one-hot encoded vectors, since we will be using softmax activation function at the dense layer. To create such one-hot encoded output, the next step is to assign 1 to the column number that corresponds to the integer representation of the word. For instance, the integer representation for <sos> je suis malade is [ 2 3 6 188 0 0 0 0 0 0 0 ]. In the decoder_targets_one_hot output array, in the second column of the first row, 1 will be inserted. Similarly, at the third index of the second row, another 1 will be inserted, and so on."
      ]
    },
    {
      "cell_type": "code",
      "metadata": {
        "id": "TXllE4q8mkdv",
        "colab_type": "code",
        "colab": {}
      },
      "source": [
        "for i, d in enumerate(decoder_input_sequences):\n",
        "    for t, word in enumerate(d):\n",
        "        decoder_targets_one_hot[i, t, word] = 1"
      ],
      "execution_count": 79,
      "outputs": []
    },
    {
      "cell_type": "code",
      "metadata": {
        "id": "zLAgPgPQoOc_",
        "colab_type": "code",
        "colab": {
          "base_uri": "https://localhost:8080/",
          "height": 34
        },
        "outputId": "7d260fab-3a3a-4d1d-f3f0-fa62588aab90"
      },
      "source": [
        "decoder_input_sequences[0]"
      ],
      "execution_count": 82,
      "outputs": [
        {
          "output_type": "execute_result",
          "data": {
            "text/plain": [
              "array([ 2, 64,  5,  0,  0,  0,  0,  0,  0,  0,  0,  0], dtype=int32)"
            ]
          },
          "metadata": {
            "tags": []
          },
          "execution_count": 82
        }
      ]
    },
    {
      "cell_type": "code",
      "metadata": {
        "id": "UKWgEkptoAza",
        "colab_type": "code",
        "colab": {
          "base_uri": "https://localhost:8080/",
          "height": 136
        },
        "outputId": "878bfb11-2866-4974-d15a-7e19c0d5fde0"
      },
      "source": [
        "decoder_targets_one_hot[0]"
      ],
      "execution_count": 81,
      "outputs": [
        {
          "output_type": "execute_result",
          "data": {
            "text/plain": [
              "array([[0., 0., 1., ..., 0., 0., 0.],\n",
              "       [0., 0., 0., ..., 0., 0., 0.],\n",
              "       [0., 0., 0., ..., 0., 0., 0.],\n",
              "       ...,\n",
              "       [1., 0., 0., ..., 0., 0., 0.],\n",
              "       [1., 0., 0., ..., 0., 0., 0.],\n",
              "       [1., 0., 0., ..., 0., 0., 0.]], dtype=float32)"
            ]
          },
          "metadata": {
            "tags": []
          },
          "execution_count": 81
        }
      ]
    },
    {
      "cell_type": "code",
      "metadata": {
        "id": "13sBnIWAoorh",
        "colab_type": "code",
        "colab": {
          "base_uri": "https://localhost:8080/",
          "height": 34
        },
        "outputId": "aa5155a1-ba0f-4309-e487-7cd96c783bb1"
      },
      "source": [
        "decoder_input_sequences[1].shape"
      ],
      "execution_count": 86,
      "outputs": [
        {
          "output_type": "execute_result",
          "data": {
            "text/plain": [
              "(12,)"
            ]
          },
          "metadata": {
            "tags": []
          },
          "execution_count": 86
        }
      ]
    },
    {
      "cell_type": "code",
      "metadata": {
        "id": "wN9zs37XosXK",
        "colab_type": "code",
        "colab": {
          "base_uri": "https://localhost:8080/",
          "height": 34
        },
        "outputId": "9a1d2455-e06f-484a-83a3-21244461bc48"
      },
      "source": [
        "decoder_targets_one_hot[1].shape # rows contains the number of words in the sentence and columns contains number of unique words"
      ],
      "execution_count": 85,
      "outputs": [
        {
          "output_type": "execute_result",
          "data": {
            "text/plain": [
              "(12, 9512)"
            ]
          },
          "metadata": {
            "tags": []
          },
          "execution_count": 85
        }
      ]
    },
    {
      "cell_type": "markdown",
      "metadata": {
        "id": "HiQ_lawFoTw6",
        "colab_type": "text"
      },
      "source": [
        "# Define Encoder\n",
        "\n",
        "The input to the encoder will be the sentence in English and the output will be the hidden state and cell state of the LSTM."
      ]
    },
    {
      "cell_type": "code",
      "metadata": {
        "id": "-bX02pbuoGuI",
        "colab_type": "code",
        "colab": {}
      },
      "source": [
        "encoder_inputs_placeholder = Input(shape=(max_input_len,))\n",
        "x = embedding_layer(encoder_inputs_placeholder)\n",
        "encoder = LSTM(LSTM_NODES, return_state=True)\n",
        "\n",
        "encoder_outputs, h, c = encoder(x)\n",
        "encoder_states = [h, c]"
      ],
      "execution_count": 87,
      "outputs": []
    },
    {
      "cell_type": "markdown",
      "metadata": {
        "id": "a9wo57pWqTt4",
        "colab_type": "text"
      },
      "source": [
        "# Define Decoder\n",
        "\n",
        "The decoder will have two inputs: the hidden state and cell state from the encoder and the input sentence, which actually will be the output sentence with an <sos> token appended at the beginning."
      ]
    },
    {
      "cell_type": "code",
      "metadata": {
        "id": "qrWCvEozqOQl",
        "colab_type": "code",
        "colab": {}
      },
      "source": [
        "decoder_inputs_placeholder = Input(shape=(max_out_len,))\n",
        "\n",
        "decoder_embedding = Embedding(num_words_output, LSTM_NODES)\n",
        "decoder_inputs_x = decoder_embedding(decoder_inputs_placeholder)\n",
        "\n",
        "decoder_lstm = LSTM(LSTM_NODES, return_sequences=True, return_state=True)\n",
        "decoder_outputs, _, _ = decoder_lstm(decoder_inputs_x, initial_state=encoder_states)"
      ],
      "execution_count": 88,
      "outputs": []
    },
    {
      "cell_type": "code",
      "metadata": {
        "id": "SGocVoWjuGrw",
        "colab_type": "code",
        "colab": {
          "base_uri": "https://localhost:8080/",
          "height": 34
        },
        "outputId": "886d1432-90d4-49d8-bb2c-4fdabc4985da"
      },
      "source": [
        "decoder_outputs.shape"
      ],
      "execution_count": 89,
      "outputs": [
        {
          "output_type": "execute_result",
          "data": {
            "text/plain": [
              "TensorShape([None, 12, 256])"
            ]
          },
          "metadata": {
            "tags": []
          },
          "execution_count": 89
        }
      ]
    },
    {
      "cell_type": "markdown",
      "metadata": {
        "id": "SGztVmEJuP4R",
        "colab_type": "text"
      },
      "source": [
        "Finally, the output from the decoder LSTM is passed through a dense layer to predict decoder outputs, as shown here:"
      ]
    },
    {
      "cell_type": "code",
      "metadata": {
        "id": "inOb_A9Pvuq8",
        "colab_type": "code",
        "colab": {
          "base_uri": "https://localhost:8080/",
          "height": 34
        },
        "outputId": "956842c1-52e6-40b3-99ed-39ace4116363"
      },
      "source": [
        "num_words_output"
      ],
      "execution_count": 92,
      "outputs": [
        {
          "output_type": "execute_result",
          "data": {
            "text/plain": [
              "9512"
            ]
          },
          "metadata": {
            "tags": []
          },
          "execution_count": 92
        }
      ]
    },
    {
      "cell_type": "code",
      "metadata": {
        "id": "cHXTjbLtuJTC",
        "colab_type": "code",
        "colab": {}
      },
      "source": [
        "decoder_dense = Dense(num_words_output, activation='softmax')\n",
        "decoder_outputs = decoder_dense(decoder_outputs)"
      ],
      "execution_count": 90,
      "outputs": []
    },
    {
      "cell_type": "markdown",
      "metadata": {
        "id": "sBpT72-VvykF",
        "colab_type": "text"
      },
      "source": [
        "## Compile Model"
      ]
    },
    {
      "cell_type": "code",
      "metadata": {
        "id": "pMPOD3lwvrnS",
        "colab_type": "code",
        "colab": {}
      },
      "source": [
        "model = Model([encoder_inputs_placeholder,\n",
        "  decoder_inputs_placeholder], decoder_outputs)\n",
        "model.compile(\n",
        "    optimizer='rmsprop',\n",
        "    loss='categorical_crossentropy',\n",
        "    metrics=['accuracy']\n",
        ")"
      ],
      "execution_count": 93,
      "outputs": []
    },
    {
      "cell_type": "markdown",
      "metadata": {
        "id": "25VQ6FqEwRmk",
        "colab_type": "text"
      },
      "source": [
        "##  plot our model to see how it look"
      ]
    },
    {
      "cell_type": "code",
      "metadata": {
        "id": "D-PLOPWZwTMx",
        "colab_type": "code",
        "colab": {
          "base_uri": "https://localhost:8080/",
          "height": 533
        },
        "outputId": "cdeca6df-323c-42b7-b526-2943f9266228"
      },
      "source": [
        "from keras.utils import plot_model\n",
        "plot_model(model, to_file='model_plot4a.png', show_shapes=True, show_layer_names=True)"
      ],
      "execution_count": 94,
      "outputs": [
        {
          "output_type": "execute_result",
          "data": {
            "image/png": "[encoded data removed]",
            "text/plain": [
              "<IPython.core.display.Image object>"
            ]
          },
          "metadata": {
            "tags": []
          },
          "execution_count": 94
        }
      ]
    },
    {
      "cell_type": "markdown",
      "metadata": {
        "id": "nSTxKuZ2y5H7",
        "colab_type": "text"
      },
      "source": [
        "## Train the Model"
      ]
    },
    {
      "cell_type": "code",
      "metadata": {
        "id": "s1kP7JP8v3zr",
        "colab_type": "code",
        "colab": {
          "base_uri": "https://localhost:8080/",
          "height": 717
        },
        "outputId": "83bff7f5-c5f8-4164-a1b6-ed9a4c05543b"
      },
      "source": [
        "r = model.fit(\n",
        "    [encoder_input_sequences, decoder_input_sequences],\n",
        "    decoder_targets_one_hot,\n",
        "    batch_size=BATCH_SIZE,\n",
        "    epochs=EPOCHS,\n",
        "    validation_split=0.1,\n",
        ")"
      ],
      "execution_count": 95,
      "outputs": [
        {
          "output_type": "stream",
          "text": [
            "Epoch 1/20\n",
            "282/282 [==============================] - 204s 722ms/step - loss: 1.9498 - accuracy: 0.7346 - val_loss: 1.6721 - val_accuracy: 0.7720\n",
            "Epoch 2/20\n",
            "282/282 [==============================] - 204s 722ms/step - loss: 1.0923 - accuracy: 0.8520 - val_loss: 1.2239 - val_accuracy: 0.8443\n",
            "Epoch 3/20\n",
            "282/282 [==============================] - 203s 718ms/step - loss: 0.8389 - accuracy: 0.8901 - val_loss: 1.0512 - val_accuracy: 0.8721\n",
            "Epoch 4/20\n",
            "282/282 [==============================] - 200s 711ms/step - loss: 0.7108 - accuracy: 0.9079 - val_loss: 0.9557 - val_accuracy: 0.8875\n",
            "Epoch 5/20\n",
            "282/282 [==============================] - 196s 697ms/step - loss: 0.6284 - accuracy: 0.9197 - val_loss: 0.8956 - val_accuracy: 0.8983\n",
            "Epoch 6/20\n",
            "282/282 [==============================] - 191s 679ms/step - loss: 0.5663 - accuracy: 0.9289 - val_loss: 0.8530 - val_accuracy: 0.9058\n",
            "Epoch 7/20\n",
            "282/282 [==============================] - 191s 677ms/step - loss: 0.5249 - accuracy: 0.9353 - val_loss: 0.8281 - val_accuracy: 0.9112\n",
            "Epoch 8/20\n",
            "282/282 [==============================] - 191s 678ms/step - loss: 0.4958 - accuracy: 0.9400 - val_loss: 0.8100 - val_accuracy: 0.9147\n",
            "Epoch 9/20\n",
            "282/282 [==============================] - 191s 676ms/step - loss: 0.4721 - accuracy: 0.9440 - val_loss: 0.8028 - val_accuracy: 0.9175\n",
            "Epoch 10/20\n",
            "282/282 [==============================] - 191s 677ms/step - loss: 0.4514 - accuracy: 0.9476 - val_loss: 0.7951 - val_accuracy: 0.9197\n",
            "Epoch 11/20\n",
            "282/282 [==============================] - 191s 679ms/step - loss: 0.4283 - accuracy: 0.9506 - val_loss: 0.7704 - val_accuracy: 0.9222\n",
            "Epoch 12/20\n",
            "282/282 [==============================] - 193s 684ms/step - loss: 0.4063 - accuracy: 0.9535 - val_loss: 0.7601 - val_accuracy: 0.9240\n",
            "Epoch 13/20\n",
            "282/282 [==============================] - 195s 691ms/step - loss: 0.3887 - accuracy: 0.9557 - val_loss: 0.7519 - val_accuracy: 0.9265\n",
            "Epoch 14/20\n",
            "282/282 [==============================] - 195s 693ms/step - loss: 0.3763 - accuracy: 0.9574 - val_loss: 0.7520 - val_accuracy: 0.9275\n",
            "Epoch 15/20\n",
            "282/282 [==============================] - 197s 699ms/step - loss: 0.3650 - accuracy: 0.9593 - val_loss: 0.7482 - val_accuracy: 0.9283\n",
            "Epoch 16/20\n",
            "282/282 [==============================] - 199s 705ms/step - loss: 0.3536 - accuracy: 0.9611 - val_loss: 0.7444 - val_accuracy: 0.9294\n",
            "Epoch 17/20\n",
            "282/282 [==============================] - 199s 707ms/step - loss: 0.3426 - accuracy: 0.9631 - val_loss: 0.7384 - val_accuracy: 0.9310\n",
            "Epoch 18/20\n",
            "282/282 [==============================] - 204s 723ms/step - loss: 0.3325 - accuracy: 0.9640 - val_loss: 0.7329 - val_accuracy: 0.9314\n",
            "Epoch 19/20\n",
            "282/282 [==============================] - 201s 713ms/step - loss: 0.3227 - accuracy: 0.9654 - val_loss: 0.7280 - val_accuracy: 0.9321\n",
            "Epoch 20/20\n",
            "282/282 [==============================] - 198s 700ms/step - loss: 0.3123 - accuracy: 0.9666 - val_loss: 0.7237 - val_accuracy: 0.9326\n"
          ],
          "name": "stdout"
        }
      ]
    },
    {
      "cell_type": "markdown",
      "metadata": {
        "id": "Ht-jFmZ21ThG",
        "colab_type": "text"
      },
      "source": [
        "Suppose we have a sentence i'm ill. The sentence is translated as follows:\n",
        "\n",
        "// Inputs on the left of Encoder/Decoder, outputs on the right.\n",
        "\n",
        "Step 1:\n",
        "I'm ill -> Encoder -> enc(h1,c1)\n",
        "\n",
        "enc(h1,c1) + <sos> -> Decoder -> je + dec(h1,c1)\n",
        "\n",
        "step 2:\n",
        "\n",
        "enc(h1,c1) + je -> Decoder -> suis + dec(h2,c2)\n",
        "\n",
        "step 3:\n",
        "\n",
        "enc(h2,c2) + suis -> Decoder -> malade. + dec(h3,c3)\n",
        "\n",
        "step 3:\n",
        "\n",
        "enc(h3,c3) + malade. -> Decoder -> <eos> + dec(h4,c4)"
      ]
    },
    {
      "cell_type": "code",
      "metadata": {
        "id": "eZMEw1GtGkXR",
        "colab_type": "code",
        "colab": {}
      },
      "source": [
        "encoder_model = Model(encoder_inputs_placeholder, encoder_states)"
      ],
      "execution_count": 103,
      "outputs": []
    },
    {
      "cell_type": "code",
      "metadata": {
        "id": "Uh3GiObZGnfj",
        "colab_type": "code",
        "colab": {}
      },
      "source": [
        "decoder_state_input_h = Input(shape=(LSTM_NODES,))\n",
        "decoder_state_input_c = Input(shape=(LSTM_NODES,))\n",
        "decoder_states_inputs = [decoder_state_input_h, decoder_state_input_c]"
      ],
      "execution_count": 104,
      "outputs": []
    },
    {
      "cell_type": "markdown",
      "metadata": {
        "id": "RjzNxdDrGt1y",
        "colab_type": "text"
      },
      "source": [
        " there will be only single word in the decoder input, we need to modify the decoder embedding layer as follows:"
      ]
    },
    {
      "cell_type": "code",
      "metadata": {
        "id": "aaxX2OWeGumV",
        "colab_type": "code",
        "colab": {}
      },
      "source": [
        "decoder_inputs_single = Input(shape=(1,))\n",
        "decoder_inputs_single_x = decoder_embedding(decoder_inputs_single)"
      ],
      "execution_count": 105,
      "outputs": []
    },
    {
      "cell_type": "markdown",
      "metadata": {
        "id": "CpOfkwWFG488",
        "colab_type": "text"
      },
      "source": [
        " create the placeholder for decoder outputs:"
      ]
    },
    {
      "cell_type": "code",
      "metadata": {
        "id": "nJ1v6b4qG0aZ",
        "colab_type": "code",
        "colab": {}
      },
      "source": [
        "decoder_outputs, h, c = decoder_lstm(decoder_inputs_single_x, initial_state=decoder_states_inputs)"
      ],
      "execution_count": 106,
      "outputs": []
    },
    {
      "cell_type": "markdown",
      "metadata": {
        "id": "mZ6tQ0p_G8Yi",
        "colab_type": "text"
      },
      "source": [
        "To make predictions, the decoder output is passed through the dense layer:"
      ]
    },
    {
      "cell_type": "code",
      "metadata": {
        "id": "YSNburuCG9BI",
        "colab_type": "code",
        "colab": {}
      },
      "source": [
        "decoder_states = [h, c]\n",
        "decoder_outputs = decoder_dense(decoder_outputs)"
      ],
      "execution_count": 107,
      "outputs": []
    },
    {
      "cell_type": "markdown",
      "metadata": {
        "id": "MblRbxgfHDEk",
        "colab_type": "text"
      },
      "source": [
        "Update Decoder Model"
      ]
    },
    {
      "cell_type": "code",
      "metadata": {
        "id": "X3xgApwoHE_D",
        "colab_type": "code",
        "colab": {}
      },
      "source": [
        "decoder_model = Model(\n",
        "    [decoder_inputs_single] + decoder_states_inputs,\n",
        "    [decoder_outputs] + decoder_states\n",
        ")"
      ],
      "execution_count": 108,
      "outputs": []
    },
    {
      "cell_type": "markdown",
      "metadata": {
        "id": "kJMzIqhKHJuc",
        "colab_type": "text"
      },
      "source": [
        "# plot our modified decoder LSTM that makes predictions"
      ]
    },
    {
      "cell_type": "code",
      "metadata": {
        "id": "ZAwwwpumHL20",
        "colab_type": "code",
        "colab": {
          "base_uri": "https://localhost:8080/",
          "height": 366
        },
        "outputId": "73e2b1d7-551c-4ee8-bba9-29f014e0896f"
      },
      "source": [
        "from keras.utils import plot_model\n",
        "plot_model(decoder_model, to_file='model_plot_dec.png', show_shapes=True, show_layer_names=True)"
      ],
      "execution_count": 109,
      "outputs": [
        {
          "output_type": "execute_result",
          "data": {
            "image/png": "[encoded data removed]",
            "text/plain": [
              "<IPython.core.display.Image object>"
            ]
          },
          "metadata": {
            "tags": []
          },
          "execution_count": 109
        }
      ]
    },
    {
      "cell_type": "markdown",
      "metadata": {
        "id": "zt3MUwwGH6sd",
        "colab_type": "text"
      },
      "source": [
        "In the image above lstm_2 is the modified decoder LSTM. You can see that it accepts the sentence with with one word as shown in input_5, and the hidden and cell states from the previous output (input_3 and input_4). You can see that the shape of the of the input sentence is now (none,1) since there will be only one word in the decoder input. On the contrary, during training the shape of the input sentence was (None,6) since the input contained a complete sentence with a maximum length of 6."
      ]
    },
    {
      "cell_type": "markdown",
      "metadata": {
        "id": "di0L4Ofr94sS",
        "colab_type": "text"
      },
      "source": [
        "# Making Predictions\n",
        "\n",
        "In the tokenization steps, we converted words to integers. The outputs from the decoder will also be integers. However, we want our output to be a sequence of words in the French language. To do so, we need to convert the integers back to words. We will create new dictionaries for both inputs and outputs where the keys will be the integers and the corresponding values will be the words."
      ]
    },
    {
      "cell_type": "code",
      "metadata": {
        "id": "0_8q7hddy9Vs",
        "colab_type": "code",
        "colab": {}
      },
      "source": [
        "idx2word_input = {v:k for k, v in word2idx_inputs.items()}\n",
        "idx2word_target = {v:k for k, v in word2idx_outputs.items()}"
      ],
      "execution_count": 110,
      "outputs": []
    },
    {
      "cell_type": "markdown",
      "metadata": {
        "id": "hcADxLuP-few",
        "colab_type": "text"
      },
      "source": [
        "Create a method translate_sentence(). \n",
        "\n",
        "The method will accept an input-padded sequence English sentence (in the integer form) and will return the translated French sentence"
      ]
    },
    {
      "cell_type": "code",
      "metadata": {
        "id": "FuCku0yO-e_1",
        "colab_type": "code",
        "colab": {}
      },
      "source": [
        "def translate_sentence(input_seq):\n",
        "    states_value = encoder_model.predict(input_seq)\n",
        "    target_seq = np.zeros((1, 1))\n",
        "    target_seq[0, 0] = word2idx_outputs['<sos>']\n",
        "    eos = word2idx_outputs['<eos>']\n",
        "    output_sentence = []\n",
        "\n",
        "    for _ in range(max_out_len):\n",
        "        output_tokens, h, c = decoder_model.predict([target_seq] + states_value)\n",
        "        idx = np.argmax(output_tokens[0, 0, :])\n",
        "\n",
        "        if eos == idx:\n",
        "            break\n",
        "\n",
        "        word = ''\n",
        "\n",
        "        if idx > 0:\n",
        "            word = idx2word_target[idx]\n",
        "            output_sentence.append(word)\n",
        "\n",
        "        target_seq[0, 0] = idx\n",
        "        states_value = [h, c]\n",
        "\n",
        "    return ' '.join(output_sentence)"
      ],
      "execution_count": 111,
      "outputs": []
    },
    {
      "cell_type": "markdown",
      "metadata": {
        "id": "xZw_f2ql-vob",
        "colab_type": "text"
      },
      "source": [
        "# Testing the Model"
      ]
    },
    {
      "cell_type": "markdown",
      "metadata": {
        "id": "J2Pwhf4M-7Un",
        "colab_type": "text"
      },
      "source": [
        "To test the code, we will randomly choose a sentence from the input_sentences list, retrieve the corresponding padded sequence for the sentence, and will pass it to the translate_sentence() method"
      ]
    },
    {
      "cell_type": "code",
      "metadata": {
        "id": "3EHfmINT-wnI",
        "colab_type": "code",
        "colab": {
          "base_uri": "https://localhost:8080/",
          "height": 68
        },
        "outputId": "92c870c9-9563-4020-94e6-d8174ec6216c"
      },
      "source": [
        "i = np.random.choice(len(input_sentences))\n",
        "input_seq = encoder_input_sequences[i:i+1]\n",
        "translation = translate_sentence(input_seq)\n",
        "print('-')\n",
        "print('Input:', input_sentences[i])\n",
        "print('Response:', translation)"
      ],
      "execution_count": 114,
      "outputs": [
        {
          "output_type": "stream",
          "text": [
            "-\n",
            "Input: I am cooking now.\n",
            "Response: <sos> <sos> <sos> <sos> <sos> <sos> <sos> <sos> <sos> aussi aussi aussi\n"
          ],
          "name": "stdout"
        }
      ]
    },
    {
      "cell_type": "code",
      "metadata": {
        "id": "9E-V-Os7GWP1",
        "colab_type": "code",
        "colab": {}
      },
      "source": [
        ""
      ],
      "execution_count": null,
      "outputs": []
    }
  ]
}