{
  "nbformat": 4,
  "nbformat_minor": 0,
  "metadata": {
    "kernelspec": {
      "name": "python3",
      "display_name": "Python 3"
    },
    "language_info": {
      "codemirror_mode": {
        "name": "ipython",
        "version": 3
      },
      "file_extension": ".py",
      "mimetype": "text/x-python",
      "name": "python",
      "nbconvert_exporter": "python",
      "pygments_lexer": "ipython3",
      "version": "3.6.2"
    },
    "colab": {
      "name": "06-NLP-Basics-Assessment.ipynb",
      "provenance": [],
      "collapsed_sections": [],
      "include_colab_link": true
    },
    "accelerator": "GPU"
  },
  "cells": [
    {
      "cell_type": "markdown",
      "metadata": {
        "id": "view-in-github",
        "colab_type": "text"
      },
      "source": [
        "<a href=\"https://colab.research.google.com/github/plaban1981/NLP/blob/master/06_NLP_Basics_Assessment.ipynb\" target=\"_parent\"><img src=\"https://colab.research.google.com/assets/colab-badge.svg\" alt=\"Open In Colab\"/></a>"
      ]
    },
    {
      "cell_type": "markdown",
      "metadata": {
        "id": "FH4gDLDj3LY0",
        "colab_type": "text"
      },
      "source": [
        "# NLP Basics Assessment"
      ]
    },
    {
      "cell_type": "markdown",
      "metadata": {
        "id": "LVlCZlN13Vv9",
        "colab_type": "text"
      },
      "source": [
        "## obtain textfile"
      ]
    },
    {
      "cell_type": "code",
      "metadata": {
        "id": "Xhn1hIlh3YhC",
        "colab_type": "code",
        "colab": {
          "resources": {
            "http://localhost:8080/nbextensions/google.colab/files.js": {
              "data": "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",
              "ok": true,
              "headers": [
                [
                  "content-type",
                  "application/javascript"
                ]
              ],
              "status": 200,
              "status_text": ""
            }
          },
          "base_uri": "https://localhost:8080/",
          "height": 112
        },
        "outputId": "7593b944-0b6e-4ec7-c151-fe6b325f4f63"
      },
      "source": [
        "from google.colab import files\n",
        "files.upload()"
      ],
      "execution_count": 2,
      "outputs": [
        {
          "output_type": "display_data",
          "data": {
            "text/html": [
              "\n",
              "     <input type=\"file\" id=\"files-242e6062-ddd8-4ceb-96fd-8393e5fcabb8\" name=\"files[]\" multiple disabled />\n",
              "     <output id=\"result-242e6062-ddd8-4ceb-96fd-8393e5fcabb8\">\n",
              "      Upload widget is only available when the cell has been executed in the\n",
              "      current browser session. Please rerun this cell to enable.\n",
              "      </output>\n",
              "      <script src=\"/nbextensions/google.colab/files.js\"></script> "
            ],
            "text/plain": [
              "<IPython.core.display.HTML object>"
            ]
          },
          "metadata": {
            "tags": []
          }
        },
        {
          "output_type": "stream",
          "text": [
            "Saving owlcreek.txt to owlcreek.txt\n"
          ],
          "name": "stdout"
        },
        {
          "output_type": "execute_result",
          "data": {
            "text/plain": [
              "{'owlcreek.txt': b'AN OCCURRENCE AT OWL CREEK BRIDGE\\r\\n\\r\\nby Ambrose Bierce\\r\\n\\r\\nI\\r\\n\\r\\nA man stood upon a railroad bridge in northern Alabama, looking down\\r\\ninto the swift water twenty feet below.  The man\\'s hands were behind\\r\\nhis back, the wrists bound with a cord.  A rope closely encircled his\\r\\nneck.  It was attached to a stout cross-timber above his head and the\\r\\nslack fell to the level of his knees.  Some loose boards laid upon the\\r\\nties supporting the rails of the railway supplied a footing for him\\r\\nand his executioners--two private soldiers of the Federal army,\\r\\ndirected by a sergeant who in civil life may have been a deputy\\r\\nsheriff.  At a short remove upon the same temporary platform was an\\r\\nofficer in the uniform of his rank, armed.  He was a captain.  A\\r\\nsentinel at each end of the bridge stood with his rifle in the\\r\\nposition known as \"support,\" that is to say, vertical in front of the\\r\\nleft shoulder, the hammer resting on the forearm thrown straight\\r\\nacross the chest--a formal and unnatural position, enforcing an erect\\r\\ncarriage of the body.  It did not appear to be the duty of these two\\r\\nmen to know what was occurring at the center of the bridge; they\\r\\nmerely blockaded the two ends of the foot planking that traversed it.\\r\\n\\r\\nBeyond one of the sentinels nobody was in sight; the railroad ran\\r\\nstraight away into a forest for a hundred yards, then, curving, was\\r\\nlost to view.  Doubtless there was an outpost farther along.  The\\r\\nother bank of the stream was open ground--a gentle slope topped with\\r\\na stockade of vertical tree trunks, loopholed for rifles, with a\\r\\nsingle embrasure through which protruded the muzzle of a brass cannon\\r\\ncommanding the bridge.  Midway up the slope between the bridge and\\r\\nfort were the spectators--a single company of infantry in line, at\\r\\n\"parade rest,\" the butts of their rifles on the ground, the barrels\\r\\ninclining slightly backward against the right shoulder, the hands\\r\\ncrossed upon the stock. A lieutenant stood at the right of the line,\\r\\nthe point of his sword upon the ground, his left hand resting upon his\\r\\nright.  Excepting the group of four at the center of the bridge, not a\\r\\nman moved.  The company faced the bridge, staring stonily, motionless.\\r\\nThe sentinels, facing the banks of the stream, might have been statues\\r\\nto adorn the bridge.  The captain stood with folded arms, silent,\\r\\nobserving the work of his subordinates, but making no sign. Death is a\\r\\ndignitary who when he comes announced is to be received with formal\\r\\nmanifestations of respect, even by those most familiar with him.  In\\r\\nthe code of military etiquette silence and fixity are forms of\\r\\ndeference.\\r\\n\\r\\nThe man who was engaged in being hanged was apparently about\\r\\nthirty-five years of age.  He was a civilian, if one might judge from\\r\\nhis habit, which was that of a planter.  His features were good--a\\r\\nstraight nose, firm mouth, broad forehead, from which his long, dark\\r\\nhair was combed straight back, falling behind his ears to the collar\\r\\nof his well fitting frock coat.  He wore a moustache and pointed\\r\\nbeard, but no whiskers; his eyes were large and dark gray, and had a\\r\\nkindly expression which one would hardly have expected in one whose\\r\\nneck was in the hemp.  Evidently this was no vulgar assassin.  The\\r\\nliberal military code makes provision for hanging many kinds of\\r\\npersons, and gentlemen are not excluded.\\r\\n\\r\\nThe preparations being complete, the two private soldiers stepped\\r\\naside and each drew away the plank upon which he had been standing.\\r\\nThe sergeant turned to the captain, saluted and placed himself\\r\\nimmediately behind that officer, who in turn moved apart one pace.\\r\\nThese movements left the condemned man and the sergeant standing on\\r\\nthe two ends of the same plank, which spanned three of the cross-ties\\r\\nof the bridge.  The end upon which the civilian stood almost, but not\\r\\nquite, reached a fourth.  This plank had been held in place by the\\r\\nweight of the captain; it was now held by that of the sergeant.  At a\\r\\nsignal from the former the latter would step aside, the plank would\\r\\ntilt and the condemned man go down between two ties.  The arrangement\\r\\ncommended itself to his judgement as simple and effective.  His face\\r\\nhad not been covered nor his eyes bandaged.  He looked a moment at his\\r\\n\"unsteadfast footing,\" then let his gaze wander to the swirling water\\r\\nof the stream racing madly beneath his feet. A piece of dancing\\r\\ndriftwood caught his attention and his eyes followed it down the\\r\\ncurrent.  How slowly it appeared to move!  What a sluggish stream!\\r\\n\\r\\nHe closed his eyes in order to fix his last thoughts upon his wife and\\r\\nchildren.  The water, touched to gold by the early sun, the brooding\\r\\nmists under the banks at some distance down the stream, the fort, the\\r\\nsoldiers, the piece of drift--all had distracted him.  And now he\\r\\nbecame conscious of a new disturbance.  Striking through the thought\\r\\nof his dear ones was sound which he could neither ignore nor\\r\\nunderstand, a sharp, distinct, metallic percussion like the stroke of\\r\\na blacksmith\\'s hammer upon the anvil; it had the same ringing quality.\\r\\nHe wondered what it was, and whether immeasurably distant or near by--\\r\\nit seemed both.  Its recurrence was regular, but as slow as the\\r\\ntolling of a death knell.  He awaited each new stroke with impatience\\r\\nand--he knew not why--apprehension.  The intervals of silence grew\\r\\nprogressively longer; the delays became maddening.  With their greater\\r\\ninfrequency the sounds increased in strength and sharpness.  They hurt\\r\\nhis ear like the thrust of a knife; he feared he would shriek.  What he\\r\\nheard was the ticking of his watch.\\r\\n\\r\\nHe unclosed his eyes and saw again the water below him.  \"If I could\\r\\nfree my hands,\" he thought, \"I might throw off the noose and spring\\r\\ninto the stream.  By diving I could evade the bullets and, swimming\\r\\nvigorously, reach the bank, take to the woods and get away home.  My\\r\\nhome, thank God, is as yet outside their lines; my wife and little\\r\\nones are still beyond the invader\\'s farthest advance.\"\\r\\n\\r\\nAs these thoughts, which have here to be set down in words, were\\r\\nflashed into the doomed man\\'s brain rather than evolved from it the\\r\\ncaptain nodded to the sergeant.  The sergeant stepped aside.\\r\\n\\r\\nII\\r\\n\\r\\nPeyton Farquhar was a well to do planter, of an old and highly\\r\\nrespected Alabama family.  Being a slave owner and like other slave\\r\\nowners a politician, he was naturally an original secessionist and\\r\\nardently devoted to the Southern cause.  Circumstances of an imperious\\r\\nnature, which it is unnecessary to relate here, had prevented him from\\r\\ntaking service with that gallant army which had fought the disastrous\\r\\ncampaigns ending with the fall of Corinth, and he chafed under the\\r\\ninglorious restraint, longing for the release of his energies, the\\r\\nlarger life of the soldier, the opportunity for distinction.  That\\r\\nopportunity, he felt, would come, as it comes to all in wartime.\\r\\nMeanwhile he did what he could.  No service was too humble for him to\\r\\nperform in the aid of the South, no adventure too perilous for him to\\r\\nundertake if consistent with the character of a civilian who was at\\r\\nheart a soldier, and who in good faith and without too much\\r\\nqualification assented to at least a part of the frankly villainous\\r\\ndictum that all is fair in love and war.\\r\\n\\r\\nOne evening while Farquhar and his wife were sitting on a rustic bench\\r\\nnear the entrance to his grounds, a gray-clad soldier rode up to the\\r\\ngate and asked for a drink of water. Mrs. Farquhar was only too happy\\r\\nto serve him with her own white hands.  While she was fetching the\\r\\nwater her husband approached the dusty horseman and inquired eagerly\\r\\nfor news from the front.\\r\\n\\r\\n\"The Yanks are repairing the railroads,\" said the man, \"and are\\r\\ngetting ready for another advance.  They have reached the Owl Creek\\r\\nbridge, put it in order and built a stockade on the north bank.  The\\r\\ncommandant has issued an order, which is posted everywhere, declaring\\r\\nthat any civilian caught interfering with the railroad, its bridges,\\r\\ntunnels, or trains will be summarily hanged.  I saw the order.\"\\r\\n\\r\\n\"How far is it to the Owl Creek bridge?\" Farquhar asked.\\r\\n\\r\\n\"About thirty miles.\"\\r\\n\\r\\n\"Is there no force on this side of the creek?\"\\r\\n\\r\\n\"Only a picket post half a mile out, on the railroad, and a single\\r\\nsentinel at this end of the bridge.\"\\r\\n\\r\\n\"Suppose a man--a civilian and student of hanging--should elude the\\r\\npicket post and perhaps get the better of the sentinel,\" said\\r\\nFarquhar, smiling, \"what could he accomplish?\"\\r\\n\\r\\nThe soldier reflected.  \"I was there a month ago,\" he replied.  \"I\\r\\nobserved that the flood of last winter had lodged a great quantity of\\r\\ndriftwood against the wooden pier at this end of the bridge.  It is\\r\\nnow dry and would burn like tinder.\"\\r\\n\\r\\nThe lady had now brought the water, which the soldier drank. He\\r\\nthanked her ceremoniously, bowed to her husband and rode away.  An\\r\\nhour later, after nightfall, he repassed the plantation, going\\r\\nnorthward in the direction from which he had come.  He was a Federal\\r\\nscout.\\r\\n\\r\\nIII\\r\\n\\r\\nAs Peyton Farquhar fell straight downward through the bridge he lost\\r\\nconsciousness and was as one already dead. From this state he was\\r\\nawakened--ages later, it seemed to him--by the pain of a sharp\\r\\npressure upon his throat, followed by a sense of suffocation.  Keen,\\r\\npoignant agonies seemed to shoot from his neck downward through every\\r\\nfiber of his body and limbs.  These pains appeared to flash along well\\r\\ndefined lines of ramification and to beat with an inconceivably rapid\\r\\nperiodicity.  They seemed like streams of pulsating fire heating him\\r\\nto an intolerable temperature.  As to his head, he was conscious of\\r\\nnothing but a feeling of fullness--of congestion.  These sensations\\r\\nwere unaccompanied by thought.  The intellectual part of his nature\\r\\nwas already effaced; he had power only to feel, and feeling was\\r\\ntorment.  He was conscious of motion. Encompassed in a luminous cloud,\\r\\nof which he was now merely the fiery heart, without material\\r\\nsubstance, he swung through unthinkable arcs of oscillation, like a\\r\\nvast pendulum.  Then all at once, with terrible suddenness, the light\\r\\nabout him shot upward with the noise of a loud splash; a frightful\\r\\nroaring was in his ears, and all was cold and dark.  The power of\\r\\nthought was restored; he knew that the rope had broken and he had\\r\\nfallen into the stream.  There was no additional strangulation; the\\r\\nnoose about his neck was already suffocating him and kept the water\\r\\nfrom his lungs.  To die of hanging at the bottom of a river!--the idea\\r\\nseemed to him ludicrous.  He opened his eyes in the darkness and saw\\r\\nabove him a gleam of light, but how distant, how inaccessible!  He was\\r\\nstill sinking, for the light became fainter and fainter until it was a\\r\\nmere glimmer.  Then it began to grow and brighten, and he knew that he\\r\\nwas rising toward the surface--knew it with reluctance, for he was now\\r\\nvery comfortable.  \"To be hanged and drowned,\" he thought, \"that is\\r\\nnot so bad; but I do not wish to be shot.  No; I will not be shot;\\r\\nthat is not fair.\"\\r\\n\\r\\nHe was not conscious of an effort, but a sharp pain in his wrist\\r\\napprised him that he was trying to free his hands.  He gave the\\r\\nstruggle his attention, as an idler might observe the feat of a\\r\\njuggler, without interest in the outcome.  What splendid effort!--what\\r\\nmagnificent, what superhuman strength!  Ah, that was a fine endeavor!\\r\\nBravo!  The cord fell away; his arms parted and floated upward, the\\r\\nhands dimly seen on each side in the growing light.  He watched them\\r\\nwith a new interest as first one and then the other pounced upon the\\r\\nnoose at his neck.  They tore it away and thrust it fiercely aside,\\r\\nits undulations resembling those of a water snake.  \"Put it back, put\\r\\nit back!\"  He thought he shouted these words to his hands, for the\\r\\nundoing of the noose had been succeeded by the direst pang that he had\\r\\nyet experienced.  His neck ached horribly; his brain was on fire, his\\r\\nheart, which had been fluttering faintly, gave a great leap, trying to\\r\\nforce itself out at his mouth.  His whole body was racked and wrenched\\r\\nwith an insupportable anguish! But his disobedient hands gave no heed\\r\\nto the command.  They beat the water vigorously with quick, downward\\r\\nstrokes, forcing him to the surface.  He felt his head emerge; his\\r\\neyes were blinded by the sunlight; his chest expanded convulsively,\\r\\nand with a supreme and crowning agony his lungs engulfed a great\\r\\ndraught of air, which instantly he expelled in a shriek!\\r\\n\\r\\nHe was now in full possession of his physical senses.  They were,\\r\\nindeed, preternaturally keen and alert.  Something in the awful\\r\\ndisturbance of his organic system had so exalted and refined them that\\r\\nthey made record of things never before perceived.  He felt the\\r\\nripples upon his face and heard their separate sounds as they struck.\\r\\nHe looked at the forest on the bank of the stream, saw the individual\\r\\ntrees, the leaves and the veining of each leaf--he saw the very\\r\\ninsects upon them:  the locusts, the brilliant bodied flies, the gray\\r\\nspiders stretching their webs from twig to twig.  He noted the\\r\\nprismatic colors in all the dewdrops upon a million blades of grass.\\r\\nThe humming of the gnats that danced above the eddies of the stream,\\r\\nthe beating of the dragon flies\\' wings, the strokes of the water\\r\\nspiders\\' legs, like oars which had lifted their boat--all these made\\r\\naudible music.  A fish slid along beneath his eyes and he heard the\\r\\nrush of its body parting the water.\\r\\n\\r\\nHe had come to the surface facing down the stream; in a moment the\\r\\nvisible world seemed to wheel slowly round, himself the pivotal point,\\r\\nand he saw the bridge, the fort, the soldiers upon the bridge, the\\r\\ncaptain, the sergeant, the two privates, his executioners.  They were\\r\\nin silhouette against the blue sky.  They shouted and gesticulated,\\r\\npointing at him.  The captain had drawn his pistol, but did not fire;\\r\\nthe others were unarmed.  Their movements were grotesque and horrible,\\r\\ntheir forms gigantic.\\r\\n\\r\\nSuddenly he heard a sharp report and something struck the water\\r\\nsmartly within a few inches of his head, spattering his face with\\r\\nspray.  He heard a second report, and saw one of the sentinels with\\r\\nhis rifle at his shoulder, a light cloud of blue smoke rising from the\\r\\nmuzzle.  The man in the water saw the eye of the man on the bridge\\r\\ngazing into his own through the sights of the rifle.  He observed that\\r\\nit was a gray eye and remembered having read that gray eyes were\\r\\nkeenest, and that all famous marksmen had them. Nevertheless, this one\\r\\nhad missed.\\r\\n\\r\\nA counter-swirl had caught Farquhar and turned him half round; he was\\r\\nagain looking at the forest on the bank opposite the fort.  The sound\\r\\nof a clear, high voice in a monotonous singsong now rang out behind\\r\\nhim and came across the water with a distinctness that pierced and\\r\\nsubdued all other sounds, even the beating of the ripples in his ears.\\r\\nAlthough no soldier, he had frequented camps enough to know the dread\\r\\nsignificance of that deliberate, drawling, aspirated chant; the\\r\\nlieutenant on shore was taking a part in the morning\\'s work.  How\\r\\ncoldly and pitilessly--with what an even, calm intonation, presaging,\\r\\nand enforcing tranquility in the men--with what accurately measured\\r\\ninterval fell those cruel words:\\r\\n\\r\\n\"Company! . . . Attention! . . . Shoulder arms! . . . Ready!. . .\\r\\nAim! . . . Fire!\"\\r\\n\\r\\nFarquhar dived--dived as deeply as he could.  The water roared in his\\r\\nears like the voice of Niagara, yet he heard the dull thunder of the\\r\\nvolley and, rising again toward the surface, met shining bits of\\r\\nmetal, singularly flattened, oscillating slowly downward.  Some of\\r\\nthem touched him on the face and hands, then fell away, continuing\\r\\ntheir descent. One lodged between his collar and neck; it was\\r\\nuncomfortably warm and he snatched it out.\\r\\n\\r\\nAs he rose to the surface, gasping for breath, he saw that he had been\\r\\na long time under water; he was perceptibly farther downstream--nearer\\r\\nto safety.  The soldiers had almost finished reloading; the metal\\r\\nramrods flashed all at once in the sunshine as they were drawn from\\r\\nthe barrels, turned in the air, and thrust into their sockets.  The\\r\\ntwo sentinels fired again, independently and ineffectually.\\r\\n\\r\\nThe hunted man saw all this over his shoulder; he was now swimming\\r\\nvigorously with the current.  His brain was as energetic as his arms\\r\\nand legs; he thought with the rapidity of lightning:\\r\\n\\r\\n\"The officer,\" he reasoned, \"will not make that martinet\\'s error a\\r\\nsecond time.  It is as easy to dodge a volley as a single shot.  He\\r\\nhas probably already given the command to fire at will.  God help me,\\r\\nI cannot dodge them all!\"\\r\\n\\r\\nAn appalling splash within two yards of him was followed by a loud,\\r\\nrushing sound, DIMINUENDO, which seemed to travel back through the air\\r\\nto the fort and died in an explosion which stirred the very river to\\r\\nits deeps!  A rising sheet of water curved over him, fell down upon\\r\\nhim, blinded him, strangled him!  The cannon had taken an hand in the\\r\\ngame.  As he shook his head free from the commotion of the smitten\\r\\nwater he heard the deflected shot humming through the air ahead, and\\r\\nin an instant it was cracking and smashing the branches in the forest\\r\\nbeyond.\\r\\n\\r\\n\"They will not do that again,\" he thought; \"the next time they will\\r\\nuse a charge of grape.  I must keep my eye upon the gun; the smoke\\r\\nwill apprise me--the report arrives too late; it lags behind the\\r\\nmissile.  That is a good gun.\"\\r\\n\\r\\nSuddenly he felt himself whirled round and round--spinning like a top.\\r\\nThe water, the banks, the forests, the now distant bridge, fort and\\r\\nmen, all were commingled and blurred.  Objects were represented by\\r\\ntheir colors only; circular horizontal streaks of color--that was all\\r\\nhe saw. He had been caught in a vortex and was being whirled on with a\\r\\nvelocity of advance and gyration that made him giddy and sick.  In few\\r\\nmoments he was flung upon the gravel at the foot of the left bank of\\r\\nthe stream--the southern bank--and behind a projecting point which\\r\\nconcealed him from his enemies.  The sudden arrest of his motion, the\\r\\nabrasion of one of his hands on the gravel, restored him, and he wept\\r\\nwith delight.  He dug his fingers into the sand, threw it over himself\\r\\nin handfuls and audibly blessed it.  It looked like diamonds, rubies,\\r\\nemeralds; he could think of nothing beautiful which it did not\\r\\nresemble.  The trees upon the bank were giant garden plants; he noted\\r\\na definite order in their arrangement, inhaled the fragrance of their\\r\\nblooms.  A strange roseate light shone through the spaces among their\\r\\ntrunks and the wind made in their branches the music of AEolian harps.\\r\\nHe had not wish to perfect his escape--he was content to remain in\\r\\nthat enchanting spot until retaken.\\r\\n\\r\\nA whiz and a rattle of grapeshot among the branches high above his\\r\\nhead roused him from his dream.  The baffled cannoneer had fired him a\\r\\nrandom farewell.  He sprang to his feet, rushed up the sloping bank,\\r\\nand plunged into the forest.\\r\\n\\r\\nAll that day he traveled, laying his course by the rounding sun.  The\\r\\nforest seemed interminable; nowhere did he discover a break in it, not\\r\\neven a woodman\\'s road.  He had not known that he lived in so wild a\\r\\nregion.  There was something uncanny in the revelation.\\r\\n\\r\\nBy nightfall he was fatigued, footsore, famished.  The thought of his\\r\\nwife and children urged him on.  At last he found a road which led him\\r\\nin what he knew to be the right direction.  It was as wide and\\r\\nstraight as a city street, yet it seemed untraveled.  No fields\\r\\nbordered it, no dwelling anywhere.  Not so much as the barking of a\\r\\ndog suggested human habitation.  The black bodies of the trees formed\\r\\na straight wall on both sides, terminating on the horizon in a point,\\r\\nlike a diagram in a lesson in perspective.  Overhead, as he looked up\\r\\nthrough this rift in the wood, shone great golden stars looking\\r\\nunfamiliar and grouped in strange constellations.  He was sure they\\r\\nwere arranged in some order which had a secret and malign\\r\\nsignificance.  The wood on either side was full of singular noises,\\r\\namong which--once, twice, and again--he distinctly heard whispers in\\r\\nan unknown tongue.\\r\\n\\r\\nHis neck was in pain and lifting his hand to it found it horribly\\r\\nswollen.  He knew that it had a circle of black where the rope had\\r\\nbruised it.  His eyes felt congested; he could no longer close them.\\r\\nHis tongue was swollen with thirst; he relieved its fever by thrusting\\r\\nit forward from between his teeth into the cold air.  How softly the\\r\\nturf had carpeted the untraveled avenue--he could no longer feel the\\r\\nroadway beneath his feet!\\r\\n\\r\\nDoubtless, despite his suffering, he had fallen asleep while walking,\\r\\nfor now he sees another scene--perhaps he has merely recovered from a\\r\\ndelirium.  He stands at the gate of his own home.  All is as he left\\r\\nit, and all bright and beautiful in the morning sunshine.  He must\\r\\nhave traveled the entire night.  As he pushes open the gate and passes\\r\\nup the wide white walk, he sees a flutter of female garments; his\\r\\nwife, looking fresh and cool and sweet, steps down from the veranda to\\r\\nmeet him.  At the bottom of the steps she stands waiting, with a smile\\r\\nof ineffable joy, an attitude of matchless grace and dignity.  Ah, how\\r\\nbeautiful she is!  He springs forwards with extended arms.  As he is\\r\\nabout to clasp her he feels a stunning blow upon the back of the neck;\\r\\na blinding white light blazes all about him with a sound like the\\r\\nshock of a cannon--then all is darkness and silence!\\r\\n\\r\\nPeyton Farquhar was dead; his body, with a broken neck, swung gently\\r\\nfrom side to side beneath the timbers of the Owl Creek bridge.\\r\\n\\r\\n'}"
            ]
          },
          "metadata": {
            "tags": []
          },
          "execution_count": 2
        }
      ]
    },
    {
      "cell_type": "markdown",
      "metadata": {
        "id": "NJ9MNmQM3LY5",
        "colab_type": "text"
      },
      "source": [
        "For this assessment we'll be using the short story [_An Occurrence at Owl Creek Bridge_](https://en.wikipedia.org/wiki/An_Occurrence_at_Owl_Creek_Bridge) by Ambrose Bierce (1890). <br>The story is in the public domain; the text file was obtained from [Project Gutenberg](https://www.gutenberg.org/ebooks/375.txt.utf-8)."
      ]
    },
    {
      "cell_type": "code",
      "metadata": {
        "id": "t0wHKart3LY8",
        "colab_type": "code",
        "colab": {}
      },
      "source": [
        "# RUN THIS CELL to perform standard imports:\n",
        "import spacy\n",
        "nlp = spacy.load('en_core_web_sm')"
      ],
      "execution_count": 0,
      "outputs": []
    },
    {
      "cell_type": "markdown",
      "metadata": {
        "id": "u7bI6thO3LZJ",
        "colab_type": "text"
      },
      "source": [
        "**1. Create a Doc object from the file `owlcreek.txt`**<br>\n",
        "> HINT: Use `with open('../TextFiles/owlcreek.txt') as f:`"
      ]
    },
    {
      "cell_type": "code",
      "metadata": {
        "id": "gnA_IYSG3LZM",
        "colab_type": "code",
        "colab": {}
      },
      "source": [
        "# Enter your code here:\n",
        "\n",
        "with open('owlcreek.txt','r') as f:\n",
        "  doc = nlp(f.read())\n",
        "\n"
      ],
      "execution_count": 0,
      "outputs": []
    },
    {
      "cell_type": "code",
      "metadata": {
        "id": "3Cy6FD683LZV",
        "colab_type": "code",
        "colab": {
          "base_uri": "https://localhost:8080/",
          "height": 158
        },
        "outputId": "dc37ecc4-f5f0-4dab-ad79-1ad912ebaad0"
      },
      "source": [
        "# Run this cell to verify it worked:\n",
        "\n",
        "doc[:36]"
      ],
      "execution_count": 5,
      "outputs": [
        {
          "output_type": "execute_result",
          "data": {
            "text/plain": [
              "AN OCCURRENCE AT OWL CREEK BRIDGE\n",
              "\n",
              "by Ambrose Bierce\n",
              "\n",
              "I\n",
              "\n",
              "A man stood upon a railroad bridge in northern Alabama, looking down\n",
              "into the swift water twenty feet below.  "
            ]
          },
          "metadata": {
            "tags": []
          },
          "execution_count": 5
        }
      ]
    },
    {
      "cell_type": "markdown",
      "metadata": {
        "id": "epMyuDF-3LZj",
        "colab_type": "text"
      },
      "source": [
        "**2. How many tokens are contained in the file?**"
      ]
    },
    {
      "cell_type": "code",
      "metadata": {
        "id": "iq0SgKJ03LZl",
        "colab_type": "code",
        "colab": {
          "base_uri": "https://localhost:8080/",
          "height": 34
        },
        "outputId": "c2dc5d1d-b16c-4561-9824-3a320a994f20"
      },
      "source": [
        "len(doc)"
      ],
      "execution_count": 10,
      "outputs": [
        {
          "output_type": "execute_result",
          "data": {
            "text/plain": [
              "4833"
            ]
          },
          "metadata": {
            "tags": []
          },
          "execution_count": 10
        }
      ]
    },
    {
      "cell_type": "markdown",
      "metadata": {
        "id": "733MIa0x3LZw",
        "colab_type": "text"
      },
      "source": [
        "**3. How many sentences are contained in the file?**<br>HINT: You'll want to build a list first!"
      ]
    },
    {
      "cell_type": "code",
      "metadata": {
        "id": "ydqXlZGy3LZz",
        "colab_type": "code",
        "colab": {
          "base_uri": "https://localhost:8080/",
          "height": 34
        },
        "outputId": "9e400f1d-2d93-4e96-d08b-e5d90b1f2186"
      },
      "source": [
        "sentence =[]\n",
        "for sent in doc.sents:\n",
        "  sentence.append(sent)\n",
        "len(sentence)\n"
      ],
      "execution_count": 14,
      "outputs": [
        {
          "output_type": "execute_result",
          "data": {
            "text/plain": [
              "222"
            ]
          },
          "metadata": {
            "tags": []
          },
          "execution_count": 14
        }
      ]
    },
    {
      "cell_type": "markdown",
      "metadata": {
        "id": "35iTxTda3LZ8",
        "colab_type": "text"
      },
      "source": [
        "**4. Print the second sentence in the document**<br> HINT: Indexing starts at zero, and the title counts as the first sentence."
      ]
    },
    {
      "cell_type": "code",
      "metadata": {
        "id": "yix7jhaW3LZ_",
        "colab_type": "code",
        "colab": {
          "base_uri": "https://localhost:8080/",
          "height": 52
        },
        "outputId": "06cf7c32-7406-47ef-cafc-c7cac813f4f3"
      },
      "source": [
        "print(sentence[2].text)"
      ],
      "execution_count": 16,
      "outputs": [
        {
          "output_type": "stream",
          "text": [
            "A man stood upon a railroad bridge in northern Alabama, looking down\n",
            "into the swift water twenty feet below.  \n"
          ],
          "name": "stdout"
        }
      ]
    },
    {
      "cell_type": "markdown",
      "metadata": {
        "id": "0Q2tPi6b3LaK",
        "colab_type": "text"
      },
      "source": [
        "** 5. For each token in the sentence above, print its `text`, `POS` tag, `dep` tag and `lemma`<br>\n",
        "CHALLENGE: Have values line up in columns in the print output.**"
      ]
    },
    {
      "cell_type": "code",
      "metadata": {
        "id": "kjMdei4_3LaN",
        "colab_type": "code",
        "colab": {
          "base_uri": "https://localhost:8080/",
          "height": 461
        },
        "outputId": "27f5c422-8803-4a09-d91d-dd1622e7bbb9"
      },
      "source": [
        "# NORMAL SOLUTION:\n",
        "for token in sentence[2]:\n",
        "  print(f\"{token.text} {token.pos_} {token.dep_} {token.lemma_}\")\n"
      ],
      "execution_count": 17,
      "outputs": [
        {
          "output_type": "stream",
          "text": [
            "A DET det a\n",
            "man NOUN nsubj man\n",
            "stood VERB ROOT stand\n",
            "upon ADP prep upon\n",
            "a DET det a\n",
            "railroad NOUN compound railroad\n",
            "bridge NOUN pobj bridge\n",
            "in ADP prep in\n",
            "northern ADJ amod northern\n",
            "Alabama PROPN pobj Alabama\n",
            ", PUNCT punct ,\n",
            "looking VERB advcl look\n",
            "down ADV advmod down\n",
            "\n",
            " SPACE  \n",
            "\n",
            "into ADP prep into\n",
            "the DET det the\n",
            "swift ADJ amod swift\n",
            "water NOUN pobj water\n",
            "twenty NUM nummod twenty\n",
            "feet NOUN npadvmod foot\n",
            "below ADV advmod below\n",
            ". PUNCT punct .\n",
            "  SPACE   \n"
          ],
          "name": "stdout"
        }
      ]
    },
    {
      "cell_type": "code",
      "metadata": {
        "id": "sbet4v-33LaW",
        "colab_type": "code",
        "colab": {
          "base_uri": "https://localhost:8080/",
          "height": 461
        },
        "outputId": "3b2f8270-5354-4606-b428-6261e75779db"
      },
      "source": [
        "# CHALLENGE SOLUTION:\n",
        "for token in sentence[2]:\n",
        "  print(f\"{token.text:{15}} {token.pos_:{5}} {token.dep_:{10}} {token.lemma_} \")\n"
      ],
      "execution_count": 19,
      "outputs": [
        {
          "output_type": "stream",
          "text": [
            "A               DET   det        a \n",
            "man             NOUN  nsubj      man \n",
            "stood           VERB  ROOT       stand \n",
            "upon            ADP   prep       upon \n",
            "a               DET   det        a \n",
            "railroad        NOUN  compound   railroad \n",
            "bridge          NOUN  pobj       bridge \n",
            "in              ADP   prep       in \n",
            "northern        ADJ   amod       northern \n",
            "Alabama         PROPN pobj       Alabama \n",
            ",               PUNCT punct      , \n",
            "looking         VERB  advcl      look \n",
            "down            ADV   advmod     down \n",
            "\n",
            "               SPACE            \n",
            " \n",
            "into            ADP   prep       into \n",
            "the             DET   det        the \n",
            "swift           ADJ   amod       swift \n",
            "water           NOUN  pobj       water \n",
            "twenty          NUM   nummod     twenty \n",
            "feet            NOUN  npadvmod   foot \n",
            "below           ADV   advmod     below \n",
            ".               PUNCT punct      . \n",
            "                SPACE              \n"
          ],
          "name": "stdout"
        }
      ]
    },
    {
      "cell_type": "markdown",
      "metadata": {
        "id": "GVjccuni3Laf",
        "colab_type": "text"
      },
      "source": [
        "**6. Write a matcher called 'Swimming' that finds both occurrences of the phrase \"swimming vigorously\" in the text**<br>\n",
        "HINT: You should include an `'IS_SPACE': True` pattern between the two words!"
      ]
    },
    {
      "cell_type": "code",
      "metadata": {
        "id": "zjDq4Z8M3Lai",
        "colab_type": "code",
        "colab": {}
      },
      "source": [
        "# Import the Matcher library:\n",
        "\n",
        "from spacy.matcher import Matcher\n",
        "matcher = Matcher(nlp.vocab)"
      ],
      "execution_count": 0,
      "outputs": []
    },
    {
      "cell_type": "code",
      "metadata": {
        "id": "YZLcX5Yb3Las",
        "colab_type": "code",
        "colab": {}
      },
      "source": [
        "# Create a pattern and add it to matcher:\n",
        "\n",
        "pattern = [{'LOWER':'swimming'},{'IS_SPACE':True},{'LOWER':'vigorously'}]\n",
        "\n"
      ],
      "execution_count": 0,
      "outputs": []
    },
    {
      "cell_type": "code",
      "metadata": {
        "id": "2-Hpu5yiIGvb",
        "colab_type": "code",
        "colab": {}
      },
      "source": [
        "matcher.add('Swimming',None,pattern)"
      ],
      "execution_count": 0,
      "outputs": []
    },
    {
      "cell_type": "code",
      "metadata": {
        "id": "AW9kb7GpISei",
        "colab_type": "code",
        "colab": {
          "base_uri": "https://localhost:8080/",
          "height": 34
        },
        "outputId": "0abbf3ea-12e8-4487-afa0-96064ae1fcad"
      },
      "source": [
        "found_matches = matcher(doc)\n",
        "print(found_matches)"
      ],
      "execution_count": 24,
      "outputs": [
        {
          "output_type": "stream",
          "text": [
            "[(12881893835109366681, 1274, 1277), (12881893835109366681, 3607, 3610)]\n"
          ],
          "name": "stdout"
        }
      ]
    },
    {
      "cell_type": "code",
      "metadata": {
        "id": "SGsT4nQ_3La0",
        "colab_type": "code",
        "colab": {},
        "outputId": "4919ec08-6075-4e26-c5ef-8d41ab7fe88c"
      },
      "source": [
        "# Create a list of matches called \"found_matches\" and print the list:\n",
        "\n",
        "\n"
      ],
      "execution_count": 0,
      "outputs": [
        {
          "output_type": "stream",
          "text": [
            "[(12881893835109366681, 1274, 1277), (12881893835109366681, 3607, 3610)]\n"
          ],
          "name": "stdout"
        }
      ]
    },
    {
      "cell_type": "markdown",
      "metadata": {
        "id": "8Hn7ycQO3La9",
        "colab_type": "text"
      },
      "source": [
        "**7. Print the text surrounding each found match**"
      ]
    },
    {
      "cell_type": "code",
      "metadata": {
        "id": "dGQ_KLaSIvGR",
        "colab_type": "code",
        "colab": {}
      },
      "source": [
        "def surrounding(do,start,end):\n",
        "  print(doc[start - 5:end + 5])"
      ],
      "execution_count": 0,
      "outputs": []
    },
    {
      "cell_type": "code",
      "metadata": {
        "id": "PWKHt8-JI9Se",
        "colab_type": "code",
        "colab": {
          "base_uri": "https://localhost:8080/",
          "height": 52
        },
        "outputId": "7af481bc-e30d-46d8-c578-0dcb1c91ce44"
      },
      "source": [
        "surrounding(doc,1274,1277)"
      ],
      "execution_count": 26,
      "outputs": [
        {
          "output_type": "stream",
          "text": [
            "evade the bullets and, swimming\n",
            "vigorously, reach the bank,\n"
          ],
          "name": "stdout"
        }
      ]
    },
    {
      "cell_type": "code",
      "metadata": {
        "id": "_qVcp6unJGuz",
        "colab_type": "code",
        "colab": {
          "base_uri": "https://localhost:8080/",
          "height": 52
        },
        "outputId": "7c1ecab9-0c23-4b80-c075-e68f729cf5f0"
      },
      "source": [
        "surrounding(doc,3607,3610)"
      ],
      "execution_count": 27,
      "outputs": [
        {
          "output_type": "stream",
          "text": [
            "shoulder; he was now swimming\n",
            "vigorously with the current.  \n"
          ],
          "name": "stdout"
        }
      ]
    },
    {
      "cell_type": "code",
      "metadata": {
        "id": "_Nb4aZq-3LbA",
        "colab_type": "code",
        "colab": {},
        "outputId": "b16ed81b-41d1-4e18-aee0-833312fc20ad"
      },
      "source": [
        ""
      ],
      "execution_count": 0,
      "outputs": [
        {
          "output_type": "stream",
          "text": [
            "By diving I could evade the bullets and, swimming\n",
            "vigorously, reach the bank, take to the woods and get away home\n"
          ],
          "name": "stdout"
        }
      ]
    },
    {
      "cell_type": "code",
      "metadata": {
        "id": "qrNHf48q3LbI",
        "colab_type": "code",
        "colab": {},
        "outputId": "ffa6a4fe-816b-4989-ccad-e25030607dcd"
      },
      "source": [
        ""
      ],
      "execution_count": 0,
      "outputs": [
        {
          "output_type": "stream",
          "text": [
            "over his shoulder; he was now swimming\n",
            "vigorously with the current.  \n"
          ],
          "name": "stdout"
        }
      ]
    },
    {
      "cell_type": "markdown",
      "metadata": {
        "id": "SZT2ko8-3LbU",
        "colab_type": "text"
      },
      "source": [
        "**EXTRA CREDIT:<br>Print the *sentence* that contains each found match**"
      ]
    },
    {
      "cell_type": "code",
      "metadata": {
        "id": "I_BVpJDQJg3A",
        "colab_type": "code",
        "colab": {
          "base_uri": "https://localhost:8080/",
          "height": 52
        },
        "outputId": "5b51418b-3be1-426d-eb65-204ff2623f28"
      },
      "source": [
        "for sent in sentence:\n",
        "  #print(sent.end)\n",
        "  if found_matches[0][1] < sent.end:\n",
        "    print(sent)\n",
        "    #print(sent.end)\n",
        "    break"
      ],
      "execution_count": 34,
      "outputs": [
        {
          "output_type": "stream",
          "text": [
            "By diving I could evade the bullets and, swimming\n",
            "vigorously, reach the bank, take to the woods and get away home.  \n"
          ],
          "name": "stdout"
        }
      ]
    },
    {
      "cell_type": "code",
      "metadata": {
        "id": "zmDDb_a3KMH5",
        "colab_type": "code",
        "colab": {
          "base_uri": "https://localhost:8080/",
          "height": 52
        },
        "outputId": "9ae3bc7b-065b-4aed-8f60-ec46ad485c2b"
      },
      "source": [
        "for sent in sentence:\n",
        "  if found_matches[1][1] < sent.end:\n",
        "    print(sent)\n",
        "    break"
      ],
      "execution_count": 35,
      "outputs": [
        {
          "output_type": "stream",
          "text": [
            "The hunted man saw all this over his shoulder; he was now swimming\n",
            "vigorously with the current.  \n"
          ],
          "name": "stdout"
        }
      ]
    },
    {
      "cell_type": "code",
      "metadata": {
        "id": "SScEktt2O-1L",
        "colab_type": "code",
        "colab": {}
      },
      "source": [
        ""
      ],
      "execution_count": 0,
      "outputs": []
    },
    {
      "cell_type": "code",
      "metadata": {
        "id": "3uJOI4Ai3LbX",
        "colab_type": "code",
        "colab": {},
        "outputId": "af437eb2-0f97-4d6b-b73e-462692b90c34"
      },
      "source": [
        "\n",
        "\n",
        "\n"
      ],
      "execution_count": 0,
      "outputs": [
        {
          "output_type": "stream",
          "text": [
            "By diving I could evade the bullets and, swimming\n",
            "vigorously, reach the bank, take to the woods and get away home.  \n"
          ],
          "name": "stdout"
        }
      ]
    },
    {
      "cell_type": "code",
      "metadata": {
        "id": "MS80n0Mq3Lbj",
        "colab_type": "code",
        "colab": {},
        "outputId": "a8919b50-4ac8-4901-c8b0-282083086ba1"
      },
      "source": [
        "\n",
        "\n",
        "\n"
      ],
      "execution_count": 0,
      "outputs": [
        {
          "output_type": "stream",
          "text": [
            "The hunted man saw all this over his shoulder; he was now swimming\n",
            "vigorously with the current.  \n"
          ],
          "name": "stdout"
        }
      ]
    },
    {
      "cell_type": "markdown",
      "metadata": {
        "id": "h60dQJQ93Lbu",
        "colab_type": "text"
      },
      "source": [
        "### Great Job!"
      ]
    }
  ]
}