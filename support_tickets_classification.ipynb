{
  "nbformat": 4,
  "nbformat_minor": 0,
  "metadata": {
    "colab": {
      "name": "support-tickets-classification.ipynb",
      "version": "0.3.2",
      "provenance": [],
      "collapsed_sections": [],
      "toc_visible": true,
      "include_colab_link": true
    },
    "kernelspec": {
      "name": "python3",
      "display_name": "Python 3"
    },
    "accelerator": "GPU"
  },
  "cells": [
    {
      "cell_type": "markdown",
      "metadata": {
        "id": "view-in-github",
        "colab_type": "text"
      },
      "source": [
        "<a href=\"https://colab.research.google.com/github/plaban1981/NLP/blob/master/support_tickets_classification.ipynb\" target=\"_parent\"><img src=\"https://colab.research.google.com/assets/colab-badge.svg\" alt=\"Open In Colab\"/></a>"
      ]
    },
    {
      "cell_type": "markdown",
      "metadata": {
        "id": "VurOpUHcbGHB",
        "colab_type": "text"
      },
      "source": [
        "https://github.com/karolzak/support-tickets-classification/blob/master/train_model.ipynb"
      ]
    },
    {
      "cell_type": "markdown",
      "metadata": {
        "id": "WggPVbSHxfhD",
        "colab_type": "text"
      },
      "source": [
        "https://realpython.com/python-keras-text-classification/\n",
        "\n",
        "https://towardsdatascience.com/machine-learning-nlp-text-classification-using-scikit-learn-python-and-nltk-c52b92a7c73a"
      ]
    },
    {
      "cell_type": "code",
      "metadata": {
        "id": "M8QIhe04a7DG",
        "colab_type": "code",
        "colab": {
          "base_uri": "https://localhost:8080/",
          "height": 224
        },
        "outputId": "d79c299e-d120-4450-f85d-5456c5e48fd6"
      },
      "source": [
        "!wget \"https://privdatastorage.blob.core.windows.net/github/support-tickets-classification/datasets/all_tickets.csv\" "
      ],
      "execution_count": 1,
      "outputs": [
        {
          "output_type": "stream",
          "text": [
            "--2019-07-26 06:26:07--  https://privdatastorage.blob.core.windows.net/github/support-tickets-classification/datasets/all_tickets.csv\n",
            "Resolving privdatastorage.blob.core.windows.net (privdatastorage.blob.core.windows.net)... 52.239.140.10\n",
            "Connecting to privdatastorage.blob.core.windows.net (privdatastorage.blob.core.windows.net)|52.239.140.10|:443... connected.\n",
            "HTTP request sent, awaiting response... 200 OK\n",
            "Length: 14982172 (14M) [application/vnd.ms-excel]\n",
            "Saving to: ‘all_tickets.csv’\n",
            "\n",
            "all_tickets.csv     100%[===================>]  14.29M  29.2MB/s    in 0.5s    \n",
            "\n",
            "2019-07-26 06:26:13 (29.2 MB/s) - ‘all_tickets.csv’ saved [14982172/14982172]\n",
            "\n"
          ],
          "name": "stdout"
        }
      ]
    },
    {
      "cell_type": "code",
      "metadata": {
        "id": "8ktZWg1jcUFD",
        "colab_type": "code",
        "colab": {}
      },
      "source": [
        "import pandas as pd\n",
        "dfTickets = pd.read_csv('all_tickets.csv')"
      ],
      "execution_count": 0,
      "outputs": []
    },
    {
      "cell_type": "code",
      "metadata": {
        "id": "NdPnMGA9chdi",
        "colab_type": "code",
        "outputId": "399c7680-af3b-4ac7-f9d0-e451f619ea56",
        "colab": {
          "base_uri": "https://localhost:8080/",
          "height": 476
        }
      },
      "source": [
        "dfTickets.head()"
      ],
      "execution_count": 3,
      "outputs": [
        {
          "output_type": "execute_result",
          "data": {
            "text/html": [
              "<div>\n",
              "<style scoped>\n",
              "    .dataframe tbody tr th:only-of-type {\n",
              "        vertical-align: middle;\n",
              "    }\n",
              "\n",
              "    .dataframe tbody tr th {\n",
              "        vertical-align: top;\n",
              "    }\n",
              "\n",
              "    .dataframe thead th {\n",
              "        text-align: right;\n",
              "    }\n",
              "</style>\n",
              "<table border=\"1\" class=\"dataframe\">\n",
              "  <thead>\n",
              "    <tr style=\"text-align: right;\">\n",
              "      <th></th>\n",
              "      <th>title</th>\n",
              "      <th>body</th>\n",
              "      <th>ticket_type</th>\n",
              "      <th>category</th>\n",
              "      <th>sub_category1</th>\n",
              "      <th>sub_category2</th>\n",
              "      <th>business_service</th>\n",
              "      <th>urgency</th>\n",
              "      <th>impact</th>\n",
              "    </tr>\n",
              "  </thead>\n",
              "  <tbody>\n",
              "    <tr>\n",
              "      <th>0</th>\n",
              "      <td>NaN</td>\n",
              "      <td>hi since recruiter lead permission approve req...</td>\n",
              "      <td>1</td>\n",
              "      <td>4</td>\n",
              "      <td>2</td>\n",
              "      <td>21</td>\n",
              "      <td>71</td>\n",
              "      <td>3</td>\n",
              "      <td>4</td>\n",
              "    </tr>\n",
              "    <tr>\n",
              "      <th>1</th>\n",
              "      <td>connection with icon</td>\n",
              "      <td>icon dear please setup icon per icon engineers...</td>\n",
              "      <td>1</td>\n",
              "      <td>6</td>\n",
              "      <td>22</td>\n",
              "      <td>7</td>\n",
              "      <td>26</td>\n",
              "      <td>3</td>\n",
              "      <td>4</td>\n",
              "    </tr>\n",
              "    <tr>\n",
              "      <th>2</th>\n",
              "      <td>work experience user</td>\n",
              "      <td>work experience user hi work experience studen...</td>\n",
              "      <td>1</td>\n",
              "      <td>5</td>\n",
              "      <td>13</td>\n",
              "      <td>7</td>\n",
              "      <td>32</td>\n",
              "      <td>3</td>\n",
              "      <td>4</td>\n",
              "    </tr>\n",
              "    <tr>\n",
              "      <th>3</th>\n",
              "      <td>requesting for meeting</td>\n",
              "      <td>requesting meeting hi please help follow equip...</td>\n",
              "      <td>1</td>\n",
              "      <td>5</td>\n",
              "      <td>13</td>\n",
              "      <td>7</td>\n",
              "      <td>32</td>\n",
              "      <td>3</td>\n",
              "      <td>4</td>\n",
              "    </tr>\n",
              "    <tr>\n",
              "      <th>4</th>\n",
              "      <td>reset passwords for external accounts</td>\n",
              "      <td>re expire days hi ask help update passwords co...</td>\n",
              "      <td>1</td>\n",
              "      <td>4</td>\n",
              "      <td>2</td>\n",
              "      <td>76</td>\n",
              "      <td>4</td>\n",
              "      <td>3</td>\n",
              "      <td>4</td>\n",
              "    </tr>\n",
              "  </tbody>\n",
              "</table>\n",
              "</div>"
            ],
            "text/plain": [
              "                                   title  ... impact\n",
              "0                                    NaN  ...      4\n",
              "1                   connection with icon  ...      4\n",
              "2                   work experience user  ...      4\n",
              "3                 requesting for meeting  ...      4\n",
              "4  reset passwords for external accounts  ...      4\n",
              "\n",
              "[5 rows x 9 columns]"
            ]
          },
          "metadata": {
            "tags": []
          },
          "execution_count": 3
        }
      ]
    },
    {
      "cell_type": "code",
      "metadata": {
        "id": "oAx0eagCd0vt",
        "colab_type": "code",
        "outputId": "b9512fe5-4ce9-4434-8c63-435d643378e0",
        "colab": {
          "base_uri": "https://localhost:8080/",
          "height": 34
        }
      },
      "source": [
        "dfTickets.shape"
      ],
      "execution_count": 4,
      "outputs": [
        {
          "output_type": "execute_result",
          "data": {
            "text/plain": [
              "(48549, 9)"
            ]
          },
          "metadata": {
            "tags": []
          },
          "execution_count": 4
        }
      ]
    },
    {
      "cell_type": "code",
      "metadata": {
        "id": "IRkgyFMG0mQ3",
        "colab_type": "code",
        "outputId": "28239fbd-8875-420d-8f76-96ec04a47325",
        "colab": {
          "base_uri": "https://localhost:8080/",
          "height": 255
        }
      },
      "source": [
        "dfTickets.info()"
      ],
      "execution_count": 5,
      "outputs": [
        {
          "output_type": "stream",
          "text": [
            "<class 'pandas.core.frame.DataFrame'>\n",
            "RangeIndex: 48549 entries, 0 to 48548\n",
            "Data columns (total 9 columns):\n",
            "title               47837 non-null object\n",
            "body                48549 non-null object\n",
            "ticket_type         48549 non-null int64\n",
            "category            48549 non-null int64\n",
            "sub_category1       48549 non-null int64\n",
            "sub_category2       48549 non-null int64\n",
            "business_service    48549 non-null int64\n",
            "urgency             48549 non-null int64\n",
            "impact              48549 non-null int64\n",
            "dtypes: int64(7), object(2)\n",
            "memory usage: 3.3+ MB\n"
          ],
          "name": "stdout"
        }
      ]
    },
    {
      "cell_type": "markdown",
      "metadata": {
        "id": "WW5Jj9UYxrWp",
        "colab_type": "text"
      },
      "source": [
        "# Import Libraries"
      ]
    },
    {
      "cell_type": "code",
      "metadata": {
        "id": "xZVq-scSxtu8",
        "colab_type": "code",
        "colab": {}
      },
      "source": [
        "import sys\n",
        "import os\n",
        "import nltk\n",
        "import numpy as np\n",
        "import pandas as pd\n",
        "import pickle\n",
        "import re\n",
        "import string\n",
        "from tqdm import tqdm #progress bar\n",
        "from bs4 import BeautifulSoup\n",
        "import nltk\n",
        "from nltk.stem.snowball import SnowballStemmer\n",
        "from nltk.corpus import stopwords \n",
        "from sklearn.feature_extraction.text import CountVectorizer, TfidfTransformer\n",
        "from sklearn.linear_model import SGDClassifier\n",
        "from sklearn.model_selection import GridSearchCV, train_test_split\n",
        "from sklearn.naive_bayes import MultinomialNB\n",
        "from sklearn.pipeline import Pipeline\n",
        "from matplotlib import pyplot as plt\n",
        "%matplotlib inline"
      ],
      "execution_count": 0,
      "outputs": []
    },
    {
      "cell_type": "markdown",
      "metadata": {
        "id": "kj64_rYi9gOX",
        "colab_type": "text"
      },
      "source": [
        "## Checking null values"
      ]
    },
    {
      "cell_type": "code",
      "metadata": {
        "id": "IB_3qqv-yab5",
        "colab_type": "code",
        "outputId": "49d7bbf9-8319-485e-9137-3a2a7feddd35",
        "colab": {
          "base_uri": "https://localhost:8080/",
          "height": 51
        }
      },
      "source": [
        "dfTickets.isnull().sum()[dfTickets.isnull().sum() > 0]"
      ],
      "execution_count": 8,
      "outputs": [
        {
          "output_type": "execute_result",
          "data": {
            "text/plain": [
              "title    712\n",
              "dtype: int64"
            ]
          },
          "metadata": {
            "tags": []
          },
          "execution_count": 8
        }
      ]
    },
    {
      "cell_type": "code",
      "metadata": {
        "id": "SzSwIZpRz__M",
        "colab_type": "code",
        "colab": {}
      },
      "source": [
        "# used to determine number of samples required for each class.Classes with less than that will be excluded from the dataset. default value is 1 \n",
        "min_data_per_class = 1"
      ],
      "execution_count": 0,
      "outputs": []
    },
    {
      "cell_type": "markdown",
      "metadata": {
        "id": "ZJF8wvAm2f6M",
        "colab_type": "text"
      },
      "source": [
        "# Removing rows related to classes represented by low amount of data"
      ]
    },
    {
      "cell_type": "code",
      "metadata": {
        "id": "U5R6Y3Rj2ido",
        "colab_type": "code",
        "outputId": "ff931843-6114-4ee9-ee4f-178439488728",
        "colab": {
          "base_uri": "https://localhost:8080/",
          "height": 34
        }
      },
      "source": [
        "print(\"Shape of dataset before removing classes with less then \" + str(min_data_per_class) + \" rows: \"+str(dfTickets.shape))\n"
      ],
      "execution_count": 10,
      "outputs": [
        {
          "output_type": "stream",
          "text": [
            "Shape of dataset before removing classes with less then 1 rows: (48549, 9)\n"
          ],
          "name": "stdout"
        }
      ]
    },
    {
      "cell_type": "code",
      "metadata": {
        "id": "sa1n4GV9136I",
        "colab_type": "code",
        "outputId": "3d210397-8bd3-4e04-9381-9722331072a9",
        "colab": {
          "base_uri": "https://localhost:8080/",
          "height": 34
        }
      },
      "source": [
        "print(\"Number of classes before removing classes with less then \" + str(min_data_per_class) + \" rows: \"+str(len(np.unique(dfTickets['ticket_type']))))"
      ],
      "execution_count": 11,
      "outputs": [
        {
          "output_type": "stream",
          "text": [
            "Number of classes before removing classes with less then 1 rows: 2\n"
          ],
          "name": "stdout"
        }
      ]
    },
    {
      "cell_type": "markdown",
      "metadata": {
        "id": "aBcm9fRW-D5f",
        "colab_type": "text"
      },
      "source": [
        "## Distinct Labels"
      ]
    },
    {
      "cell_type": "code",
      "metadata": {
        "id": "Jn_1GrB84SOv",
        "colab_type": "code",
        "outputId": "98eb28b8-8ec6-4716-bbae-42f1d6e27db9",
        "colab": {
          "base_uri": "https://localhost:8080/",
          "height": 68
        }
      },
      "source": [
        "dfTickets['ticket_type'].value_counts()"
      ],
      "execution_count": 12,
      "outputs": [
        {
          "output_type": "execute_result",
          "data": {
            "text/plain": [
              "1    34621\n",
              "0    13928\n",
              "Name: ticket_type, dtype: int64"
            ]
          },
          "metadata": {
            "tags": []
          },
          "execution_count": 12
        }
      ]
    },
    {
      "cell_type": "markdown",
      "metadata": {
        "id": "CYIS9Myk-a3D",
        "colab_type": "text"
      },
      "source": [
        "## Text Preprocessing /Cleaning "
      ]
    },
    {
      "cell_type": "code",
      "metadata": {
        "id": "0n9AN7wiA2PI",
        "colab_type": "code",
        "colab": {}
      },
      "source": [
        "# convert contracted words to normal words\n",
        "def decontracted(phrase):\n",
        "  phrase = re.sub(r\"won\\'t\",\"will not\",phrase)\n",
        "  phrase = re.sub(r\"can\\'t\",\"cannot\",phrase)\n",
        "  phrase = re.sub(r\"n\\'t\",\"not\",phrase)\n",
        "  phrase = re.sub(r\"\\'re\",\"are\",phrase)\n",
        "  phrase = re.sub(r\"\\'d\",\"would\",phrase)\n",
        "  phrase = re.sub(r\"\\'s\",\"is\",phrase)\n",
        "  phrase = re.sub(r\"\\'ll\",\"will\",phrase)\n",
        "  phrase = re.sub(r\"\\'t\",\"not\",phrase)\n",
        "  phrase = re.sub(r\"\\'ve\",\"have\",phrase)\n",
        "  phrase = re.sub(r\"\\'m\",\"am\",phrase)\n",
        "  return phrase"
      ],
      "execution_count": 0,
      "outputs": []
    },
    {
      "cell_type": "code",
      "metadata": {
        "id": "BFudMAyLEWAc",
        "colab_type": "code",
        "colab": {
          "base_uri": "https://localhost:8080/",
          "height": 68
        },
        "outputId": "de2f57c0-53ff-4b92-cdcf-270a5bf4f122"
      },
      "source": [
        "nltk.download('stopwords')"
      ],
      "execution_count": 22,
      "outputs": [
        {
          "output_type": "stream",
          "text": [
            "[nltk_data] Downloading package stopwords to /root/nltk_data...\n",
            "[nltk_data]   Unzipping corpora/stopwords.zip.\n"
          ],
          "name": "stdout"
        },
        {
          "output_type": "execute_result",
          "data": {
            "text/plain": [
              "True"
            ]
          },
          "metadata": {
            "tags": []
          },
          "execution_count": 22
        }
      ]
    },
    {
      "cell_type": "code",
      "metadata": {
        "id": "6pUtEcmsDTfX",
        "colab_type": "code",
        "colab": {}
      },
      "source": [
        "stopwords = set(stopwords.words('english'))"
      ],
      "execution_count": 0,
      "outputs": []
    },
    {
      "cell_type": "code",
      "metadata": {
        "id": "b_xMAXHyEYo9",
        "colab_type": "code",
        "colab": {
          "base_uri": "https://localhost:8080/",
          "height": 1000
        },
        "outputId": "ae7adc58-9987-4f3f-b0ab-1450524655f5"
      },
      "source": [
        "stopwords"
      ],
      "execution_count": 24,
      "outputs": [
        {
          "output_type": "execute_result",
          "data": {
            "text/plain": [
              "{'a',\n",
              " 'about',\n",
              " 'above',\n",
              " 'after',\n",
              " 'again',\n",
              " 'against',\n",
              " 'ain',\n",
              " 'all',\n",
              " 'am',\n",
              " 'an',\n",
              " 'and',\n",
              " 'any',\n",
              " 'are',\n",
              " 'aren',\n",
              " \"aren't\",\n",
              " 'as',\n",
              " 'at',\n",
              " 'be',\n",
              " 'because',\n",
              " 'been',\n",
              " 'before',\n",
              " 'being',\n",
              " 'below',\n",
              " 'between',\n",
              " 'both',\n",
              " 'but',\n",
              " 'by',\n",
              " 'can',\n",
              " 'couldn',\n",
              " \"couldn't\",\n",
              " 'd',\n",
              " 'did',\n",
              " 'didn',\n",
              " \"didn't\",\n",
              " 'do',\n",
              " 'does',\n",
              " 'doesn',\n",
              " \"doesn't\",\n",
              " 'doing',\n",
              " 'don',\n",
              " \"don't\",\n",
              " 'down',\n",
              " 'during',\n",
              " 'each',\n",
              " 'few',\n",
              " 'for',\n",
              " 'from',\n",
              " 'further',\n",
              " 'had',\n",
              " 'hadn',\n",
              " \"hadn't\",\n",
              " 'has',\n",
              " 'hasn',\n",
              " \"hasn't\",\n",
              " 'have',\n",
              " 'haven',\n",
              " \"haven't\",\n",
              " 'having',\n",
              " 'he',\n",
              " 'her',\n",
              " 'here',\n",
              " 'hers',\n",
              " 'herself',\n",
              " 'him',\n",
              " 'himself',\n",
              " 'his',\n",
              " 'how',\n",
              " 'i',\n",
              " 'if',\n",
              " 'in',\n",
              " 'into',\n",
              " 'is',\n",
              " 'isn',\n",
              " \"isn't\",\n",
              " 'it',\n",
              " \"it's\",\n",
              " 'its',\n",
              " 'itself',\n",
              " 'just',\n",
              " 'll',\n",
              " 'm',\n",
              " 'ma',\n",
              " 'me',\n",
              " 'mightn',\n",
              " \"mightn't\",\n",
              " 'more',\n",
              " 'most',\n",
              " 'mustn',\n",
              " \"mustn't\",\n",
              " 'my',\n",
              " 'myself',\n",
              " 'needn',\n",
              " \"needn't\",\n",
              " 'no',\n",
              " 'nor',\n",
              " 'not',\n",
              " 'now',\n",
              " 'o',\n",
              " 'of',\n",
              " 'off',\n",
              " 'on',\n",
              " 'once',\n",
              " 'only',\n",
              " 'or',\n",
              " 'other',\n",
              " 'our',\n",
              " 'ours',\n",
              " 'ourselves',\n",
              " 'out',\n",
              " 'over',\n",
              " 'own',\n",
              " 're',\n",
              " 's',\n",
              " 'same',\n",
              " 'shan',\n",
              " \"shan't\",\n",
              " 'she',\n",
              " \"she's\",\n",
              " 'should',\n",
              " \"should've\",\n",
              " 'shouldn',\n",
              " \"shouldn't\",\n",
              " 'so',\n",
              " 'some',\n",
              " 'such',\n",
              " 't',\n",
              " 'than',\n",
              " 'that',\n",
              " \"that'll\",\n",
              " 'the',\n",
              " 'their',\n",
              " 'theirs',\n",
              " 'them',\n",
              " 'themselves',\n",
              " 'then',\n",
              " 'there',\n",
              " 'these',\n",
              " 'they',\n",
              " 'this',\n",
              " 'those',\n",
              " 'through',\n",
              " 'to',\n",
              " 'too',\n",
              " 'under',\n",
              " 'until',\n",
              " 'up',\n",
              " 've',\n",
              " 'very',\n",
              " 'was',\n",
              " 'wasn',\n",
              " \"wasn't\",\n",
              " 'we',\n",
              " 'were',\n",
              " 'weren',\n",
              " \"weren't\",\n",
              " 'what',\n",
              " 'when',\n",
              " 'where',\n",
              " 'which',\n",
              " 'while',\n",
              " 'who',\n",
              " 'whom',\n",
              " 'why',\n",
              " 'will',\n",
              " 'with',\n",
              " 'won',\n",
              " \"won't\",\n",
              " 'wouldn',\n",
              " \"wouldn't\",\n",
              " 'y',\n",
              " 'you',\n",
              " \"you'd\",\n",
              " \"you'll\",\n",
              " \"you're\",\n",
              " \"you've\",\n",
              " 'your',\n",
              " 'yours',\n",
              " 'yourself',\n",
              " 'yourselves'}"
            ]
          },
          "metadata": {
            "tags": []
          },
          "execution_count": 24
        }
      ]
    },
    {
      "cell_type": "code",
      "metadata": {
        "id": "MtrQHmYjVYRz",
        "colab_type": "code",
        "colab": {
          "base_uri": "https://localhost:8080/",
          "height": 68
        },
        "outputId": "92d67214-0acc-47ea-e879-aa256ae8c486"
      },
      "source": [
        "nltk.download('punkt')"
      ],
      "execution_count": 31,
      "outputs": [
        {
          "output_type": "stream",
          "text": [
            "[nltk_data] Downloading package punkt to /root/nltk_data...\n",
            "[nltk_data]   Unzipping tokenizers/punkt.zip.\n"
          ],
          "name": "stdout"
        },
        {
          "output_type": "execute_result",
          "data": {
            "text/plain": [
              "True"
            ]
          },
          "metadata": {
            "tags": []
          },
          "execution_count": 31
        }
      ]
    },
    {
      "cell_type": "code",
      "metadata": {
        "id": "BPBGPWKYUShz",
        "colab_type": "code",
        "colab": {}
      },
      "source": [
        "\n",
        "ps =  nltk.stem.SnowballStemmer('english')"
      ],
      "execution_count": 0,
      "outputs": []
    },
    {
      "cell_type": "code",
      "metadata": {
        "id": "PyP95I46VidG",
        "colab_type": "code",
        "colab": {
          "base_uri": "https://localhost:8080/",
          "height": 34
        },
        "outputId": "b3ad8104-830e-448c-c819-dec0516bbb43"
      },
      "source": [
        "tokens = nltk.tokenize.word_tokenize(\"sita is going to village\")\n",
        "stemmed_tokens = []\n",
        "for token in tokens:\n",
        "  stemmed_tokens.append(ps.stem(token))\n",
        "sentence = ' '.join(stemmed_tokens)\n",
        "sentence"
      ],
      "execution_count": 43,
      "outputs": [
        {
          "output_type": "execute_result",
          "data": {
            "text/plain": [
              "'sita is go to villag'"
            ]
          },
          "metadata": {
            "tags": []
          },
          "execution_count": 43
        }
      ]
    },
    {
      "cell_type": "code",
      "metadata": {
        "id": "x2C_VwYyUlaA",
        "colab_type": "code",
        "colab": {}
      },
      "source": [
        "preprocessed_text = []"
      ],
      "execution_count": 0,
      "outputs": []
    },
    {
      "cell_type": "code",
      "metadata": {
        "id": "gNhOHRWHZ9x6",
        "colab_type": "code",
        "colab": {}
      },
      "source": [
        "texts = dfTickets['body']"
      ],
      "execution_count": 0,
      "outputs": []
    },
    {
      "cell_type": "code",
      "metadata": {
        "id": "N8RzdmHL-gbr",
        "colab_type": "code",
        "colab": {
          "base_uri": "https://localhost:8080/",
          "height": 1000
        },
        "outputId": "9f5402dc-36c8-4647-af2e-dd378e1aa6ef"
      },
      "source": [
        "for sentence in tqdm(texts.values):\n",
        "  #remove urls if any\n",
        "  sentence = re.sub(\"http\\S+\",\" \",sentence)\n",
        "  #remove html tags\n",
        "  sentence = BeautifulSoup(sentence,'lxml').get_text()\n",
        "  #remove decontracted words\n",
        "  sentence = decontracted(sentence)\n",
        "  #remove words with number\n",
        "  sentence = re.sub(\"\\S*\\d\\S*\",\" \",sentence)\n",
        "  #remove special characters\n",
        "  sentence = re.sub(\"[^A-Za-z0-9]+\",\" \",sentence)\n",
        "  #remove stopwords\n",
        "  sentence = ' '.join([e.lower() for e in sentence.split() if e not in stopwords])\n",
        "  #remove short words\n",
        "  sentence = ' '.join([e for e in sentence.split() if len(e) > 2])\n",
        "  #normalize text\n",
        "  tokens = nltk.tokenize.word_tokenize(sentence)\n",
        "  stemmed_tokens = []\n",
        "  for token in tokens:\n",
        "    stemmed_tokens.append(ps.stem(token))\n",
        "  sentence = ' '.join(stemmed_tokens) \n",
        "  preprocessed_text.append(sentence)"
      ],
      "execution_count": 69,
      "outputs": [
        {
          "output_type": "stream",
          "text": [
            "\n",
            "\n",
            "  0%|          | 0/48549 [00:00<?, ?it/s]\u001b[A\u001b[A\n",
            "\n",
            "  0%|          | 80/48549 [00:00<01:05, 742.07it/s]\u001b[A\u001b[A\n",
            "\n",
            "  0%|          | 160/48549 [00:00<01:03, 757.18it/s]\u001b[A\u001b[A\n",
            "\n",
            "  0%|          | 224/48549 [00:00<01:07, 715.45it/s]\u001b[A\u001b[A\n",
            "\n",
            "  1%|          | 310/48549 [00:00<01:04, 752.88it/s]\u001b[A\u001b[A\n",
            "\n",
            "  1%|          | 391/48549 [00:00<01:02, 767.02it/s]\u001b[A\u001b[A\n",
            "\n",
            "  1%|          | 467/48549 [00:00<01:03, 761.81it/s]\u001b[A\u001b[A\n",
            "\n",
            "  1%|          | 547/48549 [00:00<01:02, 772.70it/s]\u001b[A\u001b[A\n",
            "\n",
            "  1%|▏         | 625/48549 [00:00<01:02, 771.79it/s]\u001b[A\u001b[A\n",
            "\n",
            "  1%|▏         | 715/48549 [00:00<00:59, 800.71it/s]\u001b[A\u001b[A\n",
            "\n",
            "  2%|▏         | 793/48549 [00:01<01:03, 751.12it/s]\u001b[A\u001b[A\n",
            "\n",
            "  2%|▏         | 876/48549 [00:01<01:01, 771.63it/s]\u001b[A\u001b[A\n",
            "\n",
            "  2%|▏         | 960/48549 [00:01<01:00, 790.68it/s]\u001b[A\u001b[A\n",
            "\n",
            "  2%|▏         | 1050/48549 [00:01<00:59, 802.14it/s]\u001b[A\u001b[A\n",
            "\n",
            "  2%|▏         | 1131/48549 [00:01<01:03, 742.10it/s]\u001b[A\u001b[A\n",
            "\n",
            "  2%|▏         | 1206/48549 [00:01<01:03, 740.98it/s]\u001b[A\u001b[A\n",
            "\n",
            "  3%|▎         | 1302/48549 [00:01<00:59, 794.66it/s]\u001b[A\u001b[A\n",
            "\n",
            "  3%|▎         | 1383/48549 [00:01<01:02, 760.50it/s]\u001b[A\u001b[A\n",
            "\n",
            "  3%|▎         | 1461/48549 [00:01<01:02, 757.49it/s]\u001b[A\u001b[A\n",
            "\n",
            "  3%|▎         | 1538/48549 [00:02<01:05, 723.21it/s]\u001b[A\u001b[A\n",
            "\n",
            "  3%|▎         | 1614/48549 [00:02<01:04, 732.71it/s]\u001b[A\u001b[A\n",
            "\n",
            "  3%|▎         | 1699/48549 [00:02<01:01, 762.90it/s]\u001b[A\u001b[A\n",
            "\n",
            "  4%|▎         | 1777/48549 [00:02<01:03, 740.06it/s]\u001b[A\u001b[A\n",
            "\n",
            "  4%|▍         | 1855/48549 [00:02<01:02, 750.08it/s]\u001b[A\u001b[A\n",
            "\n",
            "  4%|▍         | 1931/48549 [00:02<01:03, 739.16it/s]\u001b[A\u001b[A\n",
            "\n",
            "  4%|▍         | 2014/48549 [00:02<01:01, 759.54it/s]\u001b[A\u001b[A\n",
            "\n",
            "  4%|▍         | 2091/48549 [00:02<01:03, 736.55it/s]\u001b[A\u001b[A\n",
            "\n",
            "  4%|▍         | 2171/48549 [00:02<01:01, 754.12it/s]\u001b[A\u001b[A\n",
            "\n",
            "  5%|▍         | 2261/48549 [00:02<00:58, 792.55it/s]\u001b[A\u001b[A\n",
            "\n",
            "  5%|▍         | 2349/48549 [00:03<00:56, 816.18it/s]\u001b[A\u001b[A\n",
            "\n",
            "  5%|▌         | 2446/48549 [00:03<00:53, 854.37it/s]\u001b[A\u001b[A\n",
            "\n",
            "  5%|▌         | 2533/48549 [00:03<00:53, 857.46it/s]\u001b[A\u001b[A\n",
            "\n",
            "  5%|▌         | 2620/48549 [00:03<00:53, 854.59it/s]\u001b[A\u001b[A\n",
            "\n",
            "  6%|▌         | 2711/48549 [00:03<00:52, 868.64it/s]\u001b[A\u001b[A\n",
            "\n",
            "  6%|▌         | 2799/48549 [00:03<00:56, 803.66it/s]\u001b[A\u001b[A\n",
            "\n",
            "  6%|▌         | 2881/48549 [00:03<00:57, 794.25it/s]\u001b[A\u001b[A\n",
            "\n",
            "  6%|▌         | 2962/48549 [00:03<00:59, 765.16it/s]\u001b[A\u001b[A\n",
            "\n",
            "  6%|▋         | 3047/48549 [00:03<00:58, 783.02it/s]\u001b[A\u001b[A\n",
            "\n",
            "  6%|▋         | 3127/48549 [00:04<00:59, 766.57it/s]\u001b[A\u001b[A\n",
            "\n",
            "  7%|▋         | 3205/48549 [00:04<00:59, 761.07it/s]\u001b[A\u001b[A\n",
            "\n",
            "  7%|▋         | 3282/48549 [00:04<01:01, 741.01it/s]\u001b[A\u001b[A\n",
            "\n",
            "  7%|▋         | 3357/48549 [00:04<01:00, 742.52it/s]\u001b[A\u001b[A\n",
            "\n",
            "  7%|▋         | 3432/48549 [00:04<01:02, 720.06it/s]\u001b[A\u001b[A\n",
            "\n",
            "  7%|▋         | 3505/48549 [00:04<01:02, 719.12it/s]\u001b[A\u001b[A\n",
            "\n",
            "  7%|▋         | 3586/48549 [00:04<01:00, 743.55it/s]\u001b[A\u001b[A\n",
            "\n",
            "  8%|▊         | 3670/48549 [00:04<00:59, 760.10it/s]\u001b[A\u001b[A\n",
            "\n",
            "  8%|▊         | 3747/48549 [00:04<00:59, 747.01it/s]\u001b[A\u001b[A\n",
            "\n",
            "  8%|▊         | 3830/48549 [00:04<00:58, 763.95it/s]\u001b[A\u001b[A\n",
            "\n",
            "  8%|▊         | 3907/48549 [00:05<00:59, 754.38it/s]\u001b[A\u001b[A\n",
            "\n",
            "  8%|▊         | 3989/48549 [00:05<00:57, 772.60it/s]\u001b[A\u001b[A\n",
            "\n",
            "  8%|▊         | 4067/48549 [00:05<01:00, 736.55it/s]\u001b[A\u001b[A\n",
            "\n",
            "  9%|▊         | 4142/48549 [00:05<01:02, 705.31it/s]\u001b[A\u001b[A\n",
            "\n",
            "  9%|▊         | 4219/48549 [00:05<01:01, 716.91it/s]\u001b[A\u001b[A\n",
            "\n",
            "  9%|▉         | 4292/48549 [00:05<01:03, 691.53it/s]\u001b[A\u001b[A\n",
            "\n",
            "  9%|▉         | 4372/48549 [00:05<01:01, 715.02it/s]\u001b[A\u001b[A\n",
            "\n",
            "  9%|▉         | 4448/48549 [00:05<01:00, 726.93it/s]\u001b[A\u001b[A\n",
            "\n",
            "  9%|▉         | 4522/48549 [00:05<01:03, 688.98it/s]\u001b[A\u001b[A\n",
            "\n",
            "  9%|▉         | 4602/48549 [00:06<01:01, 717.61it/s]\u001b[A\u001b[A\n",
            "\n",
            " 10%|▉         | 4688/48549 [00:06<00:58, 754.50it/s]\u001b[A\u001b[A\n",
            "\n",
            " 10%|▉         | 4765/48549 [00:06<01:00, 725.42it/s]\u001b[A\u001b[A\n",
            "\n",
            " 10%|█         | 4863/48549 [00:06<00:55, 782.21it/s]\u001b[A\u001b[A\n",
            "\n",
            " 10%|█         | 4944/48549 [00:06<00:57, 764.51it/s]\u001b[A\u001b[A\n",
            "\n",
            " 10%|█         | 5037/48549 [00:06<00:54, 804.52it/s]\u001b[A\u001b[A\n",
            "\n",
            " 11%|█         | 5122/48549 [00:06<00:53, 816.07it/s]\u001b[A\u001b[A\n",
            "\n",
            " 11%|█         | 5208/48549 [00:06<00:52, 823.07it/s]\u001b[A\u001b[A\n",
            "\n",
            " 11%|█         | 5296/48549 [00:06<00:51, 837.68it/s]\u001b[A\u001b[A\n",
            "\n",
            " 11%|█         | 5381/48549 [00:06<00:51, 831.32it/s]\u001b[A\u001b[A\n",
            "\n",
            " 11%|█▏        | 5465/48549 [00:07<00:53, 804.67it/s]\u001b[A\u001b[A\n",
            "\n",
            " 11%|█▏        | 5563/48549 [00:07<00:50, 849.37it/s]\u001b[A\u001b[A\n",
            "\n",
            " 12%|█▏        | 5654/48549 [00:07<00:49, 865.32it/s]\u001b[A\u001b[A\n",
            "\n",
            " 12%|█▏        | 5742/48549 [00:07<00:53, 800.75it/s]\u001b[A\u001b[A\n",
            "\n",
            " 12%|█▏        | 5824/48549 [00:07<00:53, 791.58it/s]\u001b[A\u001b[A\n",
            "\n",
            " 12%|█▏        | 5905/48549 [00:07<00:55, 772.10it/s]\u001b[A\u001b[A\n",
            "\n",
            " 12%|█▏        | 5985/48549 [00:07<00:54, 778.83it/s]\u001b[A\u001b[A\n",
            "\n",
            " 13%|█▎        | 6074/48549 [00:07<00:52, 808.04it/s]\u001b[A\u001b[A\n",
            "\n",
            " 13%|█▎        | 6169/48549 [00:07<00:50, 844.60it/s]\u001b[A\u001b[A\n",
            "\n",
            " 13%|█▎        | 6260/48549 [00:08<00:49, 862.75it/s]\u001b[A\u001b[A\n",
            "\n",
            " 13%|█▎        | 6348/48549 [00:08<00:49, 851.43it/s]\u001b[A\u001b[A\n",
            "\n",
            " 13%|█▎        | 6436/48549 [00:08<00:49, 857.39it/s]\u001b[A\u001b[A\n",
            "\n",
            " 13%|█▎        | 6528/48549 [00:08<00:48, 873.41it/s]\u001b[A\u001b[A\n",
            "\n",
            " 14%|█▎        | 6616/48549 [00:08<00:48, 871.21it/s]\u001b[A\u001b[A\n",
            "\n",
            " 14%|█▍        | 6704/48549 [00:08<00:48, 859.14it/s]\u001b[A\u001b[A\n",
            "\n",
            " 14%|█▍        | 6791/48549 [00:08<00:52, 796.25it/s]\u001b[A\u001b[A\n",
            "\n",
            " 14%|█▍        | 6880/48549 [00:08<00:50, 822.01it/s]\u001b[A\u001b[A\n",
            "\n",
            " 14%|█▍        | 6964/48549 [00:08<00:52, 785.49it/s]\u001b[A\u001b[A\n",
            "\n",
            " 15%|█▍        | 7048/48549 [00:09<00:51, 799.99it/s]\u001b[A\u001b[A\n",
            "\n",
            " 15%|█▍        | 7135/48549 [00:09<00:50, 817.98it/s]\u001b[A\u001b[A\n",
            "\n",
            " 15%|█▍        | 7218/48549 [00:09<00:50, 819.37it/s]\u001b[A\u001b[A\n",
            "\n",
            " 15%|█▌        | 7301/48549 [00:09<00:51, 801.26it/s]\u001b[A\u001b[A\n",
            "\n",
            " 15%|█▌        | 7387/48549 [00:09<00:50, 818.01it/s]\u001b[A\u001b[A\n",
            "\n",
            " 15%|█▌        | 7477/48549 [00:09<00:48, 839.29it/s]\u001b[A\u001b[A\n",
            "\n",
            " 16%|█▌        | 7562/48549 [00:09<00:49, 827.63it/s]\u001b[A\u001b[A\n",
            "\n",
            " 16%|█▌        | 7646/48549 [00:09<00:51, 793.88it/s]\u001b[A\u001b[A\n",
            "\n",
            " 16%|█▌        | 7726/48549 [00:09<00:53, 767.38it/s]\u001b[A\u001b[A\n",
            "\n",
            " 16%|█▌        | 7804/48549 [00:09<00:53, 760.05it/s]\u001b[A\u001b[A\n",
            "\n",
            " 16%|█▌        | 7888/48549 [00:10<00:52, 780.63it/s]\u001b[A\u001b[A\n",
            "\n",
            " 16%|█▋        | 7982/48549 [00:10<00:49, 822.26it/s]\u001b[A\u001b[A\n",
            "\n",
            " 17%|█▋        | 8066/48549 [00:10<00:50, 807.97it/s]\u001b[A\u001b[A\n",
            "\n",
            " 17%|█▋        | 8148/48549 [00:10<00:50, 797.19it/s]\u001b[A\u001b[A\n",
            "\n",
            " 17%|█▋        | 8239/48549 [00:10<00:48, 823.54it/s]\u001b[A\u001b[A\n",
            "\n",
            " 17%|█▋        | 8328/48549 [00:10<00:47, 840.05it/s]\u001b[A\u001b[A\n",
            "\n",
            " 17%|█▋        | 8413/48549 [00:10<00:50, 789.27it/s]\u001b[A\u001b[A\n",
            "\n",
            " 17%|█▋        | 8493/48549 [00:10<00:52, 767.42it/s]\u001b[A\u001b[A\n",
            "\n",
            " 18%|█▊        | 8571/48549 [00:10<00:52, 759.53it/s]\u001b[A\u001b[A\n",
            "\n",
            " 18%|█▊        | 8648/48549 [00:11<00:55, 720.15it/s]\u001b[A\u001b[A\n",
            "\n",
            " 18%|█▊        | 8732/48549 [00:11<00:53, 750.60it/s]\u001b[A\u001b[A\n",
            "\n",
            " 18%|█▊        | 8808/48549 [00:11<00:53, 741.15it/s]\u001b[A\u001b[A\n",
            "\n",
            " 18%|█▊        | 8900/48549 [00:11<00:50, 785.79it/s]\u001b[A\u001b[A\n",
            "\n",
            " 19%|█▊        | 8990/48549 [00:11<00:48, 816.87it/s]\u001b[A\u001b[A\n",
            "\n",
            " 19%|█▊        | 9081/48549 [00:11<00:46, 841.34it/s]\u001b[A\u001b[A\n",
            "\n",
            " 19%|█▉        | 9171/48549 [00:11<00:45, 857.99it/s]\u001b[A\u001b[A\n",
            "\n",
            " 19%|█▉        | 9261/48549 [00:11<00:45, 868.34it/s]\u001b[A\u001b[A\n",
            "\n",
            " 19%|█▉        | 9349/48549 [00:11<00:47, 821.89it/s]\u001b[A\u001b[A\n",
            "\n",
            " 19%|█▉        | 9433/48549 [00:11<00:48, 802.60it/s]\u001b[A\u001b[A\n",
            "\n",
            " 20%|█▉        | 9515/48549 [00:12<00:50, 767.72it/s]\u001b[A\u001b[A\n",
            "\n",
            " 20%|█▉        | 9596/48549 [00:12<00:49, 779.11it/s]\u001b[A\u001b[A\n",
            "\n",
            " 20%|█▉        | 9684/48549 [00:12<00:48, 805.13it/s]\u001b[A\u001b[A\n",
            "\n",
            " 20%|██        | 9776/48549 [00:12<00:46, 832.32it/s]\u001b[A\u001b[A\n",
            "\n",
            " 20%|██        | 9866/48549 [00:12<00:45, 849.75it/s]\u001b[A\u001b[A\n",
            "\n",
            " 20%|██        | 9952/48549 [00:12<00:47, 804.87it/s]\u001b[A\u001b[A\n",
            "\n",
            " 21%|██        | 10041/48549 [00:12<00:46, 828.48it/s]\u001b[A\u001b[A\n",
            "\n",
            " 21%|██        | 10125/48549 [00:12<00:46, 827.02it/s]\u001b[A\u001b[A\n",
            "\n",
            " 21%|██        | 10209/48549 [00:12<00:46, 822.32it/s]\u001b[A\u001b[A\n",
            "\n",
            " 21%|██        | 10292/48549 [00:13<00:46, 822.02it/s]\u001b[A\u001b[A\n",
            "\n",
            " 21%|██▏       | 10375/48549 [00:13<00:47, 810.53it/s]\u001b[A\u001b[A\n",
            "\n",
            " 22%|██▏       | 10457/48549 [00:13<00:47, 802.57it/s]\u001b[A\u001b[A\n",
            "\n",
            " 22%|██▏       | 10550/48549 [00:13<00:45, 835.82it/s]\u001b[A\u001b[A\n",
            "\n",
            " 22%|██▏       | 10635/48549 [00:13<00:47, 799.01it/s]\u001b[A\u001b[A\n",
            "\n",
            " 22%|██▏       | 10717/48549 [00:13<00:47, 804.69it/s]\u001b[A\u001b[A\n",
            "\n",
            " 22%|██▏       | 10803/48549 [00:13<00:46, 819.88it/s]\u001b[A\u001b[A\n",
            "\n",
            " 22%|██▏       | 10886/48549 [00:13<00:47, 796.67it/s]\u001b[A\u001b[A\n",
            "\n",
            " 23%|██▎       | 10971/48549 [00:13<00:46, 810.79it/s]\u001b[A\u001b[A\n",
            "\n",
            " 23%|██▎       | 11060/48549 [00:13<00:45, 832.50it/s]\u001b[A\u001b[A\n",
            "\n",
            " 23%|██▎       | 11144/48549 [00:14<00:46, 802.79it/s]\u001b[A\u001b[A\n",
            "\n",
            " 23%|██▎       | 11227/48549 [00:14<00:46, 809.91it/s]\u001b[A\u001b[A\n",
            "\n",
            " 23%|██▎       | 11309/48549 [00:14<00:46, 805.47it/s]\u001b[A\u001b[A\n",
            "\n",
            " 23%|██▎       | 11390/48549 [00:14<00:46, 803.27it/s]\u001b[A\u001b[A\n",
            "\n",
            " 24%|██▎       | 11471/48549 [00:14<00:49, 745.58it/s]\u001b[A\u001b[A\n",
            "\n",
            " 24%|██▍       | 11547/48549 [00:14<00:49, 747.82it/s]\u001b[A\u001b[A\n",
            "\n",
            " 24%|██▍       | 11623/48549 [00:14<00:49, 749.67it/s]\u001b[A\u001b[A\n",
            "\n",
            " 24%|██▍       | 11704/48549 [00:14<00:48, 765.80it/s]\u001b[A\u001b[A\n",
            "\n",
            " 24%|██▍       | 11788/48549 [00:14<00:47, 781.88it/s]\u001b[A\u001b[A\n",
            "\n",
            " 24%|██▍       | 11883/48549 [00:15<00:44, 825.35it/s]\u001b[A\u001b[A\n",
            "\n",
            " 25%|██▍       | 11967/48549 [00:15<00:44, 822.56it/s]\u001b[A\u001b[A\n",
            "\n",
            " 25%|██▍       | 12050/48549 [00:15<00:44, 822.73it/s]\u001b[A\u001b[A\n",
            "\n",
            " 25%|██▍       | 12133/48549 [00:15<00:46, 781.91it/s]\u001b[A\u001b[A\n",
            "\n",
            " 25%|██▌       | 12212/48549 [00:15<00:50, 725.83it/s]\u001b[A\u001b[A\n",
            "\n",
            " 25%|██▌       | 12295/48549 [00:15<00:48, 753.34it/s]\u001b[A\u001b[A\n",
            "\n",
            " 25%|██▌       | 12372/48549 [00:15<00:48, 752.38it/s]\u001b[A\u001b[A\n",
            "\n",
            " 26%|██▌       | 12449/48549 [00:15<00:48, 737.50it/s]\u001b[A\u001b[A\n",
            "\n",
            " 26%|██▌       | 12524/48549 [00:15<00:49, 720.63it/s]\u001b[A\u001b[A\n",
            "\n",
            " 26%|██▌       | 12597/48549 [00:16<00:53, 669.05it/s]\u001b[A\u001b[A\n",
            "\n",
            " 26%|██▌       | 12666/48549 [00:16<00:53, 673.90it/s]\u001b[A\u001b[A\n",
            "\n",
            " 26%|██▌       | 12741/48549 [00:16<00:51, 693.22it/s]\u001b[A\u001b[A\n",
            "\n",
            " 26%|██▋       | 12825/48549 [00:16<00:48, 731.45it/s]\u001b[A\u001b[A\n",
            "\n",
            " 27%|██▋       | 12900/48549 [00:16<00:51, 698.89it/s]\u001b[A\u001b[A\n",
            "\n",
            " 27%|██▋       | 12979/48549 [00:16<00:49, 720.53it/s]\u001b[A\u001b[A\n",
            "\n",
            " 27%|██▋       | 13060/48549 [00:16<00:47, 744.97it/s]\u001b[A\u001b[A\n",
            "\n",
            " 27%|██▋       | 13138/48549 [00:16<00:46, 753.92it/s]\u001b[A\u001b[A\n",
            "\n",
            " 27%|██▋       | 13215/48549 [00:16<00:46, 751.99it/s]\u001b[A\u001b[A\n",
            "\n",
            " 27%|██▋       | 13291/48549 [00:16<00:49, 719.51it/s]\u001b[A\u001b[A\n",
            "\n",
            " 28%|██▊       | 13368/48549 [00:17<00:48, 732.11it/s]\u001b[A\u001b[A\n",
            "\n",
            " 28%|██▊       | 13451/48549 [00:17<00:46, 757.22it/s]\u001b[A\u001b[A\n",
            "\n",
            " 28%|██▊       | 13533/48549 [00:17<00:45, 773.30it/s]\u001b[A\u001b[A\n",
            "\n",
            " 28%|██▊       | 13620/48549 [00:17<00:43, 799.81it/s]\u001b[A\u001b[A\n",
            "\n",
            " 28%|██▊       | 13714/48549 [00:17<00:41, 837.14it/s]\u001b[A\u001b[A\n",
            "\n",
            " 28%|██▊       | 13799/48549 [00:17<00:42, 823.74it/s]\u001b[A\u001b[A\n",
            "\n",
            " 29%|██▊       | 13883/48549 [00:17<00:42, 814.45it/s]\u001b[A\u001b[A\n",
            "\n",
            " 29%|██▉       | 13973/48549 [00:17<00:41, 838.21it/s]\u001b[A\u001b[A\n",
            "\n",
            " 29%|██▉       | 14061/48549 [00:17<00:40, 848.36it/s]\u001b[A\u001b[A\n",
            "\n",
            " 29%|██▉       | 14147/48549 [00:17<00:41, 835.44it/s]\u001b[A\u001b[A\n",
            "\n",
            " 29%|██▉       | 14231/48549 [00:18<00:41, 824.57it/s]\u001b[A\u001b[A\n",
            "\n",
            " 29%|██▉       | 14314/48549 [00:18<00:44, 772.61it/s]\u001b[A\u001b[A\n",
            "\n",
            " 30%|██▉       | 14396/48549 [00:18<00:43, 784.22it/s]\u001b[A\u001b[A\n",
            "\n",
            " 30%|██▉       | 14476/48549 [00:18<00:44, 772.09it/s]\u001b[A\u001b[A\n",
            "\n",
            " 30%|██▉       | 14555/48549 [00:18<00:43, 776.94it/s]\u001b[A\u001b[A\n",
            "\n",
            " 30%|███       | 14636/48549 [00:18<00:43, 783.53it/s]\u001b[A\u001b[A\n",
            "\n",
            " 30%|███       | 14719/48549 [00:18<00:42, 795.80it/s]\u001b[A\u001b[A\n",
            "\n",
            " 30%|███       | 14800/48549 [00:18<00:42, 799.13it/s]\u001b[A\u001b[A\n",
            "\n",
            " 31%|███       | 14885/48549 [00:18<00:41, 811.41it/s]\u001b[A\u001b[A\n",
            "\n",
            " 31%|███       | 14967/48549 [00:19<00:43, 774.70it/s]\u001b[A\u001b[A\n",
            "\n",
            " 31%|███       | 15053/48549 [00:19<00:42, 796.93it/s]\u001b[A\u001b[A\n",
            "\n",
            " 31%|███       | 15134/48549 [00:19<00:44, 751.61it/s]\u001b[A\u001b[A\n",
            "\n",
            " 31%|███▏      | 15211/48549 [00:19<00:45, 729.60it/s]\u001b[A\u001b[A\n",
            "\n",
            " 31%|███▏      | 15288/48549 [00:19<00:44, 740.25it/s]\u001b[A\u001b[A\n",
            "\n",
            " 32%|███▏      | 15366/48549 [00:19<00:44, 751.56it/s]\u001b[A\u001b[A\n",
            "\n",
            " 32%|███▏      | 15445/48549 [00:19<00:43, 759.69it/s]\u001b[A\u001b[A\n",
            "\n",
            " 32%|███▏      | 15522/48549 [00:19<00:44, 734.15it/s]\u001b[A\u001b[A\n",
            "\n",
            " 32%|███▏      | 15596/48549 [00:19<00:45, 719.76it/s]\u001b[A\u001b[A\n",
            "\n",
            " 32%|███▏      | 15676/48549 [00:19<00:44, 740.80it/s]\u001b[A\u001b[A\n",
            "\n",
            " 32%|███▏      | 15751/48549 [00:20<00:46, 702.44it/s]\u001b[A\u001b[A\n",
            "\n",
            " 33%|███▎      | 15828/48549 [00:20<00:45, 720.40it/s]\u001b[A\u001b[A\n",
            "\n",
            " 33%|███▎      | 15901/48549 [00:20<00:46, 704.31it/s]\u001b[A\u001b[A\n",
            "\n",
            " 33%|███▎      | 15972/48549 [00:20<00:48, 669.08it/s]\u001b[A\u001b[A\n",
            "\n",
            " 33%|███▎      | 16057/48549 [00:20<00:45, 714.32it/s]\u001b[A\u001b[A\n",
            "\n",
            " 33%|███▎      | 16130/48549 [00:20<00:47, 685.07it/s]\u001b[A\u001b[A\n",
            "\n",
            " 33%|███▎      | 16205/48549 [00:20<00:46, 702.44it/s]\u001b[A\u001b[A\n",
            "\n",
            " 34%|███▎      | 16292/48549 [00:20<00:43, 743.69it/s]\u001b[A\u001b[A\n",
            "\n",
            " 34%|███▎      | 16368/48549 [00:20<00:43, 733.90it/s]\u001b[A\u001b[A\n",
            "\n",
            " 34%|███▍      | 16443/48549 [00:21<00:43, 738.62it/s]\u001b[A\u001b[A\n",
            "\n",
            " 34%|███▍      | 16518/48549 [00:21<00:46, 689.11it/s]\u001b[A\u001b[A\n",
            "\n",
            " 34%|███▍      | 16589/48549 [00:21<00:47, 677.27it/s]\u001b[A\u001b[A\n",
            "\n",
            " 34%|███▍      | 16669/48549 [00:21<00:44, 709.88it/s]\u001b[A\u001b[A\n",
            "\n",
            " 34%|███▍      | 16744/48549 [00:21<00:44, 716.51it/s]\u001b[A\u001b[A\n",
            "\n",
            " 35%|███▍      | 16835/48549 [00:21<00:41, 764.37it/s]\u001b[A\u001b[A\n",
            "\n",
            " 35%|███▍      | 16913/48549 [00:21<00:42, 742.83it/s]\u001b[A\u001b[A\n",
            "\n",
            " 35%|███▌      | 16996/48549 [00:21<00:41, 765.10it/s]\u001b[A\u001b[A\n",
            "\n",
            " 35%|███▌      | 17074/48549 [00:21<00:41, 765.31it/s]\u001b[A\u001b[A\n",
            "\n",
            " 35%|███▌      | 17152/48549 [00:22<00:42, 742.74it/s]\u001b[A\u001b[A\n",
            "\n",
            " 36%|███▌      | 17240/48549 [00:22<00:40, 774.35it/s]\u001b[A\u001b[A\n",
            "\n",
            " 36%|███▌      | 17328/48549 [00:22<00:38, 802.39it/s]\u001b[A\u001b[A\n",
            "\n",
            " 36%|███▌      | 17412/48549 [00:22<00:38, 810.65it/s]\u001b[A\u001b[A\n",
            "\n",
            " 36%|███▌      | 17494/48549 [00:22<00:38, 809.40it/s]\u001b[A\u001b[A\n",
            "\n",
            " 36%|███▌      | 17576/48549 [00:22<00:38, 811.24it/s]\u001b[A\u001b[A\n",
            "\n",
            " 36%|███▋      | 17658/48549 [00:22<00:38, 810.10it/s]\u001b[A\u001b[A\n",
            "\n",
            " 37%|███▋      | 17740/48549 [00:22<00:40, 767.06it/s]\u001b[A\u001b[A\n",
            "\n",
            " 37%|███▋      | 17818/48549 [00:22<00:40, 752.79it/s]\u001b[A\u001b[A\n",
            "\n",
            " 37%|███▋      | 17902/48549 [00:22<00:39, 775.54it/s]\u001b[A\u001b[A\n",
            "\n",
            " 37%|███▋      | 17998/48549 [00:23<00:37, 822.75it/s]\u001b[A\u001b[A\n",
            "\n",
            " 37%|███▋      | 18082/48549 [00:23<00:37, 823.11it/s]\u001b[A\u001b[A\n",
            "\n",
            " 37%|███▋      | 18166/48549 [00:23<00:37, 820.93it/s]\u001b[A\u001b[A\n",
            "\n",
            " 38%|███▊      | 18249/48549 [00:23<00:36, 822.30it/s]\u001b[A\u001b[A\n",
            "\n",
            " 38%|███▊      | 18337/48549 [00:23<00:36, 835.50it/s]\u001b[A\u001b[A\n",
            "\n",
            " 38%|███▊      | 18423/48549 [00:23<00:35, 840.31it/s]\u001b[A\u001b[A\n",
            "\n",
            " 38%|███▊      | 18508/48549 [00:23<00:37, 805.63it/s]\u001b[A\u001b[A\n",
            "\n",
            " 38%|███▊      | 18592/48549 [00:23<00:36, 814.85it/s]\u001b[A\u001b[A\n",
            "\n",
            " 38%|███▊      | 18674/48549 [00:23<00:37, 793.31it/s]\u001b[A\u001b[A\n",
            "\n",
            " 39%|███▊      | 18760/48549 [00:23<00:36, 810.74it/s]\u001b[A\u001b[A\n",
            "\n",
            " 39%|███▉      | 18842/48549 [00:24<00:37, 793.83it/s]\u001b[A\u001b[A\n",
            "\n",
            " 39%|███▉      | 18925/48549 [00:24<00:36, 803.28it/s]\u001b[A\u001b[A\n",
            "\n",
            " 39%|███▉      | 19006/48549 [00:24<00:38, 767.63it/s]\u001b[A\u001b[A\n",
            "\n",
            " 39%|███▉      | 19088/48549 [00:24<00:37, 780.79it/s]\u001b[A\u001b[A\n",
            "\n",
            " 39%|███▉      | 19167/48549 [00:24<00:38, 757.36it/s]\u001b[A\u001b[A\n",
            "\n",
            " 40%|███▉      | 19244/48549 [00:24<00:39, 744.25it/s]\u001b[A\u001b[A\n",
            "\n",
            " 40%|███▉      | 19337/48549 [00:24<00:37, 787.97it/s]\u001b[A\u001b[A\n",
            "\n",
            " 40%|███▉      | 19417/48549 [00:24<00:37, 783.58it/s]\u001b[A\u001b[A\n",
            "\n",
            " 40%|████      | 19500/48549 [00:24<00:36, 796.03it/s]\u001b[A\u001b[A\n",
            "\n",
            " 40%|████      | 19593/48549 [00:25<00:34, 831.93it/s]\u001b[A\u001b[A\n",
            "\n",
            " 41%|████      | 19682/48549 [00:25<00:34, 847.68it/s]\u001b[A\u001b[A\n",
            "\n",
            " 41%|████      | 19768/48549 [00:25<00:35, 813.20it/s]\u001b[A\u001b[A\n",
            "\n",
            " 41%|████      | 19851/48549 [00:25<00:36, 792.85it/s]\u001b[A\u001b[A\n",
            "\n",
            " 41%|████      | 19931/48549 [00:25<00:37, 767.84it/s]\u001b[A\u001b[A\n",
            "\n",
            " 41%|████      | 20009/48549 [00:25<00:38, 737.86it/s]\u001b[A\u001b[A\n",
            "\n",
            " 41%|████▏     | 20090/48549 [00:25<00:37, 757.62it/s]\u001b[A\u001b[A\n",
            "\n",
            " 42%|████▏     | 20180/48549 [00:25<00:35, 795.07it/s]\u001b[A\u001b[A\n",
            "\n",
            " 42%|████▏     | 20268/48549 [00:25<00:34, 816.79it/s]\u001b[A\u001b[A\n",
            "\n",
            " 42%|████▏     | 20363/48549 [00:26<00:33, 842.29it/s]\u001b[A\u001b[A\n",
            "\n",
            " 42%|████▏     | 20448/48549 [00:26<00:34, 814.57it/s]\u001b[A\u001b[A\n",
            "\n",
            " 42%|████▏     | 20537/48549 [00:26<00:33, 834.40it/s]\u001b[A\u001b[A\n",
            "\n",
            " 42%|████▏     | 20622/48549 [00:26<00:35, 793.82it/s]\u001b[A\u001b[A\n",
            "\n",
            " 43%|████▎     | 20703/48549 [00:26<00:36, 761.62it/s]\u001b[A\u001b[A\n",
            "\n",
            " 43%|████▎     | 20788/48549 [00:26<00:35, 784.21it/s]\u001b[A\u001b[A\n",
            "\n",
            " 43%|████▎     | 20872/48549 [00:26<00:34, 799.50it/s]\u001b[A\u001b[A\n",
            "\n",
            " 43%|████▎     | 20953/48549 [00:26<00:35, 787.27it/s]\u001b[A\u001b[A\n",
            "\n",
            " 43%|████▎     | 21044/48549 [00:26<00:33, 818.49it/s]\u001b[A\u001b[A\n",
            "\n",
            " 44%|████▎     | 21134/48549 [00:26<00:32, 840.77it/s]\u001b[A\u001b[A\n",
            "\n",
            " 44%|████▎     | 21219/48549 [00:27<00:33, 819.71it/s]\u001b[A\u001b[A\n",
            "\n",
            " 44%|████▍     | 21302/48549 [00:27<00:33, 805.84it/s]\u001b[A\u001b[A\n",
            "\n",
            " 44%|████▍     | 21384/48549 [00:27<00:34, 786.77it/s]\u001b[A\u001b[A\n",
            "\n",
            " 44%|████▍     | 21468/48549 [00:27<00:33, 801.77it/s]\u001b[A\u001b[A\n",
            "\n",
            " 44%|████▍     | 21551/48549 [00:27<00:33, 809.46it/s]\u001b[A\u001b[A\n",
            "\n",
            " 45%|████▍     | 21633/48549 [00:27<00:35, 767.02it/s]\u001b[A\u001b[A\n",
            "\n",
            " 45%|████▍     | 21711/48549 [00:27<00:35, 747.58it/s]\u001b[A\u001b[A\n",
            "\n",
            " 45%|████▍     | 21789/48549 [00:27<00:35, 756.11it/s]\u001b[A\u001b[A\n",
            "\n",
            " 45%|████▌     | 21877/48549 [00:27<00:33, 785.43it/s]\u001b[A\u001b[A\n",
            "\n",
            " 45%|████▌     | 21957/48549 [00:28<00:37, 707.42it/s]\u001b[A\u001b[A\n",
            "\n",
            " 45%|████▌     | 22030/48549 [00:28<00:37, 707.45it/s]\u001b[A\u001b[A\n",
            "\n",
            " 46%|████▌     | 22113/48549 [00:28<00:35, 739.10it/s]\u001b[A\u001b[A\n",
            "\n",
            " 46%|████▌     | 22189/48549 [00:28<00:39, 666.21it/s]\u001b[A\u001b[A\n",
            "\n",
            " 46%|████▌     | 22280/48549 [00:28<00:36, 722.39it/s]\u001b[A\u001b[A\n",
            "\n",
            " 46%|████▌     | 22356/48549 [00:28<00:35, 732.17it/s]\u001b[A\u001b[A\n",
            "\n",
            " 46%|████▌     | 22432/48549 [00:28<00:35, 730.22it/s]\u001b[A\u001b[A\n",
            "\n",
            " 46%|████▋     | 22516/48549 [00:28<00:34, 759.22it/s]\u001b[A\u001b[A\n",
            "\n",
            " 47%|████▋     | 22594/48549 [00:28<00:34, 745.34it/s]\u001b[A\u001b[A\n",
            "\n",
            " 47%|████▋     | 22673/48549 [00:29<00:34, 757.00it/s]\u001b[A\u001b[A\n",
            "\n",
            " 47%|████▋     | 22750/48549 [00:29<00:34, 749.47it/s]\u001b[A\u001b[A\n",
            "\n",
            " 47%|████▋     | 22831/48549 [00:29<00:33, 766.43it/s]\u001b[A\u001b[A\n",
            "\n",
            " 47%|████▋     | 22921/48549 [00:29<00:31, 801.56it/s]\u001b[A\u001b[A\n",
            "\n",
            " 47%|████▋     | 23002/48549 [00:29<00:32, 789.70it/s]\u001b[A\u001b[A\n",
            "\n",
            " 48%|████▊     | 23082/48549 [00:29<00:32, 790.37it/s]\u001b[A\u001b[A\n",
            "\n",
            " 48%|████▊     | 23163/48549 [00:29<00:31, 795.35it/s]\u001b[A\u001b[A\n",
            "\n",
            " 48%|████▊     | 23253/48549 [00:29<00:30, 822.33it/s]\u001b[A\u001b[A\n",
            "\n",
            " 48%|████▊     | 23336/48549 [00:29<00:32, 780.65it/s]\u001b[A\u001b[A\n",
            "\n",
            " 48%|████▊     | 23415/48549 [00:29<00:32, 775.79it/s]\u001b[A\u001b[A\n",
            "\n",
            " 48%|████▊     | 23495/48549 [00:30<00:32, 780.58it/s]\u001b[A\u001b[A\n",
            "\n",
            " 49%|████▊     | 23574/48549 [00:30<00:32, 778.80it/s]\u001b[A\u001b[A\n",
            "\n",
            " 49%|████▊     | 23653/48549 [00:30<00:31, 781.71it/s]\u001b[A\u001b[A\n",
            "\n",
            " 49%|████▉     | 23733/48549 [00:30<00:31, 787.11it/s]\u001b[A\u001b[A\n",
            "\n",
            " 49%|████▉     | 23812/48549 [00:30<00:32, 751.04it/s]\u001b[A\u001b[A\n",
            "\n",
            " 49%|████▉     | 23898/48549 [00:30<00:31, 779.77it/s]\u001b[A\u001b[A\n",
            "\n",
            " 49%|████▉     | 23986/48549 [00:30<00:30, 806.23it/s]\u001b[A\u001b[A\n",
            "\n",
            " 50%|████▉     | 24068/48549 [00:30<00:32, 763.91it/s]\u001b[A\u001b[A\n",
            "\n",
            " 50%|████▉     | 24147/48549 [00:30<00:31, 769.66it/s]\u001b[A\u001b[A\n",
            "\n",
            " 50%|████▉     | 24225/48549 [00:31<00:33, 731.73it/s]\u001b[A\u001b[A\n",
            "\n",
            " 50%|█████     | 24306/48549 [00:31<00:32, 752.51it/s]\u001b[A\u001b[A\n",
            "\n",
            " 50%|█████     | 24383/48549 [00:31<00:31, 755.64it/s]\u001b[A\u001b[A\n",
            "\n",
            " 50%|█████     | 24461/48549 [00:31<00:31, 759.95it/s]\u001b[A\u001b[A\n",
            "\n",
            " 51%|█████     | 24538/48549 [00:31<00:33, 719.96it/s]\u001b[A\u001b[A\n",
            "\n",
            " 51%|█████     | 24611/48549 [00:31<00:33, 712.61it/s]\u001b[A\u001b[A\n",
            "\n",
            " 51%|█████     | 24683/48549 [00:31<00:34, 698.44it/s]\u001b[A\u001b[A\n",
            "\n",
            " 51%|█████     | 24757/48549 [00:31<00:33, 709.34it/s]\u001b[A\u001b[A\n",
            "\n",
            " 51%|█████     | 24838/48549 [00:31<00:32, 735.20it/s]\u001b[A\u001b[A\n",
            "\n",
            " 51%|█████▏    | 24912/48549 [00:31<00:32, 720.58it/s]\u001b[A\u001b[A\n",
            "\n",
            " 51%|█████▏    | 24985/48549 [00:32<00:33, 701.20it/s]\u001b[A\u001b[A\n",
            "\n",
            " 52%|█████▏    | 25056/48549 [00:32<00:34, 675.27it/s]\u001b[A\u001b[A\n",
            "\n",
            " 52%|█████▏    | 25132/48549 [00:32<00:33, 689.23it/s]\u001b[A\u001b[A\n",
            "\n",
            " 52%|█████▏    | 25203/48549 [00:32<00:33, 693.50it/s]\u001b[A\u001b[A\n",
            "\n",
            " 52%|█████▏    | 25282/48549 [00:32<00:32, 718.82it/s]\u001b[A\u001b[A\n",
            "\n",
            " 52%|█████▏    | 25371/48549 [00:32<00:30, 761.77it/s]\u001b[A\u001b[A\n",
            "\n",
            " 52%|█████▏    | 25449/48549 [00:32<00:32, 718.83it/s]\u001b[A\u001b[A\n",
            "\n",
            " 53%|█████▎    | 25531/48549 [00:32<00:30, 745.67it/s]\u001b[A\u001b[A\n",
            "\n",
            " 53%|█████▎    | 25607/48549 [00:32<00:30, 747.59it/s]\u001b[A\u001b[A\n",
            "\n",
            " 53%|█████▎    | 25683/48549 [00:33<00:30, 748.91it/s]\u001b[A\u001b[A\n",
            "\n",
            " 53%|█████▎    | 25759/48549 [00:33<00:31, 728.07it/s]\u001b[A\u001b[A\n",
            "\n",
            " 53%|█████▎    | 25846/48549 [00:33<00:29, 764.49it/s]\u001b[A\u001b[A\n",
            "\n",
            " 53%|█████▎    | 25934/48549 [00:33<00:28, 791.67it/s]\u001b[A\u001b[A\n",
            "\n",
            " 54%|█████▎    | 26014/48549 [00:33<00:31, 723.54it/s]\u001b[A\u001b[A\n",
            "\n",
            " 54%|█████▎    | 26089/48549 [00:33<00:33, 675.91it/s]\u001b[A\u001b[A\n",
            "\n",
            " 54%|█████▍    | 26171/48549 [00:33<00:31, 711.93it/s]\u001b[A\u001b[A\n",
            "\n",
            " 54%|█████▍    | 26244/48549 [00:33<00:32, 691.36it/s]\u001b[A\u001b[A\n",
            "\n",
            " 54%|█████▍    | 26335/48549 [00:33<00:29, 744.82it/s]\u001b[A\u001b[A\n",
            "\n",
            " 54%|█████▍    | 26412/48549 [00:34<00:30, 736.26it/s]\u001b[A\u001b[A\n",
            "\n",
            " 55%|█████▍    | 26488/48549 [00:34<00:29, 740.65it/s]\u001b[A\u001b[A\n",
            "\n",
            " 55%|█████▍    | 26573/48549 [00:34<00:28, 768.87it/s]\u001b[A\u001b[A\n",
            "\n",
            " 55%|█████▍    | 26651/48549 [00:34<00:28, 758.13it/s]\u001b[A\u001b[A\n",
            "\n",
            " 55%|█████▌    | 26728/48549 [00:34<00:28, 757.18it/s]\u001b[A\u001b[A\n",
            "\n",
            " 55%|█████▌    | 26805/48549 [00:34<00:29, 741.06it/s]\u001b[A\u001b[A\n",
            "\n",
            " 55%|█████▌    | 26880/48549 [00:34<00:30, 716.89it/s]\u001b[A\u001b[A\n",
            "\n",
            " 56%|█████▌    | 26953/48549 [00:34<00:31, 690.34it/s]\u001b[A\u001b[A\n",
            "\n",
            " 56%|█████▌    | 27031/48549 [00:34<00:30, 713.46it/s]\u001b[A\u001b[A\n",
            "\n",
            " 56%|█████▌    | 27103/48549 [00:34<00:31, 688.33it/s]\u001b[A\u001b[A\n",
            "\n",
            " 56%|█████▌    | 27173/48549 [00:35<00:31, 683.12it/s]\u001b[A\u001b[A\n",
            "\n",
            " 56%|█████▌    | 27246/48549 [00:35<00:30, 695.77it/s]\u001b[A\u001b[A\n",
            "\n",
            " 56%|█████▋    | 27316/48549 [00:35<00:30, 697.02it/s]\u001b[A\u001b[A\n",
            "\n",
            " 56%|█████▋    | 27386/48549 [00:35<00:30, 684.92it/s]\u001b[A\u001b[A\n",
            "\n",
            " 57%|█████▋    | 27463/48549 [00:35<00:29, 706.94it/s]\u001b[A\u001b[A\n",
            "\n",
            " 57%|█████▋    | 27535/48549 [00:35<00:31, 666.68it/s]\u001b[A\u001b[A\n",
            "\n",
            " 57%|█████▋    | 27606/48549 [00:35<00:30, 677.78it/s]\u001b[A\u001b[A\n",
            "\n",
            " 57%|█████▋    | 27675/48549 [00:35<00:30, 677.62it/s]\u001b[A\u001b[A\n",
            "\n",
            " 57%|█████▋    | 27744/48549 [00:35<00:31, 662.12it/s]\u001b[A\u001b[A\n",
            "\n",
            " 57%|█████▋    | 27815/48549 [00:36<00:30, 673.87it/s]\u001b[A\u001b[A\n",
            "\n",
            " 57%|█████▋    | 27886/48549 [00:36<00:30, 682.51it/s]\u001b[A\u001b[A\n",
            "\n",
            " 58%|█████▊    | 27955/48549 [00:36<00:30, 683.49it/s]\u001b[A\u001b[A\n",
            "\n",
            " 58%|█████▊    | 28040/48549 [00:36<00:28, 724.82it/s]\u001b[A\u001b[A\n",
            "\n",
            " 58%|█████▊    | 28114/48549 [00:36<00:28, 714.08it/s]\u001b[A\u001b[A\n",
            "\n",
            " 58%|█████▊    | 28189/48549 [00:36<00:28, 724.24it/s]\u001b[A\u001b[A\n",
            "\n",
            " 58%|█████▊    | 28262/48549 [00:36<00:28, 720.94it/s]\u001b[A\u001b[A\n",
            "\n",
            " 58%|█████▊    | 28335/48549 [00:36<00:28, 707.31it/s]\u001b[A\u001b[A\n",
            "\n",
            " 59%|█████▊    | 28418/48549 [00:36<00:27, 740.03it/s]\u001b[A\u001b[A\n",
            "\n",
            " 59%|█████▊    | 28508/48549 [00:36<00:25, 781.63it/s]\u001b[A\u001b[A\n",
            "\n",
            " 59%|█████▉    | 28591/48549 [00:37<00:25, 794.34it/s]\u001b[A\u001b[A\n",
            "\n",
            " 59%|█████▉    | 28672/48549 [00:37<00:25, 793.94it/s]\u001b[A\u001b[A\n",
            "\n",
            " 59%|█████▉    | 28752/48549 [00:37<00:26, 756.22it/s]\u001b[A\u001b[A\n",
            "\n",
            " 59%|█████▉    | 28829/48549 [00:37<00:26, 737.33it/s]\u001b[A\u001b[A\n",
            "\n",
            " 60%|█████▉    | 28916/48549 [00:37<00:25, 772.04it/s]\u001b[A\u001b[A\n",
            "\n",
            " 60%|█████▉    | 28995/48549 [00:37<00:27, 703.50it/s]\u001b[A\u001b[A\n",
            "\n",
            " 60%|█████▉    | 29074/48549 [00:37<00:26, 727.25it/s]\u001b[A\u001b[A\n",
            "\n",
            " 60%|██████    | 29149/48549 [00:37<00:27, 696.62it/s]\u001b[A\u001b[A\n",
            "\n",
            " 60%|██████    | 29220/48549 [00:37<00:27, 697.63it/s]\u001b[A\u001b[A\n",
            "\n",
            " 60%|██████    | 29291/48549 [00:38<00:29, 643.42it/s]\u001b[A\u001b[A\n",
            "\n",
            " 60%|██████    | 29357/48549 [00:38<00:30, 636.43it/s]\u001b[A\u001b[A\n",
            "\n",
            " 61%|██████    | 29435/48549 [00:38<00:28, 672.28it/s]\u001b[A\u001b[A\n",
            "\n",
            " 61%|██████    | 29504/48549 [00:38<00:29, 644.92it/s]\u001b[A\u001b[A\n",
            "\n",
            " 61%|██████    | 29582/48549 [00:38<00:27, 679.80it/s]\u001b[A\u001b[A\n",
            "\n",
            " 61%|██████    | 29652/48549 [00:38<00:27, 679.35it/s]\u001b[A\u001b[A\n",
            "\n",
            " 61%|██████    | 29721/48549 [00:38<00:27, 678.70it/s]\u001b[A\u001b[A\n",
            "\n",
            " 61%|██████▏   | 29800/48549 [00:38<00:26, 706.38it/s]\u001b[A\u001b[A\n",
            "\n",
            " 62%|██████▏   | 29872/48549 [00:38<00:27, 668.66it/s]\u001b[A\u001b[A\n",
            "\n",
            " 62%|██████▏   | 29940/48549 [00:39<00:27, 670.76it/s]\u001b[A\u001b[A\n",
            "\n",
            " 62%|██████▏   | 30008/48549 [00:39<00:28, 660.46it/s]\u001b[A\u001b[A\n",
            "\n",
            " 62%|██████▏   | 30075/48549 [00:39<00:28, 638.22it/s]\u001b[A\u001b[A\n",
            "\n",
            " 62%|██████▏   | 30140/48549 [00:39<00:29, 627.78it/s]\u001b[A\u001b[A\n",
            "\n",
            " 62%|██████▏   | 30207/48549 [00:39<00:28, 639.23it/s]\u001b[A\u001b[A\n",
            "\n",
            " 62%|██████▏   | 30298/48549 [00:39<00:26, 701.84it/s]\u001b[A\u001b[A\n",
            "\n",
            " 63%|██████▎   | 30379/48549 [00:39<00:24, 729.98it/s]\u001b[A\u001b[A\n",
            "\n",
            " 63%|██████▎   | 30463/48549 [00:39<00:23, 759.12it/s]\u001b[A\u001b[A\n",
            "\n",
            " 63%|██████▎   | 30554/48549 [00:39<00:22, 797.56it/s]\u001b[A\u001b[A\n",
            "\n",
            " 63%|██████▎   | 30641/48549 [00:39<00:21, 816.25it/s]\u001b[A\u001b[A\n",
            "\n",
            " 63%|██████▎   | 30726/48549 [00:40<00:21, 823.14it/s]\u001b[A\u001b[A\n",
            "\n",
            " 63%|██████▎   | 30810/48549 [00:40<00:21, 825.31it/s]\u001b[A\u001b[A\n",
            "\n",
            " 64%|██████▎   | 30897/48549 [00:40<00:21, 835.29it/s]\u001b[A\u001b[A\n",
            "\n",
            " 64%|██████▍   | 30981/48549 [00:40<00:22, 768.31it/s]\u001b[A\u001b[A\n",
            "\n",
            " 64%|██████▍   | 31060/48549 [00:40<00:22, 771.29it/s]\u001b[A\u001b[A\n",
            "\n",
            " 64%|██████▍   | 31140/48549 [00:40<00:22, 774.65it/s]\u001b[A\u001b[A\n",
            "\n",
            " 64%|██████▍   | 31219/48549 [00:40<00:22, 765.77it/s]\u001b[A\u001b[A\n",
            "\n",
            " 64%|██████▍   | 31297/48549 [00:40<00:23, 733.05it/s]\u001b[A\u001b[A\n",
            "\n",
            " 65%|██████▍   | 31382/48549 [00:40<00:22, 764.02it/s]\u001b[A\u001b[A\n",
            "\n",
            " 65%|██████▍   | 31460/48549 [00:41<00:22, 760.01it/s]\u001b[A\u001b[A\n",
            "\n",
            " 65%|██████▍   | 31538/48549 [00:41<00:22, 762.24it/s]\u001b[A\u001b[A\n",
            "\n",
            " 65%|██████▌   | 31615/48549 [00:41<00:22, 761.32it/s]\u001b[A\u001b[A\n",
            "\n",
            " 65%|██████▌   | 31697/48549 [00:41<00:21, 775.22it/s]\u001b[A\u001b[A\n",
            "\n",
            " 65%|██████▌   | 31775/48549 [00:41<00:22, 750.62it/s]\u001b[A\u001b[A\n",
            "\n",
            " 66%|██████▌   | 31851/48549 [00:41<00:22, 739.88it/s]\u001b[A\u001b[A\n",
            "\n",
            " 66%|██████▌   | 31934/48549 [00:41<00:21, 761.83it/s]\u001b[A\u001b[A\n",
            "\n",
            " 66%|██████▌   | 32011/48549 [00:41<00:21, 755.65it/s]\u001b[A\u001b[A\n",
            "\n",
            " 66%|██████▌   | 32087/48549 [00:41<00:23, 699.13it/s]\u001b[A\u001b[A\n",
            "\n",
            " 66%|██████▌   | 32158/48549 [00:41<00:23, 686.06it/s]\u001b[A\u001b[A\n",
            "\n",
            " 66%|██████▋   | 32234/48549 [00:42<00:23, 705.44it/s]\u001b[A\u001b[A\n",
            "\n",
            " 67%|██████▋   | 32308/48549 [00:42<00:22, 714.87it/s]\u001b[A\u001b[A\n",
            "\n",
            " 67%|██████▋   | 32380/48549 [00:42<00:22, 707.46it/s]\u001b[A\u001b[A\n",
            "\n",
            " 67%|██████▋   | 32452/48549 [00:42<00:23, 678.00it/s]\u001b[A\u001b[A\n",
            "\n",
            " 67%|██████▋   | 32532/48549 [00:42<00:22, 710.10it/s]\u001b[A\u001b[A\n",
            "\n",
            " 67%|██████▋   | 32604/48549 [00:42<00:22, 710.87it/s]\u001b[A\u001b[A\n",
            "\n",
            " 67%|██████▋   | 32676/48549 [00:42<00:23, 686.04it/s]\u001b[A\u001b[A\n",
            "\n",
            " 67%|██████▋   | 32764/48549 [00:42<00:21, 733.80it/s]\u001b[A\u001b[A\n",
            "\n",
            " 68%|██████▊   | 32839/48549 [00:42<00:21, 716.46it/s]\u001b[A\u001b[A\n",
            "\n",
            " 68%|██████▊   | 32917/48549 [00:43<00:21, 732.70it/s]\u001b[A\u001b[A\n",
            "\n",
            " 68%|██████▊   | 32997/48549 [00:43<00:20, 746.02it/s]\u001b[A\u001b[A\n",
            "\n",
            " 68%|██████▊   | 33073/48549 [00:43<00:20, 741.94it/s]\u001b[A\u001b[A\n",
            "\n",
            " 68%|██████▊   | 33148/48549 [00:43<00:21, 725.64it/s]\u001b[A\u001b[A\n",
            "\n",
            " 68%|██████▊   | 33221/48549 [00:43<00:21, 713.77it/s]\u001b[A\u001b[A\n",
            "\n",
            " 69%|██████▊   | 33293/48549 [00:43<00:22, 687.72it/s]\u001b[A\u001b[A\n",
            "\n",
            " 69%|██████▊   | 33363/48549 [00:43<00:22, 685.21it/s]\u001b[A\u001b[A\n",
            "\n",
            " 69%|██████▉   | 33432/48549 [00:43<00:22, 682.88it/s]\u001b[A\u001b[A\n",
            "\n",
            " 69%|██████▉   | 33501/48549 [00:43<00:23, 628.86it/s]\u001b[A\u001b[A\n",
            "\n",
            " 69%|██████▉   | 33579/48549 [00:43<00:22, 666.33it/s]\u001b[A\u001b[A\n",
            "\n",
            " 69%|██████▉   | 33652/48549 [00:44<00:21, 682.78it/s]\u001b[A\u001b[A\n",
            "\n",
            " 69%|██████▉   | 33733/48549 [00:44<00:20, 716.52it/s]\u001b[A\u001b[A\n",
            "\n",
            " 70%|██████▉   | 33809/48549 [00:44<00:20, 728.07it/s]\u001b[A\u001b[A\n",
            "\n",
            " 70%|██████▉   | 33883/48549 [00:44<00:21, 690.82it/s]\u001b[A\u001b[A\n",
            "\n",
            " 70%|██████▉   | 33954/48549 [00:44<00:21, 684.17it/s]\u001b[A\u001b[A\n",
            "\n",
            " 70%|███████   | 34024/48549 [00:44<00:21, 674.53it/s]\u001b[A\u001b[A\n",
            "\n",
            " 70%|███████   | 34092/48549 [00:44<00:22, 652.47it/s]\u001b[A\u001b[A\n",
            "\n",
            " 70%|███████   | 34160/48549 [00:44<00:21, 657.20it/s]\u001b[A\u001b[A\n",
            "\n",
            " 71%|███████   | 34231/48549 [00:44<00:21, 669.10it/s]\u001b[A\u001b[A\n",
            "\n",
            " 71%|███████   | 34303/48549 [00:45<00:20, 681.92it/s]\u001b[A\u001b[A\n",
            "\n",
            " 71%|███████   | 34374/48549 [00:45<00:20, 687.94it/s]\u001b[A\u001b[A\n",
            "\n",
            " 71%|███████   | 34459/48549 [00:45<00:19, 729.40it/s]\u001b[A\u001b[A\n",
            "\n",
            " 71%|███████   | 34533/48549 [00:45<00:20, 700.57it/s]\u001b[A\u001b[A\n",
            "\n",
            " 71%|███████▏  | 34618/48549 [00:45<00:18, 739.24it/s]\u001b[A\u001b[A\n",
            "\n",
            " 71%|███████▏  | 34694/48549 [00:45<00:19, 695.65it/s]\u001b[A\u001b[A\n",
            "\n",
            " 72%|███████▏  | 34765/48549 [00:45<00:20, 672.83it/s]\u001b[A\u001b[A\n",
            "\n",
            " 72%|███████▏  | 34834/48549 [00:45<00:21, 632.72it/s]\u001b[A\u001b[A\n",
            "\n",
            " 72%|███████▏  | 34905/48549 [00:45<00:20, 653.03it/s]\u001b[A\u001b[A\n",
            "\n",
            " 72%|███████▏  | 34977/48549 [00:46<00:20, 670.06it/s]\u001b[A\u001b[A\n",
            "\n",
            " 72%|███████▏  | 35049/48549 [00:46<00:19, 683.78it/s]\u001b[A\u001b[A\n",
            "\n",
            " 72%|███████▏  | 35119/48549 [00:46<00:20, 654.82it/s]\u001b[A\u001b[A\n",
            "\n",
            " 72%|███████▏  | 35186/48549 [00:46<00:20, 643.90it/s]\u001b[A\u001b[A\n",
            "\n",
            " 73%|███████▎  | 35257/48549 [00:46<00:20, 659.71it/s]\u001b[A\u001b[A\n",
            "\n",
            " 73%|███████▎  | 35339/48549 [00:46<00:18, 699.20it/s]\u001b[A\u001b[A\n",
            "\n",
            " 73%|███████▎  | 35410/48549 [00:46<00:18, 699.67it/s]\u001b[A\u001b[A\n",
            "\n",
            " 73%|███████▎  | 35481/48549 [00:46<00:18, 694.89it/s]\u001b[A\u001b[A\n",
            "\n",
            " 73%|███████▎  | 35554/48549 [00:46<00:18, 703.09it/s]\u001b[A\u001b[A\n",
            "\n",
            " 73%|███████▎  | 35636/48549 [00:46<00:17, 733.35it/s]\u001b[A\u001b[A\n",
            "\n",
            " 74%|███████▎  | 35710/48549 [00:47<00:17, 733.67it/s]\u001b[A\u001b[A\n",
            "\n",
            " 74%|███████▎  | 35784/48549 [00:47<00:17, 726.37it/s]\u001b[A\u001b[A\n",
            "\n",
            " 74%|███████▍  | 35857/48549 [00:47<00:18, 681.36it/s]\u001b[A\u001b[A\n",
            "\n",
            " 74%|███████▍  | 35926/48549 [00:47<00:18, 669.15it/s]\u001b[A\u001b[A\n",
            "\n",
            " 74%|███████▍  | 35994/48549 [00:47<00:18, 666.79it/s]\u001b[A\u001b[A\n",
            "\n",
            " 74%|███████▍  | 36062/48549 [00:47<00:18, 669.56it/s]\u001b[A\u001b[A\n",
            "\n",
            " 74%|███████▍  | 36143/48549 [00:47<00:17, 699.62it/s]\u001b[A\u001b[A\n",
            "\n",
            " 75%|███████▍  | 36214/48549 [00:47<00:17, 687.70it/s]\u001b[A\u001b[A\n",
            "\n",
            " 75%|███████▍  | 36291/48549 [00:47<00:17, 708.38it/s]\u001b[A\u001b[A\n",
            "\n",
            " 75%|███████▍  | 36368/48549 [00:48<00:16, 725.26it/s]\u001b[A\u001b[A\n",
            "\n",
            " 75%|███████▌  | 36441/48549 [00:48<00:17, 696.65it/s]\u001b[A\u001b[A\n",
            "\n",
            " 75%|███████▌  | 36512/48549 [00:48<00:17, 677.48it/s]\u001b[A\u001b[A\n",
            "\n",
            " 75%|███████▌  | 36582/48549 [00:48<00:17, 683.84it/s]\u001b[A\u001b[A\n",
            "\n",
            " 75%|███████▌  | 36651/48549 [00:48<00:17, 678.35it/s]\u001b[A\u001b[A\n",
            "\n",
            " 76%|███████▌  | 36720/48549 [00:48<00:17, 670.84it/s]\u001b[A\u001b[A\n",
            "\n",
            " 76%|███████▌  | 36793/48549 [00:48<00:17, 680.73it/s]\u001b[A\u001b[A\n",
            "\n",
            " 76%|███████▌  | 36867/48549 [00:48<00:16, 696.79it/s]\u001b[A\u001b[A\n",
            "\n",
            " 76%|███████▌  | 36937/48549 [00:48<00:17, 664.96it/s]\u001b[A\u001b[A\n",
            "\n",
            " 76%|███████▌  | 37009/48549 [00:48<00:17, 677.75it/s]\u001b[A\u001b[A\n",
            "\n",
            " 76%|███████▋  | 37087/48549 [00:49<00:16, 702.77it/s]\u001b[A\u001b[A\n",
            "\n",
            " 77%|███████▋  | 37158/48549 [00:49<00:16, 681.55it/s]\u001b[A\u001b[A\n",
            "\n",
            " 77%|███████▋  | 37227/48549 [00:49<00:16, 683.74it/s]\u001b[A\u001b[A\n",
            "\n",
            " 77%|███████▋  | 37298/48549 [00:49<00:16, 690.85it/s]\u001b[A\u001b[A\n",
            "\n",
            " 77%|███████▋  | 37368/48549 [00:49<00:16, 692.14it/s]\u001b[A\u001b[A\n",
            "\n",
            " 77%|███████▋  | 37439/48549 [00:49<00:15, 695.57it/s]\u001b[A\u001b[A\n",
            "\n",
            " 77%|███████▋  | 37509/48549 [00:49<00:16, 686.97it/s]\u001b[A\u001b[A\n",
            "\n",
            " 77%|███████▋  | 37584/48549 [00:49<00:15, 702.24it/s]\u001b[A\u001b[A\n",
            "\n",
            " 78%|███████▊  | 37655/48549 [00:49<00:15, 683.54it/s]\u001b[A\u001b[A\n",
            "\n",
            " 78%|███████▊  | 37724/48549 [00:50<00:15, 679.30it/s]\u001b[A\u001b[A\n",
            "\n",
            " 78%|███████▊  | 37793/48549 [00:50<00:16, 642.52it/s]\u001b[A\u001b[A\n",
            "\n",
            " 78%|███████▊  | 37866/48549 [00:50<00:16, 665.54it/s]\u001b[A\u001b[A\n",
            "\n",
            " 78%|███████▊  | 37936/48549 [00:50<00:15, 669.44it/s]\u001b[A\u001b[A\n",
            "\n",
            " 78%|███████▊  | 38004/48549 [00:50<00:15, 659.43it/s]\u001b[A\u001b[A\n",
            "\n",
            " 78%|███████▊  | 38074/48549 [00:50<00:15, 669.77it/s]\u001b[A\u001b[A\n",
            "\n",
            " 79%|███████▊  | 38147/48549 [00:50<00:15, 685.09it/s]\u001b[A\u001b[A\n",
            "\n",
            " 79%|███████▊  | 38216/48549 [00:50<00:15, 677.16it/s]\u001b[A\u001b[A\n",
            "\n",
            " 79%|███████▉  | 38301/48549 [00:50<00:14, 719.23it/s]\u001b[A\u001b[A\n",
            "\n",
            " 79%|███████▉  | 38374/48549 [00:50<00:15, 669.42it/s]\u001b[A\u001b[A\n",
            "\n",
            " 79%|███████▉  | 38453/48549 [00:51<00:14, 700.63it/s]\u001b[A\u001b[A\n",
            "\n",
            " 79%|███████▉  | 38533/48549 [00:51<00:13, 727.29it/s]\u001b[A\u001b[A\n",
            "\n",
            " 80%|███████▉  | 38608/48549 [00:51<00:13, 731.55it/s]\u001b[A\u001b[A\n",
            "\n",
            " 80%|███████▉  | 38684/48549 [00:51<00:13, 738.59it/s]\u001b[A\u001b[A\n",
            "\n",
            " 80%|███████▉  | 38759/48549 [00:51<00:13, 717.01it/s]\u001b[A\u001b[A\n",
            "\n",
            " 80%|███████▉  | 38837/48549 [00:51<00:13, 728.74it/s]\u001b[A\u001b[A\n",
            "\n",
            " 80%|████████  | 38919/48549 [00:51<00:12, 753.73it/s]\u001b[A\u001b[A\n",
            "\n",
            " 80%|████████  | 38995/48549 [00:51<00:12, 749.86it/s]\u001b[A\u001b[A\n",
            "\n",
            " 80%|████████  | 39071/48549 [00:51<00:13, 717.44it/s]\u001b[A\u001b[A\n",
            "\n",
            " 81%|████████  | 39144/48549 [00:52<00:13, 711.87it/s]\u001b[A\u001b[A\n",
            "\n",
            " 81%|████████  | 39221/48549 [00:52<00:12, 727.06it/s]\u001b[A\u001b[A\n",
            "\n",
            " 81%|████████  | 39295/48549 [00:52<00:12, 718.50it/s]\u001b[A\u001b[A\n",
            "\n",
            " 81%|████████  | 39373/48549 [00:52<00:12, 732.73it/s]\u001b[A\u001b[A\n",
            "\n",
            " 81%|████████▏ | 39449/48549 [00:52<00:12, 740.56it/s]\u001b[A\u001b[A\n",
            "\n",
            " 81%|████████▏ | 39525/48549 [00:52<00:12, 733.53it/s]\u001b[A\u001b[A\n",
            "\n",
            " 82%|████████▏ | 39600/48549 [00:52<00:12, 736.41it/s]\u001b[A\u001b[A\n",
            "\n",
            " 82%|████████▏ | 39674/48549 [00:52<00:12, 702.64it/s]\u001b[A\u001b[A\n",
            "\n",
            " 82%|████████▏ | 39745/48549 [00:52<00:12, 699.89it/s]\u001b[A\u001b[A\n",
            "\n",
            " 82%|████████▏ | 39816/48549 [00:52<00:13, 647.64it/s]\u001b[A\u001b[A\n",
            "\n",
            " 82%|████████▏ | 39882/48549 [00:53<00:13, 638.52it/s]\u001b[A\u001b[A\n",
            "\n",
            " 82%|████████▏ | 39950/48549 [00:53<00:13, 648.10it/s]\u001b[A\u001b[A\n",
            "\n",
            " 82%|████████▏ | 40019/48549 [00:53<00:13, 655.70it/s]\u001b[A\u001b[A\n",
            "\n",
            " 83%|████████▎ | 40089/48549 [00:53<00:12, 668.32it/s]\u001b[A\u001b[A\n",
            "\n",
            " 83%|████████▎ | 40157/48549 [00:53<00:13, 602.98it/s]\u001b[A\u001b[A\n",
            "\n",
            " 83%|████████▎ | 40228/48549 [00:53<00:13, 630.38it/s]\u001b[A\u001b[A\n",
            "\n",
            " 83%|████████▎ | 40300/48549 [00:53<00:12, 653.33it/s]\u001b[A\u001b[A\n",
            "\n",
            " 83%|████████▎ | 40374/48549 [00:53<00:12, 675.52it/s]\u001b[A\u001b[A\n",
            "\n",
            " 83%|████████▎ | 40443/48549 [00:53<00:12, 640.83it/s]\u001b[A\u001b[A\n",
            "\n",
            " 83%|████████▎ | 40518/48549 [00:54<00:11, 669.29it/s]\u001b[A\u001b[A\n",
            "\n",
            " 84%|████████▎ | 40598/48549 [00:54<00:11, 702.60it/s]\u001b[A\u001b[A\n",
            "\n",
            " 84%|████████▍ | 40670/48549 [00:54<00:11, 662.96it/s]\u001b[A\u001b[A\n",
            "\n",
            " 84%|████████▍ | 40738/48549 [00:54<00:12, 634.90it/s]\u001b[A\u001b[A\n",
            "\n",
            " 84%|████████▍ | 40803/48549 [00:54<00:12, 625.71it/s]\u001b[A\u001b[A\n",
            "\n",
            " 84%|████████▍ | 40867/48549 [00:54<00:12, 621.27it/s]\u001b[A\u001b[A\n",
            "\n",
            " 84%|████████▍ | 40935/48549 [00:54<00:12, 632.09it/s]\u001b[A\u001b[A\n",
            "\n",
            " 84%|████████▍ | 40999/48549 [00:54<00:12, 590.34it/s]\u001b[A\u001b[A\n",
            "\n",
            " 85%|████████▍ | 41059/48549 [00:54<00:12, 588.40it/s]\u001b[A\u001b[A\n",
            "\n",
            " 85%|████████▍ | 41119/48549 [00:55<00:13, 546.05it/s]\u001b[A\u001b[A\n",
            "\n",
            " 85%|████████▍ | 41202/48549 [00:55<00:12, 607.71it/s]\u001b[A\u001b[A\n",
            "\n",
            " 85%|████████▌ | 41277/48549 [00:55<00:11, 643.37it/s]\u001b[A\u001b[A\n",
            "\n",
            " 85%|████████▌ | 41344/48549 [00:55<00:11, 648.01it/s]\u001b[A\u001b[A\n",
            "\n",
            " 85%|████████▌ | 41414/48549 [00:55<00:10, 661.69it/s]\u001b[A\u001b[A\n",
            "\n",
            " 85%|████████▌ | 41494/48549 [00:55<00:10, 688.62it/s]\u001b[A\u001b[A\n",
            "\n",
            " 86%|████████▌ | 41571/48549 [00:55<00:09, 711.11it/s]\u001b[A\u001b[A\n",
            "\n",
            " 86%|████████▌ | 41644/48549 [00:55<00:10, 665.35it/s]\u001b[A\u001b[A\n",
            "\n",
            " 86%|████████▌ | 41718/48549 [00:55<00:09, 684.47it/s]\u001b[A\u001b[A\n",
            "\n",
            " 86%|████████▌ | 41788/48549 [00:56<00:10, 661.46it/s]\u001b[A\u001b[A\n",
            "\n",
            " 86%|████████▌ | 41856/48549 [00:56<00:10, 642.45it/s]\u001b[A\u001b[A\n",
            "\n",
            " 86%|████████▋ | 41929/48549 [00:56<00:09, 665.74it/s]\u001b[A\u001b[A\n",
            "\n",
            " 87%|████████▋ | 41997/48549 [00:56<00:09, 659.72it/s]\u001b[A\u001b[A\n",
            "\n",
            " 87%|████████▋ | 42066/48549 [00:56<00:09, 667.47it/s]\u001b[A\u001b[A\n",
            "\n",
            " 87%|████████▋ | 42134/48549 [00:56<00:10, 636.19it/s]\u001b[A\u001b[A\n",
            "\n",
            " 87%|████████▋ | 42203/48549 [00:56<00:09, 650.26it/s]\u001b[A\u001b[A\n",
            "\n",
            " 87%|████████▋ | 42272/48549 [00:56<00:09, 661.32it/s]\u001b[A\u001b[A\n",
            "\n",
            " 87%|████████▋ | 42339/48549 [00:56<00:09, 649.29it/s]\u001b[A\u001b[A\n",
            "\n",
            " 87%|████████▋ | 42408/48549 [00:56<00:09, 659.06it/s]\u001b[A\u001b[A\n",
            "\n",
            " 87%|████████▋ | 42475/48549 [00:57<00:09, 635.09it/s]\u001b[A\u001b[A\n",
            "\n",
            " 88%|████████▊ | 42544/48549 [00:57<00:09, 650.50it/s]\u001b[A\u001b[A\n",
            "\n",
            " 88%|████████▊ | 42610/48549 [00:57<00:09, 627.37it/s]\u001b[A\u001b[A\n",
            "\n",
            " 88%|████████▊ | 42674/48549 [00:57<00:10, 572.17it/s]\u001b[A\u001b[A\n",
            "\n",
            " 88%|████████▊ | 42742/48549 [00:57<00:09, 600.24it/s]\u001b[A\u001b[A\n",
            "\n",
            " 88%|████████▊ | 42804/48549 [00:57<00:09, 586.70it/s]\u001b[A\u001b[A\n",
            "\n",
            " 88%|████████▊ | 42864/48549 [00:57<00:09, 587.11it/s]\u001b[A\u001b[A\n",
            "\n",
            " 88%|████████▊ | 42927/48549 [00:57<00:09, 598.66it/s]\u001b[A\u001b[A\n",
            "\n",
            " 89%|████████▊ | 42996/48549 [00:57<00:08, 622.86it/s]\u001b[A\u001b[A\n",
            "\n",
            " 89%|████████▊ | 43060/48549 [00:58<00:08, 626.20it/s]\u001b[A\u001b[A\n",
            "\n",
            " 89%|████████▉ | 43124/48549 [00:58<00:09, 592.39it/s]\u001b[A\u001b[A\n",
            "\n",
            " 89%|████████▉ | 43184/48549 [00:58<00:09, 593.28it/s]\u001b[A\u001b[A\n",
            "\n",
            " 89%|████████▉ | 43258/48549 [00:58<00:08, 629.96it/s]\u001b[A\u001b[A\n",
            "\n",
            " 89%|████████▉ | 43333/48549 [00:58<00:07, 659.08it/s]\u001b[A\u001b[A\n",
            "\n",
            " 89%|████████▉ | 43415/48549 [00:58<00:07, 697.81it/s]\u001b[A\u001b[A\n",
            "\n",
            " 90%|████████▉ | 43487/48549 [00:58<00:07, 702.13it/s]\u001b[A\u001b[A\n",
            "\n",
            " 90%|████████▉ | 43559/48549 [00:58<00:07, 695.68it/s]\u001b[A\u001b[A\n",
            "\n",
            " 90%|████████▉ | 43630/48549 [00:58<00:07, 693.78it/s]\u001b[A\u001b[A\n",
            "\n",
            " 90%|█████████ | 43713/48549 [00:58<00:06, 729.44it/s]\u001b[A\u001b[A\n",
            "\n",
            " 90%|█████████ | 43787/48549 [00:59<00:07, 663.19it/s]\u001b[A\u001b[A\n",
            "\n",
            " 90%|█████████ | 43856/48549 [00:59<00:07, 653.27it/s]\u001b[A\u001b[A\n",
            "\n",
            " 90%|█████████ | 43931/48549 [00:59<00:06, 678.86it/s]\u001b[A\u001b[A\n",
            "\n",
            " 91%|█████████ | 44001/48549 [00:59<00:06, 652.76it/s]\u001b[A\u001b[A\n",
            "\n",
            " 91%|█████████ | 44071/48549 [00:59<00:06, 662.63it/s]\u001b[A\u001b[A\n",
            "\n",
            " 91%|█████████ | 44139/48549 [00:59<00:06, 650.75it/s]\u001b[A\u001b[A\n",
            "\n",
            " 91%|█████████ | 44215/48549 [00:59<00:06, 679.71it/s]\u001b[A\u001b[A\n",
            "\n",
            " 91%|█████████ | 44284/48549 [00:59<00:06, 660.23it/s]\u001b[A\u001b[A\n",
            "\n",
            " 91%|█████████▏| 44351/48549 [00:59<00:06, 643.43it/s]\u001b[A\u001b[A\n",
            "\n",
            " 91%|█████████▏| 44416/48549 [01:00<00:06, 591.99it/s]\u001b[A\u001b[A\n",
            "\n",
            " 92%|█████████▏| 44477/48549 [01:00<00:06, 596.64it/s]\u001b[A\u001b[A\n",
            "\n",
            " 92%|█████████▏| 44543/48549 [01:00<00:06, 612.59it/s]\u001b[A\u001b[A\n",
            "\n",
            " 92%|█████████▏| 44620/48549 [01:00<00:06, 649.69it/s]\u001b[A\u001b[A\n",
            "\n",
            " 92%|█████████▏| 44687/48549 [01:00<00:06, 620.86it/s]\u001b[A\u001b[A\n",
            "\n",
            " 92%|█████████▏| 44758/48549 [01:00<00:05, 643.39it/s]\u001b[A\u001b[A\n",
            "\n",
            " 92%|█████████▏| 44830/48549 [01:00<00:05, 659.29it/s]\u001b[A\u001b[A\n",
            "\n",
            " 92%|█████████▏| 44897/48549 [01:00<00:05, 650.82it/s]\u001b[A\u001b[A\n",
            "\n",
            " 93%|█████████▎| 44966/48549 [01:00<00:05, 659.43it/s]\u001b[A\u001b[A\n",
            "\n",
            " 93%|█████████▎| 45033/48549 [01:01<00:05, 650.36it/s]\u001b[A\u001b[A\n",
            "\n",
            " 93%|█████████▎| 45099/48549 [01:01<00:05, 633.18it/s]\u001b[A\u001b[A\n",
            "\n",
            " 93%|█████████▎| 45163/48549 [01:01<00:05, 629.43it/s]\u001b[A\u001b[A\n",
            "\n",
            " 93%|█████████▎| 45227/48549 [01:01<00:05, 622.72it/s]\u001b[A\u001b[A\n",
            "\n",
            " 93%|█████████▎| 45302/48549 [01:01<00:04, 652.57it/s]\u001b[A\u001b[A\n",
            "\n",
            " 93%|█████████▎| 45368/48549 [01:01<00:05, 618.12it/s]\u001b[A\u001b[A\n",
            "\n",
            " 94%|█████████▎| 45432/48549 [01:01<00:05, 617.13it/s]\u001b[A\u001b[A\n",
            "\n",
            " 94%|█████████▎| 45498/48549 [01:01<00:04, 628.94it/s]\u001b[A\u001b[A\n",
            "\n",
            " 94%|█████████▍| 45563/48549 [01:01<00:04, 634.40it/s]\u001b[A\u001b[A\n",
            "\n",
            " 94%|█████████▍| 45630/48549 [01:01<00:04, 644.43it/s]\u001b[A\u001b[A\n",
            "\n",
            " 94%|█████████▍| 45703/48549 [01:02<00:04, 666.55it/s]\u001b[A\u001b[A\n",
            "\n",
            " 94%|█████████▍| 45771/48549 [01:02<00:04, 638.13it/s]\u001b[A\u001b[A\n",
            "\n",
            " 94%|█████████▍| 45840/48549 [01:02<00:04, 646.38it/s]\u001b[A\u001b[A\n",
            "\n",
            " 95%|█████████▍| 45906/48549 [01:02<00:04, 599.48it/s]\u001b[A\u001b[A\n",
            "\n",
            " 95%|█████████▍| 45967/48549 [01:02<00:04, 579.25it/s]\u001b[A\u001b[A\n",
            "\n",
            " 95%|█████████▍| 46039/48549 [01:02<00:04, 615.09it/s]\u001b[A\u001b[A\n",
            "\n",
            " 95%|█████████▍| 46105/48549 [01:02<00:03, 626.20it/s]\u001b[A\u001b[A\n",
            "\n",
            " 95%|█████████▌| 46169/48549 [01:02<00:03, 624.00it/s]\u001b[A\u001b[A\n",
            "\n",
            " 95%|█████████▌| 46233/48549 [01:02<00:03, 604.63it/s]\u001b[A\u001b[A\n",
            "\n",
            " 95%|█████████▌| 46299/48549 [01:03<00:03, 619.39it/s]\u001b[A\u001b[A\n",
            "\n",
            " 95%|█████████▌| 46362/48549 [01:03<00:03, 570.52it/s]\u001b[A\u001b[A\n",
            "\n",
            " 96%|█████████▌| 46428/48549 [01:03<00:03, 590.63it/s]\u001b[A\u001b[A\n",
            "\n",
            " 96%|█████████▌| 46492/48549 [01:03<00:03, 602.19it/s]\u001b[A\u001b[A\n",
            "\n",
            " 96%|█████████▌| 46560/48549 [01:03<00:03, 623.31it/s]\u001b[A\u001b[A\n",
            "\n",
            " 96%|█████████▌| 46633/48549 [01:03<00:02, 650.30it/s]\u001b[A\u001b[A\n",
            "\n",
            " 96%|█████████▌| 46699/48549 [01:03<00:02, 633.72it/s]\u001b[A\u001b[A\n",
            "\n",
            " 96%|█████████▋| 46764/48549 [01:03<00:02, 628.54it/s]\u001b[A\u001b[A\n",
            "\n",
            " 96%|█████████▋| 46828/48549 [01:03<00:02, 626.35it/s]\u001b[A\u001b[A\n",
            "\n",
            " 97%|█████████▋| 46891/48549 [01:04<00:02, 619.85it/s]\u001b[A\u001b[A\n",
            "\n",
            " 97%|█████████▋| 46959/48549 [01:04<00:02, 635.09it/s]\u001b[A\u001b[A\n",
            "\n",
            " 97%|█████████▋| 47023/48549 [01:04<00:02, 584.45it/s]\u001b[A\u001b[A\n",
            "\n",
            " 97%|█████████▋| 47090/48549 [01:04<00:02, 604.39it/s]\u001b[A\u001b[A\n",
            "\n",
            " 97%|█████████▋| 47153/48549 [01:04<00:02, 609.71it/s]\u001b[A\u001b[A\n",
            "\n",
            " 97%|█████████▋| 47215/48549 [01:04<00:02, 595.11it/s]\u001b[A\u001b[A\n",
            "\n",
            " 97%|█████████▋| 47276/48549 [01:04<00:02, 588.38it/s]\u001b[A\u001b[A\n",
            "\n",
            " 98%|█████████▊| 47338/48549 [01:04<00:02, 596.53it/s]\u001b[A\u001b[A\n",
            "\n",
            " 98%|█████████▊| 47402/48549 [01:04<00:01, 594.35it/s]\u001b[A\u001b[A\n",
            "\n",
            " 98%|█████████▊| 47462/48549 [01:04<00:01, 588.99it/s]\u001b[A\u001b[A\n",
            "\n",
            " 98%|█████████▊| 47522/48549 [01:05<00:01, 553.19it/s]\u001b[A\u001b[A\n",
            "\n",
            " 98%|█████████▊| 47578/48549 [01:05<00:01, 549.19it/s]\u001b[A\u001b[A\n",
            "\n",
            " 98%|█████████▊| 47648/48549 [01:05<00:01, 582.09it/s]\u001b[A\u001b[A\n",
            "\n",
            " 98%|█████████▊| 47713/48549 [01:05<00:01, 600.24it/s]\u001b[A\u001b[A\n",
            "\n",
            " 98%|█████████▊| 47776/48549 [01:05<00:01, 608.37it/s]\u001b[A\u001b[A\n",
            "\n",
            " 99%|█████████▊| 47841/48549 [01:05<00:01, 618.97it/s]\u001b[A\u001b[A\n",
            "\n",
            " 99%|█████████▊| 47905/48549 [01:05<00:01, 624.44it/s]\u001b[A\u001b[A\n",
            "\n",
            " 99%|█████████▉| 47968/48549 [01:05<00:00, 623.10it/s]\u001b[A\u001b[A\n",
            "\n",
            " 99%|█████████▉| 48033/48549 [01:05<00:00, 630.08it/s]\u001b[A\u001b[A\n",
            "\n",
            " 99%|█████████▉| 48097/48549 [01:06<00:00, 614.19it/s]\u001b[A\u001b[A\n",
            "\n",
            " 99%|█████████▉| 48159/48549 [01:06<00:00, 593.31it/s]\u001b[A\u001b[A\n",
            "\n",
            " 99%|█████████▉| 48219/48549 [01:06<00:00, 593.56it/s]\u001b[A\u001b[A\n",
            "\n",
            " 99%|█████████▉| 48280/48549 [01:06<00:00, 591.06it/s]\u001b[A\u001b[A\n",
            "\n",
            "100%|█████████▉| 48340/48549 [01:06<00:00, 586.48it/s]\u001b[A\u001b[A\n",
            "\n",
            "100%|█████████▉| 48399/48549 [01:06<00:00, 567.27it/s]\u001b[A\u001b[A\n",
            "\n",
            "100%|█████████▉| 48456/48549 [01:06<00:00, 552.47it/s]\u001b[A\u001b[A\n",
            "\n",
            "100%|█████████▉| 48512/48549 [01:06<00:00, 541.28it/s]\u001b[A\u001b[A\n",
            "\n",
            "100%|██████████| 48549/48549 [01:06<00:00, 726.25it/s]\u001b[A\u001b[A"
          ],
          "name": "stderr"
        }
      ]
    },
    {
      "cell_type": "code",
      "metadata": {
        "id": "YCKuLTBmYU9A",
        "colab_type": "code",
        "colab": {
          "base_uri": "https://localhost:8080/",
          "height": 34
        },
        "outputId": "a1508b43-f178-40be-ee88-20ea99a182c8"
      },
      "source": [
        "len(preprocessed_text)"
      ],
      "execution_count": 70,
      "outputs": [
        {
          "output_type": "execute_result",
          "data": {
            "text/plain": [
              "48549"
            ]
          },
          "metadata": {
            "tags": []
          },
          "execution_count": 70
        }
      ]
    },
    {
      "cell_type": "code",
      "metadata": {
        "id": "0ky3gUK0bDIX",
        "colab_type": "code",
        "colab": {
          "base_uri": "https://localhost:8080/",
          "height": 34
        },
        "outputId": "7c930709-1937-4b15-bcae-7b07f501a4d6"
      },
      "source": [
        "preprocessed_text[0]"
      ],
      "execution_count": 71,
      "outputs": [
        {
          "output_type": "execute_result",
          "data": {
            "text/plain": [
              "'sinc recruit lead permiss approv requisit make pleas make thank recruit'"
            ]
          },
          "metadata": {
            "tags": []
          },
          "execution_count": 71
        }
      ]
    },
    {
      "cell_type": "code",
      "metadata": {
        "id": "eEbeEqT7YLlF",
        "colab_type": "code",
        "colab": {}
      },
      "source": [
        "dfTickets['Preprocessed_Text'] = preprocessed_text\n"
      ],
      "execution_count": 0,
      "outputs": []
    },
    {
      "cell_type": "code",
      "metadata": {
        "id": "uMhteibbYYBP",
        "colab_type": "code",
        "colab": {
          "base_uri": "https://localhost:8080/",
          "height": 204
        },
        "outputId": "a4a6fed0-f935-48fe-fb71-19bc1579a8a1"
      },
      "source": [
        "dfTickets[['body','Preprocessed_Text','ticket_type']].head()"
      ],
      "execution_count": 73,
      "outputs": [
        {
          "output_type": "execute_result",
          "data": {
            "text/html": [
              "<div>\n",
              "<style scoped>\n",
              "    .dataframe tbody tr th:only-of-type {\n",
              "        vertical-align: middle;\n",
              "    }\n",
              "\n",
              "    .dataframe tbody tr th {\n",
              "        vertical-align: top;\n",
              "    }\n",
              "\n",
              "    .dataframe thead th {\n",
              "        text-align: right;\n",
              "    }\n",
              "</style>\n",
              "<table border=\"1\" class=\"dataframe\">\n",
              "  <thead>\n",
              "    <tr style=\"text-align: right;\">\n",
              "      <th></th>\n",
              "      <th>body</th>\n",
              "      <th>Preprocessed_Text</th>\n",
              "      <th>ticket_type</th>\n",
              "    </tr>\n",
              "  </thead>\n",
              "  <tbody>\n",
              "    <tr>\n",
              "      <th>0</th>\n",
              "      <td>hi since recruiter lead permission approve req...</td>\n",
              "      <td>sinc recruit lead permiss approv requisit make...</td>\n",
              "      <td>1</td>\n",
              "    </tr>\n",
              "    <tr>\n",
              "      <th>1</th>\n",
              "      <td>icon dear please setup icon per icon engineers...</td>\n",
              "      <td>icon dear pleas setup icon per icon engin plea...</td>\n",
              "      <td>1</td>\n",
              "    </tr>\n",
              "    <tr>\n",
              "      <th>2</th>\n",
              "      <td>work experience user hi work experience studen...</td>\n",
              "      <td>work experi user work experi student come next...</td>\n",
              "      <td>1</td>\n",
              "    </tr>\n",
              "    <tr>\n",
              "      <th>3</th>\n",
              "      <td>requesting meeting hi please help follow equip...</td>\n",
              "      <td>request meet pleas help follow equip cabl cord...</td>\n",
              "      <td>1</td>\n",
              "    </tr>\n",
              "    <tr>\n",
              "      <th>4</th>\n",
              "      <td>re expire days hi ask help update passwords co...</td>\n",
              "      <td>expir day ask help updat password colleagu tha...</td>\n",
              "      <td>1</td>\n",
              "    </tr>\n",
              "  </tbody>\n",
              "</table>\n",
              "</div>"
            ],
            "text/plain": [
              "                                                body  ... ticket_type\n",
              "0  hi since recruiter lead permission approve req...  ...           1\n",
              "1  icon dear please setup icon per icon engineers...  ...           1\n",
              "2  work experience user hi work experience studen...  ...           1\n",
              "3  requesting meeting hi please help follow equip...  ...           1\n",
              "4  re expire days hi ask help update passwords co...  ...           1\n",
              "\n",
              "[5 rows x 3 columns]"
            ]
          },
          "metadata": {
            "tags": []
          },
          "execution_count": 73
        }
      ]
    },
    {
      "cell_type": "markdown",
      "metadata": {
        "id": "OQkL3OqX5xmH",
        "colab_type": "text"
      },
      "source": [
        "## Identify the Predictors and Labels"
      ]
    },
    {
      "cell_type": "code",
      "metadata": {
        "id": "356mw2NC51D4",
        "colab_type": "code",
        "colab": {}
      },
      "source": [
        "X = dfTickets['Preprocessed_Text']\n",
        "Y = dfTickets['ticket_type']"
      ],
      "execution_count": 0,
      "outputs": []
    },
    {
      "cell_type": "markdown",
      "metadata": {
        "id": "nWs7xLzJ6fwE",
        "colab_type": "text"
      },
      "source": [
        "## Test Train Split data"
      ]
    },
    {
      "cell_type": "code",
      "metadata": {
        "id": "ibefqKf56iSE",
        "colab_type": "code",
        "colab": {}
      },
      "source": [
        "X_train,X_test,y_train,y_test = train_test_split(X,Y,test_size=0.2,random_state=1)"
      ],
      "execution_count": 0,
      "outputs": []
    },
    {
      "cell_type": "code",
      "metadata": {
        "id": "gDOnMT_O7iOU",
        "colab_type": "code",
        "outputId": "3ba66ad9-292c-4f60-9350-a6a33ab276fc",
        "colab": {
          "base_uri": "https://localhost:8080/",
          "height": 119
        }
      },
      "source": [
        "X_train.head()"
      ],
      "execution_count": 76,
      "outputs": [
        {
          "output_type": "execute_result",
          "data": {
            "text/plain": [
              "4208     colleagu good morn pleas colleagu pleas add th...\n",
              "10155    wednesday leaver form leav date locat hello le...\n",
              "30748    leader hello pleas add also pleas chang owner ...\n",
              "7251     help hello group enrol pleas find thank lead t...\n",
              "26310    novemb hello pleas employe updat serbian entit...\n",
              "Name: Preprocessed_Text, dtype: object"
            ]
          },
          "metadata": {
            "tags": []
          },
          "execution_count": 76
        }
      ]
    },
    {
      "cell_type": "code",
      "metadata": {
        "id": "7Y-Z3CzAc99H",
        "colab_type": "code",
        "colab": {
          "base_uri": "https://localhost:8080/",
          "height": 119
        },
        "outputId": "dbc25dea-0dc9-4b11-ca5b-cbfe1bedaa82"
      },
      "source": [
        "X_test.head()"
      ],
      "execution_count": 77,
      "outputs": [
        {
          "output_type": "execute_result",
          "data": {
            "text/plain": [
              "832      purchas dear purchas pleas log alloc pleas log...\n",
              "25705    thursday decemb replac regular dear ask replac...\n",
              "22008    friday februari assist starter test disciplin ...\n",
              "27630                                              encrypt\n",
              "28505    tuesday octob add colleagu pleas hello told as...\n",
              "Name: Preprocessed_Text, dtype: object"
            ]
          },
          "metadata": {
            "tags": []
          },
          "execution_count": 77
        }
      ]
    },
    {
      "cell_type": "markdown",
      "metadata": {
        "id": "tniCJITu60IE",
        "colab_type": "text"
      },
      "source": [
        "## Generate Features from text"
      ]
    },
    {
      "cell_type": "code",
      "metadata": {
        "id": "zY7-xKG17V9G",
        "colab_type": "code",
        "outputId": "9118ae71-04b1-4187-de17-c85b2947f428",
        "colab": {
          "base_uri": "https://localhost:8080/",
          "height": 34
        }
      },
      "source": [
        "vectorizer = CountVectorizer(min_df=1, lowercase=False)\n",
        "X_train_counts = vectorizer.fit_transform(X_train)\n",
        "X_train_counts.shape"
      ],
      "execution_count": 78,
      "outputs": [
        {
          "output_type": "execute_result",
          "data": {
            "text/plain": [
              "(38839, 6379)"
            ]
          },
          "metadata": {
            "tags": []
          },
          "execution_count": 78
        }
      ]
    },
    {
      "cell_type": "code",
      "metadata": {
        "id": "Mr9iPjQH9vCd",
        "colab_type": "code",
        "outputId": "3f56056c-4647-4923-cb03-6c8cfdf762c0",
        "colab": {
          "base_uri": "https://localhost:8080/",
          "height": 34
        }
      },
      "source": [
        "X_test_counts = vectorizer.fit_transform(X_test)\n",
        "X_test_counts.shape"
      ],
      "execution_count": 79,
      "outputs": [
        {
          "output_type": "execute_result",
          "data": {
            "text/plain": [
              "(9710, 4462)"
            ]
          },
          "metadata": {
            "tags": []
          },
          "execution_count": 79
        }
      ]
    },
    {
      "cell_type": "markdown",
      "metadata": {
        "id": "s-6Bag179YzH",
        "colab_type": "text"
      },
      "source": [
        "## Feature Extraction using TFIDF"
      ]
    },
    {
      "cell_type": "code",
      "metadata": {
        "id": "eWiY8dC49WA6",
        "colab_type": "code",
        "outputId": "d69fa2da-ca0f-44dc-cfa1-4caf4dba7759",
        "colab": {
          "base_uri": "https://localhost:8080/",
          "height": 34
        }
      },
      "source": [
        "tfidf_transformer = TfidfTransformer()\n",
        "X_train_tfidf = tfidf_transformer.fit_transform(X_train_counts)\n",
        "X_train_tfidf.shape"
      ],
      "execution_count": 80,
      "outputs": [
        {
          "output_type": "execute_result",
          "data": {
            "text/plain": [
              "(38839, 6379)"
            ]
          },
          "metadata": {
            "tags": []
          },
          "execution_count": 80
        }
      ]
    },
    {
      "cell_type": "code",
      "metadata": {
        "id": "QmKNGKO893fT",
        "colab_type": "code",
        "outputId": "7d8b0bf1-6f8d-4624-bb92-05ca42b4d0c5",
        "colab": {
          "base_uri": "https://localhost:8080/",
          "height": 34
        }
      },
      "source": [
        "X_test_tfidf = tfidf_transformer.fit_transform(X_test_counts)\n",
        "X_test_tfidf.shape"
      ],
      "execution_count": 81,
      "outputs": [
        {
          "output_type": "execute_result",
          "data": {
            "text/plain": [
              "(9710, 4462)"
            ]
          },
          "metadata": {
            "tags": []
          },
          "execution_count": 81
        }
      ]
    },
    {
      "cell_type": "markdown",
      "metadata": {
        "id": "4hpnbdF8-Nvv",
        "colab_type": "text"
      },
      "source": [
        "## Using pipeline to preprocess data and train classifier"
      ]
    },
    {
      "cell_type": "markdown",
      "metadata": {
        "id": "mOA8IoxBiYvy",
        "colab_type": "text"
      },
      "source": [
        "##  Building a pipeline: We can write less code and do all of the above, by building a pipeline as follows:\n",
        "\n",
        "\n",
        "The names ‘vect’ , ‘tfidf’ and ‘clf’ are arbitrary but will be used later.\n",
        "\n",
        "We will be using the 'text_clf' going forward."
      ]
    },
    {
      "cell_type": "code",
      "metadata": {
        "id": "M7ZEPeLG-OuQ",
        "colab_type": "code",
        "colab": {}
      },
      "source": [
        "text_clf = Pipeline([\n",
        "        ('vect', vectorizer),\n",
        "        ('tfidf', tfidf_transformer),\n",
        "        ('clf', MultinomialNB(fit_prior=True))])"
      ],
      "execution_count": 0,
      "outputs": []
    },
    {
      "cell_type": "code",
      "metadata": {
        "id": "PyknO7igjq67",
        "colab_type": "code",
        "colab": {}
      },
      "source": [
        " text_clf = text_clf.fit(X_train,y_train)"
      ],
      "execution_count": 0,
      "outputs": []
    },
    {
      "cell_type": "markdown",
      "metadata": {
        "id": "ZLzL4vDnkpTj",
        "colab_type": "text"
      },
      "source": [
        "## Use GridSearchCV to search for best set of parameters"
      ]
    },
    {
      "cell_type": "code",
      "metadata": {
        "id": "3bGlofYJkudP",
        "colab_type": "code",
        "colab": {}
      },
      "source": [
        "# NB parameters\n",
        "parameters = {\n",
        "        'vect__ngram_range': [(1, 1), (1, 2)],\n",
        "        'tfidf__use_idf': (True, False),\n",
        "        'clf__alpha': (1e-2, 1e-3)\n",
        "    }"
      ],
      "execution_count": 0,
      "outputs": []
    },
    {
      "cell_type": "markdown",
      "metadata": {
        "id": "UKqY3O3vlJ4f",
        "colab_type": "text"
      },
      "source": [
        " ## Next, we create an instance of the grid search by passing the classifier, parameters and n_jobs=-1 which tells to use multiple cores from user machine."
      ]
    },
    {
      "cell_type": "code",
      "metadata": {
        "id": "UhqoG3P8lM7P",
        "colab_type": "code",
        "colab": {
          "base_uri": "https://localhost:8080/",
          "height": 615
        },
        "outputId": "556dee60-5fc0-4f2a-ea5f-795300051115"
      },
      "source": [
        "grid = GridSearchCV(text_clf,parameters,n_jobs=-1)\n",
        "grid.fit(X_train,y_train)"
      ],
      "execution_count": 88,
      "outputs": [
        {
          "output_type": "stream",
          "text": [
            "/usr/local/lib/python3.6/dist-packages/sklearn/model_selection/_split.py:1978: FutureWarning: The default value of cv will change from 3 to 5 in version 0.22. Specify it explicitly to silence this warning.\n",
            "  warnings.warn(CV_WARNING, FutureWarning)\n"
          ],
          "name": "stderr"
        },
        {
          "output_type": "execute_result",
          "data": {
            "text/plain": [
              "GridSearchCV(cv='warn', error_score='raise-deprecating',\n",
              "             estimator=Pipeline(memory=None,\n",
              "                                steps=[('vect',\n",
              "                                        CountVectorizer(analyzer='word',\n",
              "                                                        binary=False,\n",
              "                                                        decode_error='strict',\n",
              "                                                        dtype=<class 'numpy.int64'>,\n",
              "                                                        encoding='utf-8',\n",
              "                                                        input='content',\n",
              "                                                        lowercase=False,\n",
              "                                                        max_df=1.0,\n",
              "                                                        max_features=None,\n",
              "                                                        min_df=1,\n",
              "                                                        ngram_range=(1, 1),\n",
              "                                                        preprocessor=None,\n",
              "                                                        stop_words=None,\n",
              "                                                        strip_accents=No...\n",
              "                                        TfidfTransformer(norm='l2',\n",
              "                                                         smooth_idf=True,\n",
              "                                                         sublinear_tf=False,\n",
              "                                                         use_idf=True)),\n",
              "                                       ('clf',\n",
              "                                        MultinomialNB(alpha=1.0,\n",
              "                                                      class_prior=None,\n",
              "                                                      fit_prior=True))],\n",
              "                                verbose=False),\n",
              "             iid='warn', n_jobs=-1,\n",
              "             param_grid={'clf__alpha': (0.01, 0.001),\n",
              "                         'tfidf__use_idf': (True, False),\n",
              "                         'vect__ngram_range': [(1, 1), (1, 2)]},\n",
              "             pre_dispatch='2*n_jobs', refit=True, return_train_score=False,\n",
              "             scoring=None, verbose=0)"
            ]
          },
          "metadata": {
            "tags": []
          },
          "execution_count": 88
        }
      ]
    },
    {
      "cell_type": "markdown",
      "metadata": {
        "id": "a87n-Tg-mreW",
        "colab_type": "text"
      },
      "source": [
        "## Best Parameters selected via Grid Search"
      ]
    },
    {
      "cell_type": "code",
      "metadata": {
        "id": "ahjBP05MnOZt",
        "colab_type": "code",
        "colab": {
          "base_uri": "https://localhost:8080/",
          "height": 34
        },
        "outputId": "c28ff00d-654f-4473-d17f-f16cda8db156"
      },
      "source": [
        "grid.best_params_"
      ],
      "execution_count": 90,
      "outputs": [
        {
          "output_type": "execute_result",
          "data": {
            "text/plain": [
              "{'clf__alpha': 0.01, 'tfidf__use_idf': False, 'vect__ngram_range': (1, 1)}"
            ]
          },
          "metadata": {
            "tags": []
          },
          "execution_count": 90
        }
      ]
    },
    {
      "cell_type": "markdown",
      "metadata": {
        "id": "xbIve81FoA2L",
        "colab_type": "text"
      },
      "source": [
        "##Best Scores"
      ]
    },
    {
      "cell_type": "code",
      "metadata": {
        "id": "LCDti82pn_9A",
        "colab_type": "code",
        "colab": {
          "base_uri": "https://localhost:8080/",
          "height": 34
        },
        "outputId": "7570228d-491b-493b-f3ef-85d6fd930c6b"
      },
      "source": [
        "grid.best_score_"
      ],
      "execution_count": 92,
      "outputs": [
        {
          "output_type": "execute_result",
          "data": {
            "text/plain": [
              "0.9676356239861994"
            ]
          },
          "metadata": {
            "tags": []
          },
          "execution_count": 92
        }
      ]
    },
    {
      "cell_type": "markdown",
      "metadata": {
        "id": "MV1tbRJyoMn0",
        "colab_type": "text"
      },
      "source": [
        "## Evaluate the model"
      ]
    },
    {
      "cell_type": "code",
      "metadata": {
        "id": "JXvt2mnBoOAm",
        "colab_type": "code",
        "colab": {}
      },
      "source": [
        "predicted = text_clf.predict(X_test)\n"
      ],
      "execution_count": 0,
      "outputs": []
    },
    {
      "cell_type": "markdown",
      "metadata": {
        "id": "eD6j_KVAozZH",
        "colab_type": "text"
      },
      "source": [
        "## Accuracy of the predictions without using best parmeters obtained from grid search "
      ]
    },
    {
      "cell_type": "code",
      "metadata": {
        "id": "yQ2AxWXzo6BA",
        "colab_type": "code",
        "colab": {
          "base_uri": "https://localhost:8080/",
          "height": 34
        },
        "outputId": "fcf0857d-62bc-4252-c6de-2e1c76156606"
      },
      "source": [
        "from sklearn.metrics import accuracy_score\n",
        "print(\"Accuracy Score of the model {}%\".format(accuracy_score(y_test,predicted)*100))"
      ],
      "execution_count": 103,
      "outputs": [
        {
          "output_type": "stream",
          "text": [
            "Accuracy Score of the model 95.5406797116375%\n"
          ],
          "name": "stdout"
        }
      ]
    },
    {
      "cell_type": "markdown",
      "metadata": {
        "id": "JYoAMFwfqfvJ",
        "colab_type": "text"
      },
      "source": [
        "## Evaluate the model based on the best parameters fro grid search"
      ]
    },
    {
      "cell_type": "code",
      "metadata": {
        "id": "iQkFqZjwqlWu",
        "colab_type": "code",
        "colab": {}
      },
      "source": [
        "predicted_grid = grid.predict(X_test)"
      ],
      "execution_count": 0,
      "outputs": []
    },
    {
      "cell_type": "markdown",
      "metadata": {
        "id": "yzkJuuZDq0fG",
        "colab_type": "text"
      },
      "source": [
        "## Accuracy of the predictions using best parmeters obtained from grid "
      ]
    },
    {
      "cell_type": "code",
      "metadata": {
        "id": "bjAJKCotq3nE",
        "colab_type": "code",
        "colab": {
          "base_uri": "https://localhost:8080/",
          "height": 34
        },
        "outputId": "8fbf5bb3-fd34-465c-fa3c-3bc013ed2ef9"
      },
      "source": [
        "print(\"Accuracy Score of the model {}%\".format(accuracy_score(y_test,predicted_grid)*100))"
      ],
      "execution_count": 102,
      "outputs": [
        {
          "output_type": "stream",
          "text": [
            "Accuracy Score of the model 96.4572605561277%\n"
          ],
          "name": "stdout"
        }
      ]
    },
    {
      "cell_type": "markdown",
      "metadata": {
        "id": "4bvikFjYrC3F",
        "colab_type": "text"
      },
      "source": [
        "## Confusion Matrix"
      ]
    },
    {
      "cell_type": "code",
      "metadata": {
        "id": "A2mLgH5bsAy0",
        "colab_type": "code",
        "colab": {
          "base_uri": "https://localhost:8080/",
          "height": 51
        },
        "outputId": "5739123f-983b-47db-a301-f27cdbaacb45"
      },
      "source": [
        "from sklearn.metrics import confusion_matrix\n",
        "print(confusion_matrix(y_test,predicted))"
      ],
      "execution_count": 100,
      "outputs": [
        {
          "output_type": "stream",
          "text": [
            "[[2482  265]\n",
            " [ 168 6795]]\n"
          ],
          "name": "stdout"
        }
      ]
    },
    {
      "cell_type": "markdown",
      "metadata": {
        "id": "gLErzJ6WsWA3",
        "colab_type": "text"
      },
      "source": [
        "## Confusion Matrix - Grid Search"
      ]
    },
    {
      "cell_type": "code",
      "metadata": {
        "id": "OXspc481sRlO",
        "colab_type": "code",
        "colab": {
          "base_uri": "https://localhost:8080/",
          "height": 51
        },
        "outputId": "658a491f-3839-497d-8ffa-b39d76c1d078"
      },
      "source": [
        "print(confusion_matrix(y_test,predicted_grid))"
      ],
      "execution_count": 101,
      "outputs": [
        {
          "output_type": "stream",
          "text": [
            "[[2578  169]\n",
            " [ 175 6788]]\n"
          ],
          "name": "stdout"
        }
      ]
    },
    {
      "cell_type": "markdown",
      "metadata": {
        "id": "TbC_fqDAsvMI",
        "colab_type": "text"
      },
      "source": [
        "## Plot Confusion Matrix - without grid search"
      ]
    },
    {
      "cell_type": "code",
      "metadata": {
        "id": "bHU1zGJJuDzS",
        "colab_type": "code",
        "colab": {
          "base_uri": "https://localhost:8080/",
          "height": 300
        },
        "outputId": "187d69c4-976e-4bc8-c799-e33e8be4e545"
      },
      "source": [
        "import seaborn as sns\n",
        "mat1 = confusion_matrix(y_test,predicted)\n",
        "sns.heatmap(mat1,annot=True,fmt='d', cbar=False)\n",
        "plt.ylabel('true label')\n",
        "plt.xlabel('predicted label')"
      ],
      "execution_count": 112,
      "outputs": [
        {
          "output_type": "execute_result",
          "data": {
            "text/plain": [
              "Text(0.5, 15.0, 'predicted label')"
            ]
          },
          "metadata": {
            "tags": []
          },
          "execution_count": 112
        },
        {
          "output_type": "display_data",
          "data": {
            "image/png": "[encoded data removed]",
            "text/plain": [
              "<Figure size 432x288 with 1 Axes>"
            ]
          },
          "metadata": {
            "tags": []
          }
        }
      ]
    },
    {
      "cell_type": "markdown",
      "metadata": {
        "id": "9DIte8YsxVBm",
        "colab_type": "text"
      },
      "source": [
        "##Plot Confusion Matrix - with grid search"
      ]
    },
    {
      "cell_type": "code",
      "metadata": {
        "id": "dCx35BhLyRA5",
        "colab_type": "code",
        "colab": {
          "base_uri": "https://localhost:8080/",
          "height": 300
        },
        "outputId": "3e39c814-57b9-41f7-9b43-4b16453ca0f3"
      },
      "source": [
        "mat2 = confusion_matrix(y_test,predicted_grid)\n",
        "sns.heatmap(mat2,annot=True,fmt='d',cbar=False)\n",
        "plt.ylabel('True label')\n",
        "plt.xlabel('Predicted label')"
      ],
      "execution_count": 119,
      "outputs": [
        {
          "output_type": "execute_result",
          "data": {
            "text/plain": [
              "Text(0.5, 15.0, 'Predicted label')"
            ]
          },
          "metadata": {
            "tags": []
          },
          "execution_count": 119
        },
        {
          "output_type": "display_data",
          "data": {
            "image/png": "[encoded data removed]",
            "text/plain": [
              "<Figure size 432x288 with 1 Axes>"
            ]
          },
          "metadata": {
            "tags": []
          }
        }
      ]
    },
    {
      "cell_type": "code",
      "metadata": {
        "id": "56VZKbPXyoJo",
        "colab_type": "code",
        "colab": {
          "base_uri": "https://localhost:8080/",
          "height": 292
        },
        "outputId": "e37ea5e4-1cd4-40c5-e806-b04bd552af38"
      },
      "source": [
        "!pip install scikit-plot"
      ],
      "execution_count": 116,
      "outputs": [
        {
          "output_type": "stream",
          "text": [
            "Collecting scikit-plot\n",
            "  Downloading https://files.pythonhosted.org/packages/7c/47/32520e259340c140a4ad27c1b97050dd3254fdc517b1d59974d47037510e/scikit_plot-0.3.7-py3-none-any.whl\n",
            "Requirement already satisfied: joblib>=0.10 in /usr/local/lib/python3.6/dist-packages (from scikit-plot) (0.13.2)\n",
            "Requirement already satisfied: scipy>=0.9 in /usr/local/lib/python3.6/dist-packages (from scikit-plot) (1.3.0)\n",
            "Requirement already satisfied: scikit-learn>=0.18 in /usr/local/lib/python3.6/dist-packages (from scikit-plot) (0.21.2)\n",
            "Requirement already satisfied: matplotlib>=1.4.0 in /usr/local/lib/python3.6/dist-packages (from scikit-plot) (3.0.3)\n",
            "Requirement already satisfied: numpy>=1.13.3 in /usr/local/lib/python3.6/dist-packages (from scipy>=0.9->scikit-plot) (1.16.4)\n",
            "Requirement already satisfied: cycler>=0.10 in /usr/local/lib/python3.6/dist-packages (from matplotlib>=1.4.0->scikit-plot) (0.10.0)\n",
            "Requirement already satisfied: kiwisolver>=1.0.1 in /usr/local/lib/python3.6/dist-packages (from matplotlib>=1.4.0->scikit-plot) (1.1.0)\n",
            "Requirement already satisfied: python-dateutil>=2.1 in /usr/local/lib/python3.6/dist-packages (from matplotlib>=1.4.0->scikit-plot) (2.5.3)\n",
            "Requirement already satisfied: pyparsing!=2.0.4,!=2.1.2,!=2.1.6,>=2.0.1 in /usr/local/lib/python3.6/dist-packages (from matplotlib>=1.4.0->scikit-plot) (2.4.0)\n",
            "Requirement already satisfied: six in /usr/local/lib/python3.6/dist-packages (from cycler>=0.10->matplotlib>=1.4.0->scikit-plot) (1.12.0)\n",
            "Requirement already satisfied: setuptools in /usr/local/lib/python3.6/dist-packages (from kiwisolver>=1.0.1->matplotlib>=1.4.0->scikit-plot) (41.0.1)\n",
            "Installing collected packages: scikit-plot\n",
            "Successfully installed scikit-plot-0.3.7\n"
          ],
          "name": "stdout"
        }
      ]
    },
    {
      "cell_type": "code",
      "metadata": {
        "id": "XTDoRduJy184",
        "colab_type": "code",
        "colab": {
          "base_uri": "https://localhost:8080/",
          "height": 312
        },
        "outputId": "97c7fbc0-c454-4955-e4fe-32caae5363d0"
      },
      "source": [
        "import scikitplot\n",
        "scikitplot.metrics.plot_confusion_matrix(y_test,predicted_grid)"
      ],
      "execution_count": 118,
      "outputs": [
        {
          "output_type": "execute_result",
          "data": {
            "text/plain": [
              "<matplotlib.axes._subplots.AxesSubplot at 0x7fd46f2dc748>"
            ]
          },
          "metadata": {
            "tags": []
          },
          "execution_count": 118
        },
        {
          "output_type": "display_data",
          "data": {
            "image/png": "[encoded data removed]",
            "text/plain": [
              "<Figure size 432x288 with 2 Axes>"
            ]
          },
          "metadata": {
            "tags": []
          }
        }
      ]
    },
    {
      "cell_type": "code",
      "metadata": {
        "id": "vO8YqgJCzyJN",
        "colab_type": "code",
        "colab": {
          "base_uri": "https://localhost:8080/",
          "height": 170
        },
        "outputId": "afe632c1-730b-414a-883b-f63bbf825b3f"
      },
      "source": [
        "from sklearn.metrics import classification_report\n",
        "print(classification_report(y_test, predicted_grid))"
      ],
      "execution_count": 124,
      "outputs": [
        {
          "output_type": "stream",
          "text": [
            "              precision    recall  f1-score   support\n",
            "\n",
            "           0       0.94      0.94      0.94      2747\n",
            "           1       0.98      0.97      0.98      6963\n",
            "\n",
            "    accuracy                           0.96      9710\n",
            "   macro avg       0.96      0.96      0.96      9710\n",
            "weighted avg       0.96      0.96      0.96      9710\n",
            "\n"
          ],
          "name": "stdout"
        }
      ]
    },
    {
      "cell_type": "code",
      "metadata": {
        "id": "yubhxt21zLuR",
        "colab_type": "code",
        "colab": {}
      },
      "source": [
        "df_pred = pd.DataFrame({'Test_body':X_test,'Actual_ticket_type':y_test,'Predicted_ticket_type':predicted_grid})"
      ],
      "execution_count": 0,
      "outputs": []
    },
    {
      "cell_type": "code",
      "metadata": {
        "id": "Q3JykTEOzfmq",
        "colab_type": "code",
        "colab": {
          "base_uri": "https://localhost:8080/",
          "height": 359
        },
        "outputId": "65491514-7ba1-487e-af64-29bd9d0f5f00"
      },
      "source": [
        "df_pred.head(10)"
      ],
      "execution_count": 121,
      "outputs": [
        {
          "output_type": "execute_result",
          "data": {
            "text/html": [
              "<div>\n",
              "<style scoped>\n",
              "    .dataframe tbody tr th:only-of-type {\n",
              "        vertical-align: middle;\n",
              "    }\n",
              "\n",
              "    .dataframe tbody tr th {\n",
              "        vertical-align: top;\n",
              "    }\n",
              "\n",
              "    .dataframe thead th {\n",
              "        text-align: right;\n",
              "    }\n",
              "</style>\n",
              "<table border=\"1\" class=\"dataframe\">\n",
              "  <thead>\n",
              "    <tr style=\"text-align: right;\">\n",
              "      <th></th>\n",
              "      <th>Test_body</th>\n",
              "      <th>Actual_ticket_type</th>\n",
              "      <th>Predicted_ticket_type</th>\n",
              "    </tr>\n",
              "  </thead>\n",
              "  <tbody>\n",
              "    <tr>\n",
              "      <th>832</th>\n",
              "      <td>purchas dear purchas pleas log alloc pleas log...</td>\n",
              "      <td>1</td>\n",
              "      <td>1</td>\n",
              "    </tr>\n",
              "    <tr>\n",
              "      <th>25705</th>\n",
              "      <td>thursday decemb replac regular dear ask replac...</td>\n",
              "      <td>1</td>\n",
              "      <td>1</td>\n",
              "    </tr>\n",
              "    <tr>\n",
              "      <th>22008</th>\n",
              "      <td>friday februari assist starter test disciplin ...</td>\n",
              "      <td>1</td>\n",
              "      <td>1</td>\n",
              "    </tr>\n",
              "    <tr>\n",
              "      <th>27630</th>\n",
              "      <td>encrypt</td>\n",
              "      <td>1</td>\n",
              "      <td>0</td>\n",
              "    </tr>\n",
              "    <tr>\n",
              "      <th>28505</th>\n",
              "      <td>tuesday octob add colleagu pleas hello told as...</td>\n",
              "      <td>1</td>\n",
              "      <td>1</td>\n",
              "    </tr>\n",
              "    <tr>\n",
              "      <th>36494</th>\n",
              "      <td>one issu hello tri access one download coupl p...</td>\n",
              "      <td>0</td>\n",
              "      <td>0</td>\n",
              "    </tr>\n",
              "    <tr>\n",
              "      <th>32744</th>\n",
              "      <td>wednesday pleas make code task thank let quest...</td>\n",
              "      <td>1</td>\n",
              "      <td>1</td>\n",
              "    </tr>\n",
              "    <tr>\n",
              "      <th>29184</th>\n",
              "      <td>octob test fix wire test octob readi help make...</td>\n",
              "      <td>1</td>\n",
              "      <td>1</td>\n",
              "    </tr>\n",
              "    <tr>\n",
              "      <th>4974</th>\n",
              "      <td>autom train hello novemb autom train novemb so...</td>\n",
              "      <td>1</td>\n",
              "      <td>1</td>\n",
              "    </tr>\n",
              "    <tr>\n",
              "      <th>15601</th>\n",
              "      <td>want boat march understand boat context propos...</td>\n",
              "      <td>1</td>\n",
              "      <td>1</td>\n",
              "    </tr>\n",
              "  </tbody>\n",
              "</table>\n",
              "</div>"
            ],
            "text/plain": [
              "                                               Test_body  ...  Predicted_ticket_type\n",
              "832    purchas dear purchas pleas log alloc pleas log...  ...                      1\n",
              "25705  thursday decemb replac regular dear ask replac...  ...                      1\n",
              "22008  friday februari assist starter test disciplin ...  ...                      1\n",
              "27630                                            encrypt  ...                      0\n",
              "28505  tuesday octob add colleagu pleas hello told as...  ...                      1\n",
              "36494  one issu hello tri access one download coupl p...  ...                      0\n",
              "32744  wednesday pleas make code task thank let quest...  ...                      1\n",
              "29184  octob test fix wire test octob readi help make...  ...                      1\n",
              "4974   autom train hello novemb autom train novemb so...  ...                      1\n",
              "15601  want boat march understand boat context propos...  ...                      1\n",
              "\n",
              "[10 rows x 3 columns]"
            ]
          },
          "metadata": {
            "tags": []
          },
          "execution_count": 121
        }
      ]
    }
  ]
}